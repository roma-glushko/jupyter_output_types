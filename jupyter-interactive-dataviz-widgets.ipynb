{
 "metadata": {
  "kernelspec": {
   "language": "python",
   "display_name": "Python 3",
   "name": "python3"
  },
  "language_info": {
   "name": "python",
   "version": "3.7.12",
   "mimetype": "text/x-python",
   "codemirror_mode": {
    "name": "ipython",
    "version": 3
   },
   "pygments_lexer": "ipython3",
   "nbconvert_exporter": "python",
   "file_extension": ".py"
  }
 },
 "nbformat_minor": 4,
 "nbformat": 4,
 "cells": [
  {
   "cell_type": "markdown",
   "source": [
    "# Jupyter Interactive DataViz Widgets  \n",
    "\n",
    "This notebook illustrates a complex output types that occur when working with some popular DataViz libs"
   ],
   "metadata": {}
  },
  {
   "cell_type": "code",
   "source": [
    "import pandas as pd\n",
    "import numpy as np\n",
    "\n",
    "import matplotlib.pyplot as plt\n",
    "import seaborn as sns\n",
    "import plotly.express as px"
   ],
   "metadata": {
    "_kg_hide-output": true,
    "execution": {
     "iopub.status.busy": "2022-01-21T11:07:49.559225Z",
     "iopub.execute_input": "2022-01-21T11:07:49.559580Z",
     "iopub.status.idle": "2022-01-21T11:07:51.682271Z",
     "shell.execute_reply.started": "2022-01-21T11:07:49.559483Z",
     "shell.execute_reply": "2022-01-21T11:07:51.681375Z"
    },
    "trusted": true
   },
   "execution_count": 29,
   "outputs": []
  },
  {
   "cell_type": "code",
   "source": [
    "dataset = pd.read_csv(\"./data/StudentsPerformance.csv\")"
   ],
   "metadata": {
    "execution": {
     "iopub.status.busy": "2022-01-21T11:07:51.683869Z",
     "iopub.execute_input": "2022-01-21T11:07:51.684127Z",
     "iopub.status.idle": "2022-01-21T11:07:51.713770Z",
     "shell.execute_reply.started": "2022-01-21T11:07:51.684088Z",
     "shell.execute_reply": "2022-01-21T11:07:51.713108Z"
    },
    "trusted": true
   },
   "execution_count": 30,
   "outputs": []
  },
  {
   "cell_type": "markdown",
   "source": [
    "## Plain Text\n",
    "\n",
    "The simplest possible response output:"
   ],
   "metadata": {}
  },
  {
   "cell_type": "code",
   "source": [
    "dataset.columns"
   ],
   "metadata": {
    "execution": {
     "iopub.status.busy": "2022-01-21T11:07:51.714869Z",
     "iopub.execute_input": "2022-01-21T11:07:51.715666Z",
     "iopub.status.idle": "2022-01-21T11:07:51.724202Z",
     "shell.execute_reply.started": "2022-01-21T11:07:51.715631Z",
     "shell.execute_reply": "2022-01-21T11:07:51.723205Z"
    },
    "trusted": true
   },
   "execution_count": 31,
   "outputs": [
    {
     "data": {
      "text/plain": "Index(['gender', 'race/ethnicity', 'parental level of education', 'lunch',\n       'test preparation course', 'math score', 'reading score',\n       'writing score'],\n      dtype='object')"
     },
     "execution_count": 31,
     "metadata": {},
     "output_type": "execute_result"
    }
   ]
  },
  {
   "cell_type": "markdown",
   "source": [
    "## Exception Trace\n",
    "\n",
    "Similar to the plain text but we may want to style it a bit differently to emphasize that error has occured:"
   ],
   "metadata": {}
  },
  {
   "cell_type": "code",
   "source": [
    "nottexistingvar"
   ],
   "metadata": {
    "execution": {
     "iopub.status.busy": "2022-01-21T11:07:51.725218Z",
     "iopub.execute_input": "2022-01-21T11:07:51.725600Z",
     "iopub.status.idle": "2022-01-21T11:07:51.847803Z",
     "shell.execute_reply.started": "2022-01-21T11:07:51.725564Z",
     "shell.execute_reply": "2022-01-21T11:07:51.846500Z"
    },
    "trusted": true
   },
   "execution_count": 32,
   "outputs": [
    {
     "ename": "NameError",
     "evalue": "name 'nottexistingvar' is not defined",
     "output_type": "error",
     "traceback": [
      "\u001B[0;31m---------------------------------------------------------------------------\u001B[0m",
      "\u001B[0;31mNameError\u001B[0m                                 Traceback (most recent call last)",
      "Input \u001B[0;32mIn [32]\u001B[0m, in \u001B[0;36m<module>\u001B[0;34m\u001B[0m\n\u001B[0;32m----> 1\u001B[0m \u001B[43mnottexistingvar\u001B[49m\n",
      "\u001B[0;31mNameError\u001B[0m: name 'nottexistingvar' is not defined"
     ]
    }
   ]
  },
  {
   "cell_type": "markdown",
   "source": [
    "## Tables\n",
    "\n",
    "Pandas is one of the most popular tools for data wrangling in Python. It can retrieve a table-like structure when you want to preview a dataframe:"
   ],
   "metadata": {}
  },
  {
   "cell_type": "code",
   "source": [
    "dataset.head()"
   ],
   "metadata": {
    "execution": {
     "iopub.status.busy": "2022-01-21T11:07:56.314286Z",
     "iopub.execute_input": "2022-01-21T11:07:56.314572Z",
     "iopub.status.idle": "2022-01-21T11:07:56.333561Z",
     "shell.execute_reply.started": "2022-01-21T11:07:56.314540Z",
     "shell.execute_reply": "2022-01-21T11:07:56.333032Z"
    },
    "trusted": true
   },
   "execution_count": 33,
   "outputs": [
    {
     "data": {
      "text/plain": "   gender race/ethnicity parental level of education         lunch  \\\n0  female        group B           bachelor's degree      standard   \n1  female        group C                some college      standard   \n2  female        group B             master's degree      standard   \n3    male        group A          associate's degree  free/reduced   \n4    male        group C                some college      standard   \n\n  test preparation course  math score  reading score  writing score  \n0                    none          72             72             74  \n1               completed          69             90             88  \n2                    none          90             95             93  \n3                    none          47             57             44  \n4                    none          76             78             75  ",
      "text/html": "<div>\n<style scoped>\n    .dataframe tbody tr th:only-of-type {\n        vertical-align: middle;\n    }\n\n    .dataframe tbody tr th {\n        vertical-align: top;\n    }\n\n    .dataframe thead th {\n        text-align: right;\n    }\n</style>\n<table border=\"1\" class=\"dataframe\">\n  <thead>\n    <tr style=\"text-align: right;\">\n      <th></th>\n      <th>gender</th>\n      <th>race/ethnicity</th>\n      <th>parental level of education</th>\n      <th>lunch</th>\n      <th>test preparation course</th>\n      <th>math score</th>\n      <th>reading score</th>\n      <th>writing score</th>\n    </tr>\n  </thead>\n  <tbody>\n    <tr>\n      <th>0</th>\n      <td>female</td>\n      <td>group B</td>\n      <td>bachelor's degree</td>\n      <td>standard</td>\n      <td>none</td>\n      <td>72</td>\n      <td>72</td>\n      <td>74</td>\n    </tr>\n    <tr>\n      <th>1</th>\n      <td>female</td>\n      <td>group C</td>\n      <td>some college</td>\n      <td>standard</td>\n      <td>completed</td>\n      <td>69</td>\n      <td>90</td>\n      <td>88</td>\n    </tr>\n    <tr>\n      <th>2</th>\n      <td>female</td>\n      <td>group B</td>\n      <td>master's degree</td>\n      <td>standard</td>\n      <td>none</td>\n      <td>90</td>\n      <td>95</td>\n      <td>93</td>\n    </tr>\n    <tr>\n      <th>3</th>\n      <td>male</td>\n      <td>group A</td>\n      <td>associate's degree</td>\n      <td>free/reduced</td>\n      <td>none</td>\n      <td>47</td>\n      <td>57</td>\n      <td>44</td>\n    </tr>\n    <tr>\n      <th>4</th>\n      <td>male</td>\n      <td>group C</td>\n      <td>some college</td>\n      <td>standard</td>\n      <td>none</td>\n      <td>76</td>\n      <td>78</td>\n      <td>75</td>\n    </tr>\n  </tbody>\n</table>\n</div>"
     },
     "execution_count": 33,
     "metadata": {},
     "output_type": "execute_result"
    }
   ]
  },
  {
   "cell_type": "markdown",
   "source": [
    "Tables can be really looong, so we need to think about scrolling expirience (scroll down to see how long it could be):"
   ],
   "metadata": {}
  },
  {
   "cell_type": "code",
   "source": [
    "pd.set_option('display.max_rows', 200)\n",
    "dataset.head(n=200)"
   ],
   "metadata": {
    "execution": {
     "iopub.status.busy": "2022-01-21T11:07:58.635792Z",
     "iopub.execute_input": "2022-01-21T11:07:58.636572Z",
     "iopub.status.idle": "2022-01-21T11:07:58.678718Z",
     "shell.execute_reply.started": "2022-01-21T11:07:58.636537Z",
     "shell.execute_reply": "2022-01-21T11:07:58.677960Z"
    },
    "trusted": true
   },
   "execution_count": 34,
   "outputs": [
    {
     "data": {
      "text/plain": "     gender race/ethnicity parental level of education         lunch  \\\n0    female        group B           bachelor's degree      standard   \n1    female        group C                some college      standard   \n2    female        group B             master's degree      standard   \n3      male        group A          associate's degree  free/reduced   \n4      male        group C                some college      standard   \n5    female        group B          associate's degree      standard   \n6    female        group B                some college      standard   \n7      male        group B                some college  free/reduced   \n8      male        group D                 high school  free/reduced   \n9    female        group B                 high school  free/reduced   \n10     male        group C          associate's degree      standard   \n11     male        group D          associate's degree      standard   \n12   female        group B                 high school      standard   \n13     male        group A                some college      standard   \n14   female        group A             master's degree      standard   \n15   female        group C            some high school      standard   \n16     male        group C                 high school      standard   \n17   female        group B            some high school  free/reduced   \n18     male        group C             master's degree  free/reduced   \n19   female        group C          associate's degree  free/reduced   \n20     male        group D                 high school      standard   \n21   female        group B                some college  free/reduced   \n22     male        group D                some college      standard   \n23   female        group C            some high school      standard   \n24     male        group D           bachelor's degree  free/reduced   \n25     male        group A             master's degree  free/reduced   \n26     male        group B                some college      standard   \n27   female        group C           bachelor's degree      standard   \n28     male        group C                 high school      standard   \n29   female        group D             master's degree      standard   \n30   female        group D                some college      standard   \n31   female        group B                some college      standard   \n32   female        group E             master's degree  free/reduced   \n33     male        group D                some college      standard   \n34     male        group E                some college      standard   \n35     male        group E          associate's degree      standard   \n36   female        group D          associate's degree      standard   \n37   female        group D            some high school  free/reduced   \n38   female        group D          associate's degree  free/reduced   \n39     male        group B          associate's degree  free/reduced   \n40     male        group C          associate's degree  free/reduced   \n41   female        group C          associate's degree      standard   \n42   female        group B          associate's degree      standard   \n43     male        group B                some college  free/reduced   \n44   female        group E          associate's degree  free/reduced   \n45     male        group B          associate's degree      standard   \n46   female        group A          associate's degree      standard   \n47   female        group C                 high school      standard   \n48   female        group D          associate's degree  free/reduced   \n49     male        group C                 high school      standard   \n50     male        group E                some college      standard   \n51     male        group E          associate's degree  free/reduced   \n52     male        group C                some college      standard   \n53     male        group D                 high school      standard   \n54   female        group C            some high school  free/reduced   \n55   female        group C                 high school  free/reduced   \n56   female        group E          associate's degree      standard   \n57     male        group D          associate's degree      standard   \n58     male        group D                some college      standard   \n59   female        group C            some high school  free/reduced   \n60     male        group E           bachelor's degree  free/reduced   \n61     male        group A            some high school  free/reduced   \n62     male        group A          associate's degree  free/reduced   \n63   female        group C          associate's degree      standard   \n64   female        group D            some high school      standard   \n65     male        group B            some high school      standard   \n66     male        group D            some high school  free/reduced   \n67   female        group C                some college      standard   \n68     male        group B          associate's degree  free/reduced   \n69   female        group C          associate's degree      standard   \n70   female        group D                some college  free/reduced   \n71     male        group D                some college      standard   \n72   female        group A          associate's degree  free/reduced   \n73     male        group C            some high school  free/reduced   \n74     male        group C            some high school      standard   \n75     male        group B          associate's degree  free/reduced   \n76     male        group E            some high school      standard   \n77     male        group A           bachelor's degree      standard   \n78   female        group D            some high school      standard   \n79   female        group E             master's degree      standard   \n80   female        group B          associate's degree      standard   \n81     male        group B                 high school  free/reduced   \n82     male        group A                some college  free/reduced   \n83     male        group E          associate's degree      standard   \n84     male        group D                 high school  free/reduced   \n85   female        group C                some college      standard   \n86   female        group C                some college  free/reduced   \n87   female        group D          associate's degree      standard   \n88   female        group A                some college      standard   \n89   female        group D            some high school      standard   \n90   female        group C           bachelor's degree      standard   \n91     male        group C                 high school  free/reduced   \n92     male        group C                 high school      standard   \n93     male        group C          associate's degree  free/reduced   \n94   female        group B                some college      standard   \n95     male        group C          associate's degree  free/reduced   \n96     male        group B            some high school      standard   \n97   female        group E                some college      standard   \n98   female        group D                some college  free/reduced   \n99   female        group D           bachelor's degree      standard   \n100    male        group B                some college      standard   \n101    male        group D           bachelor's degree      standard   \n102  female        group D          associate's degree      standard   \n103    male        group B                 high school      standard   \n104    male        group C                some college      standard   \n105  female        group C                some college      standard   \n106  female        group D             master's degree      standard   \n107    male        group E          associate's degree      standard   \n108  female        group B          associate's degree  free/reduced   \n109  female        group B            some high school      standard   \n110  female        group D          associate's degree  free/reduced   \n111    male        group C                 high school      standard   \n112    male        group A          associate's degree      standard   \n113  female        group D                some college      standard   \n114  female        group E           bachelor's degree      standard   \n115    male        group C                 high school      standard   \n116  female        group B           bachelor's degree  free/reduced   \n117  female        group D           bachelor's degree      standard   \n118  female        group D            some high school      standard   \n119  female        group C                some college      standard   \n120  female        group C           bachelor's degree      standard   \n121    male        group B          associate's degree      standard   \n122  female        group C                some college      standard   \n123    male        group D                 high school  free/reduced   \n124    male        group E                some college      standard   \n125  female        group B                 high school      standard   \n126    male        group B            some high school      standard   \n127    male        group D                some college      standard   \n128    male        group D             master's degree      standard   \n129  female        group A           bachelor's degree      standard   \n130    male        group D             master's degree      standard   \n131    male        group C            some high school  free/reduced   \n132    male        group E                some college  free/reduced   \n133  female        group C                some college      standard   \n134    male        group D           bachelor's degree  free/reduced   \n135    male        group C           bachelor's degree      standard   \n136    male        group B            some high school      standard   \n137    male        group E                 high school      standard   \n138  female        group C          associate's degree      standard   \n139    male        group D                some college      standard   \n140  female        group D            some high school      standard   \n141  female        group C                some college  free/reduced   \n142  female        group E                some college  free/reduced   \n143    male        group A                 high school      standard   \n144    male        group D                some college      standard   \n145  female        group C                some college  free/reduced   \n146    male        group B            some high school      standard   \n147    male        group C          associate's degree  free/reduced   \n148  female        group D           bachelor's degree      standard   \n149    male        group E          associate's degree  free/reduced   \n150    male        group A            some high school      standard   \n151    male        group A           bachelor's degree      standard   \n152  female        group B          associate's degree      standard   \n153    male        group D           bachelor's degree      standard   \n154    male        group D            some high school      standard   \n155  female        group C                some college      standard   \n156  female        group E                 high school  free/reduced   \n157    male        group B                some college  free/reduced   \n158  female        group B          associate's degree      standard   \n159    male        group D          associate's degree  free/reduced   \n160    male        group B          associate's degree  free/reduced   \n161  female        group E                some college  free/reduced   \n162    male        group B             master's degree  free/reduced   \n163    male        group C                 high school      standard   \n164  female        group E             master's degree      standard   \n165  female        group C           bachelor's degree      standard   \n166    male        group C                 high school  free/reduced   \n167  female        group B             master's degree  free/reduced   \n168  female        group B                 high school      standard   \n169  female        group C                some college  free/reduced   \n170    male        group A                 high school      standard   \n171    male        group E            some high school      standard   \n172  female        group D                some college      standard   \n173  female        group C          associate's degree      standard   \n174  female        group C           bachelor's degree  free/reduced   \n175  female        group C             master's degree      standard   \n176  female        group B                 high school  free/reduced   \n177  female        group C          associate's degree      standard   \n178  female        group B             master's degree  free/reduced   \n179  female        group D            some high school      standard   \n180    male        group C             master's degree  free/reduced   \n181  female        group C                some college  free/reduced   \n182  female        group E                 high school      standard   \n183  female        group D          associate's degree      standard   \n184    male        group C            some high school  free/reduced   \n185    male        group C          associate's degree  free/reduced   \n186    male        group E                 high school      standard   \n187    male        group D            some high school      standard   \n188    male        group B            some high school  free/reduced   \n189  female        group C           bachelor's degree      standard   \n190  female        group E          associate's degree      standard   \n191    male        group D                some college      standard   \n192  female        group B            some high school      standard   \n193    male        group D                some college      standard   \n194  female        group C             master's degree      standard   \n195    male        group D          associate's degree      standard   \n196    male        group C            some high school  free/reduced   \n197    male        group E                 high school  free/reduced   \n198  female        group B                some college  free/reduced   \n199  female        group B           bachelor's degree  free/reduced   \n\n    test preparation course  math score  reading score  writing score  \n0                      none          72             72             74  \n1                 completed          69             90             88  \n2                      none          90             95             93  \n3                      none          47             57             44  \n4                      none          76             78             75  \n5                      none          71             83             78  \n6                 completed          88             95             92  \n7                      none          40             43             39  \n8                 completed          64             64             67  \n9                      none          38             60             50  \n10                     none          58             54             52  \n11                     none          40             52             43  \n12                     none          65             81             73  \n13                completed          78             72             70  \n14                     none          50             53             58  \n15                     none          69             75             78  \n16                     none          88             89             86  \n17                     none          18             32             28  \n18                completed          46             42             46  \n19                     none          54             58             61  \n20                     none          66             69             63  \n21                completed          65             75             70  \n22                     none          44             54             53  \n23                     none          69             73             73  \n24                completed          74             71             80  \n25                     none          73             74             72  \n26                     none          69             54             55  \n27                     none          67             69             75  \n28                     none          70             70             65  \n29                     none          62             70             75  \n30                     none          69             74             74  \n31                     none          63             65             61  \n32                     none          56             72             65  \n33                     none          40             42             38  \n34                     none          97             87             82  \n35                completed          81             81             79  \n36                     none          74             81             83  \n37                     none          50             64             59  \n38                completed          75             90             88  \n39                     none          57             56             57  \n40                     none          55             61             54  \n41                     none          58             73             68  \n42                     none          53             58             65  \n43                completed          59             65             66  \n44                     none          50             56             54  \n45                     none          65             54             57  \n46                completed          55             65             62  \n47                     none          66             71             76  \n48                completed          57             74             76  \n49                completed          82             84             82  \n50                     none          53             55             48  \n51                completed          77             69             68  \n52                     none          53             44             42  \n53                     none          88             78             75  \n54                completed          71             84             87  \n55                     none          33             41             43  \n56                completed          82             85             86  \n57                     none          52             55             49  \n58                completed          58             59             58  \n59                     none           0             17             10  \n60                completed          79             74             72  \n61                     none          39             39             34  \n62                     none          62             61             55  \n63                     none          69             80             71  \n64                     none          59             58             59  \n65                     none          67             64             61  \n66                     none          45             37             37  \n67                     none          60             72             74  \n68                     none          61             58             56  \n69                     none          39             64             57  \n70                completed          58             63             73  \n71                completed          63             55             63  \n72                     none          41             51             48  \n73                     none          61             57             56  \n74                     none          49             49             41  \n75                     none          44             41             38  \n76                     none          30             26             22  \n77                completed          80             78             81  \n78                completed          61             74             72  \n79                     none          62             68             68  \n80                     none          47             49             50  \n81                     none          49             45             45  \n82                completed          50             47             54  \n83                     none          72             64             63  \n84                     none          42             39             34  \n85                     none          73             80             82  \n86                     none          76             83             88  \n87                     none          71             71             74  \n88                     none          58             70             67  \n89                     none          73             86             82  \n90                     none          65             72             74  \n91                     none          27             34             36  \n92                     none          71             79             71  \n93                completed          43             45             50  \n94                     none          79             86             92  \n95                completed          78             81             82  \n96                completed          65             66             62  \n97                completed          63             72             70  \n98                     none          58             67             62  \n99                     none          65             67             62  \n100                    none          79             67             67  \n101               completed          68             74             74  \n102                    none          85             91             89  \n103               completed          60             44             47  \n104               completed          98             86             90  \n105                    none          58             67             72  \n106                    none          87            100            100  \n107               completed          66             63             64  \n108                    none          52             76             70  \n109                    none          70             64             72  \n110               completed          77             89             98  \n111                    none          62             55             49  \n112                    none          54             53             47  \n113                    none          51             58             54  \n114               completed          99            100            100  \n115                    none          84             77             74  \n116                    none          75             85             82  \n117                    none          78             82             79  \n118                    none          51             63             61  \n119                    none          55             69             65  \n120               completed          79             92             89  \n121               completed          91             89             92  \n122               completed          88             93             93  \n123                    none          63             57             56  \n124                    none          83             80             73  \n125                    none          87             95             86  \n126                    none          72             68             67  \n127               completed          65             77             74  \n128                    none          82             82             74  \n129                    none          51             49             51  \n130                    none          89             84             82  \n131               completed          53             37             40  \n132               completed          87             74             70  \n133               completed          75             81             84  \n134               completed          74             79             75  \n135                    none          58             55             48  \n136               completed          51             54             41  \n137                    none          70             55             56  \n138                    none          59             66             67  \n139               completed          71             61             69  \n140                    none          76             72             71  \n141                    none          59             62             64  \n142               completed          42             55             54  \n143                    none          57             43             47  \n144                    none          88             73             78  \n145                    none          22             39             33  \n146                    none          88             84             75  \n147                    none          73             68             66  \n148               completed          68             75             81  \n149               completed         100            100             93  \n150               completed          62             67             69  \n151                    none          77             67             68  \n152               completed          59             70             66  \n153                    none          54             49             47  \n154                    none          62             67             61  \n155               completed          70             89             88  \n156               completed          66             74             78  \n157                    none          60             60             60  \n158               completed          61             86             87  \n159                    none          66             62             64  \n160               completed          82             78             74  \n161               completed          75             88             85  \n162                    none          49             53             52  \n163                    none          52             53             49  \n164                    none          81             92             91  \n165               completed          96            100            100  \n166               completed          53             51             51  \n167               completed          58             76             78  \n168               completed          68             83             78  \n169               completed          67             75             70  \n170               completed          72             73             74  \n171                    none          94             88             78  \n172                    none          79             86             81  \n173                    none          63             67             70  \n174               completed          43             51             54  \n175               completed          81             91             87  \n176               completed          46             54             58  \n177               completed          71             77             77  \n178               completed          52             70             62  \n179               completed          97            100            100  \n180               completed          62             68             75  \n181                    none          46             64             66  \n182                    none          50             50             47  \n183                    none          65             69             70  \n184               completed          45             52             49  \n185               completed          65             67             65  \n186                    none          80             76             65  \n187               completed          62             66             68  \n188                    none          48             52             45  \n189                    none          77             88             87  \n190                    none          66             65             69  \n191               completed          76             83             79  \n192                    none          62             64             66  \n193               completed          77             62             62  \n194               completed          69             84             85  \n195                    none          61             55             52  \n196               completed          59             69             65  \n197                    none          55             56             51  \n198                    none          45             53             55  \n199                    none          78             79             76  ",
      "text/html": "<div>\n<style scoped>\n    .dataframe tbody tr th:only-of-type {\n        vertical-align: middle;\n    }\n\n    .dataframe tbody tr th {\n        vertical-align: top;\n    }\n\n    .dataframe thead th {\n        text-align: right;\n    }\n</style>\n<table border=\"1\" class=\"dataframe\">\n  <thead>\n    <tr style=\"text-align: right;\">\n      <th></th>\n      <th>gender</th>\n      <th>race/ethnicity</th>\n      <th>parental level of education</th>\n      <th>lunch</th>\n      <th>test preparation course</th>\n      <th>math score</th>\n      <th>reading score</th>\n      <th>writing score</th>\n    </tr>\n  </thead>\n  <tbody>\n    <tr>\n      <th>0</th>\n      <td>female</td>\n      <td>group B</td>\n      <td>bachelor's degree</td>\n      <td>standard</td>\n      <td>none</td>\n      <td>72</td>\n      <td>72</td>\n      <td>74</td>\n    </tr>\n    <tr>\n      <th>1</th>\n      <td>female</td>\n      <td>group C</td>\n      <td>some college</td>\n      <td>standard</td>\n      <td>completed</td>\n      <td>69</td>\n      <td>90</td>\n      <td>88</td>\n    </tr>\n    <tr>\n      <th>2</th>\n      <td>female</td>\n      <td>group B</td>\n      <td>master's degree</td>\n      <td>standard</td>\n      <td>none</td>\n      <td>90</td>\n      <td>95</td>\n      <td>93</td>\n    </tr>\n    <tr>\n      <th>3</th>\n      <td>male</td>\n      <td>group A</td>\n      <td>associate's degree</td>\n      <td>free/reduced</td>\n      <td>none</td>\n      <td>47</td>\n      <td>57</td>\n      <td>44</td>\n    </tr>\n    <tr>\n      <th>4</th>\n      <td>male</td>\n      <td>group C</td>\n      <td>some college</td>\n      <td>standard</td>\n      <td>none</td>\n      <td>76</td>\n      <td>78</td>\n      <td>75</td>\n    </tr>\n    <tr>\n      <th>5</th>\n      <td>female</td>\n      <td>group B</td>\n      <td>associate's degree</td>\n      <td>standard</td>\n      <td>none</td>\n      <td>71</td>\n      <td>83</td>\n      <td>78</td>\n    </tr>\n    <tr>\n      <th>6</th>\n      <td>female</td>\n      <td>group B</td>\n      <td>some college</td>\n      <td>standard</td>\n      <td>completed</td>\n      <td>88</td>\n      <td>95</td>\n      <td>92</td>\n    </tr>\n    <tr>\n      <th>7</th>\n      <td>male</td>\n      <td>group B</td>\n      <td>some college</td>\n      <td>free/reduced</td>\n      <td>none</td>\n      <td>40</td>\n      <td>43</td>\n      <td>39</td>\n    </tr>\n    <tr>\n      <th>8</th>\n      <td>male</td>\n      <td>group D</td>\n      <td>high school</td>\n      <td>free/reduced</td>\n      <td>completed</td>\n      <td>64</td>\n      <td>64</td>\n      <td>67</td>\n    </tr>\n    <tr>\n      <th>9</th>\n      <td>female</td>\n      <td>group B</td>\n      <td>high school</td>\n      <td>free/reduced</td>\n      <td>none</td>\n      <td>38</td>\n      <td>60</td>\n      <td>50</td>\n    </tr>\n    <tr>\n      <th>10</th>\n      <td>male</td>\n      <td>group C</td>\n      <td>associate's degree</td>\n      <td>standard</td>\n      <td>none</td>\n      <td>58</td>\n      <td>54</td>\n      <td>52</td>\n    </tr>\n    <tr>\n      <th>11</th>\n      <td>male</td>\n      <td>group D</td>\n      <td>associate's degree</td>\n      <td>standard</td>\n      <td>none</td>\n      <td>40</td>\n      <td>52</td>\n      <td>43</td>\n    </tr>\n    <tr>\n      <th>12</th>\n      <td>female</td>\n      <td>group B</td>\n      <td>high school</td>\n      <td>standard</td>\n      <td>none</td>\n      <td>65</td>\n      <td>81</td>\n      <td>73</td>\n    </tr>\n    <tr>\n      <th>13</th>\n      <td>male</td>\n      <td>group A</td>\n      <td>some college</td>\n      <td>standard</td>\n      <td>completed</td>\n      <td>78</td>\n      <td>72</td>\n      <td>70</td>\n    </tr>\n    <tr>\n      <th>14</th>\n      <td>female</td>\n      <td>group A</td>\n      <td>master's degree</td>\n      <td>standard</td>\n      <td>none</td>\n      <td>50</td>\n      <td>53</td>\n      <td>58</td>\n    </tr>\n    <tr>\n      <th>15</th>\n      <td>female</td>\n      <td>group C</td>\n      <td>some high school</td>\n      <td>standard</td>\n      <td>none</td>\n      <td>69</td>\n      <td>75</td>\n      <td>78</td>\n    </tr>\n    <tr>\n      <th>16</th>\n      <td>male</td>\n      <td>group C</td>\n      <td>high school</td>\n      <td>standard</td>\n      <td>none</td>\n      <td>88</td>\n      <td>89</td>\n      <td>86</td>\n    </tr>\n    <tr>\n      <th>17</th>\n      <td>female</td>\n      <td>group B</td>\n      <td>some high school</td>\n      <td>free/reduced</td>\n      <td>none</td>\n      <td>18</td>\n      <td>32</td>\n      <td>28</td>\n    </tr>\n    <tr>\n      <th>18</th>\n      <td>male</td>\n      <td>group C</td>\n      <td>master's degree</td>\n      <td>free/reduced</td>\n      <td>completed</td>\n      <td>46</td>\n      <td>42</td>\n      <td>46</td>\n    </tr>\n    <tr>\n      <th>19</th>\n      <td>female</td>\n      <td>group C</td>\n      <td>associate's degree</td>\n      <td>free/reduced</td>\n      <td>none</td>\n      <td>54</td>\n      <td>58</td>\n      <td>61</td>\n    </tr>\n    <tr>\n      <th>20</th>\n      <td>male</td>\n      <td>group D</td>\n      <td>high school</td>\n      <td>standard</td>\n      <td>none</td>\n      <td>66</td>\n      <td>69</td>\n      <td>63</td>\n    </tr>\n    <tr>\n      <th>21</th>\n      <td>female</td>\n      <td>group B</td>\n      <td>some college</td>\n      <td>free/reduced</td>\n      <td>completed</td>\n      <td>65</td>\n      <td>75</td>\n      <td>70</td>\n    </tr>\n    <tr>\n      <th>22</th>\n      <td>male</td>\n      <td>group D</td>\n      <td>some college</td>\n      <td>standard</td>\n      <td>none</td>\n      <td>44</td>\n      <td>54</td>\n      <td>53</td>\n    </tr>\n    <tr>\n      <th>23</th>\n      <td>female</td>\n      <td>group C</td>\n      <td>some high school</td>\n      <td>standard</td>\n      <td>none</td>\n      <td>69</td>\n      <td>73</td>\n      <td>73</td>\n    </tr>\n    <tr>\n      <th>24</th>\n      <td>male</td>\n      <td>group D</td>\n      <td>bachelor's degree</td>\n      <td>free/reduced</td>\n      <td>completed</td>\n      <td>74</td>\n      <td>71</td>\n      <td>80</td>\n    </tr>\n    <tr>\n      <th>25</th>\n      <td>male</td>\n      <td>group A</td>\n      <td>master's degree</td>\n      <td>free/reduced</td>\n      <td>none</td>\n      <td>73</td>\n      <td>74</td>\n      <td>72</td>\n    </tr>\n    <tr>\n      <th>26</th>\n      <td>male</td>\n      <td>group B</td>\n      <td>some college</td>\n      <td>standard</td>\n      <td>none</td>\n      <td>69</td>\n      <td>54</td>\n      <td>55</td>\n    </tr>\n    <tr>\n      <th>27</th>\n      <td>female</td>\n      <td>group C</td>\n      <td>bachelor's degree</td>\n      <td>standard</td>\n      <td>none</td>\n      <td>67</td>\n      <td>69</td>\n      <td>75</td>\n    </tr>\n    <tr>\n      <th>28</th>\n      <td>male</td>\n      <td>group C</td>\n      <td>high school</td>\n      <td>standard</td>\n      <td>none</td>\n      <td>70</td>\n      <td>70</td>\n      <td>65</td>\n    </tr>\n    <tr>\n      <th>29</th>\n      <td>female</td>\n      <td>group D</td>\n      <td>master's degree</td>\n      <td>standard</td>\n      <td>none</td>\n      <td>62</td>\n      <td>70</td>\n      <td>75</td>\n    </tr>\n    <tr>\n      <th>30</th>\n      <td>female</td>\n      <td>group D</td>\n      <td>some college</td>\n      <td>standard</td>\n      <td>none</td>\n      <td>69</td>\n      <td>74</td>\n      <td>74</td>\n    </tr>\n    <tr>\n      <th>31</th>\n      <td>female</td>\n      <td>group B</td>\n      <td>some college</td>\n      <td>standard</td>\n      <td>none</td>\n      <td>63</td>\n      <td>65</td>\n      <td>61</td>\n    </tr>\n    <tr>\n      <th>32</th>\n      <td>female</td>\n      <td>group E</td>\n      <td>master's degree</td>\n      <td>free/reduced</td>\n      <td>none</td>\n      <td>56</td>\n      <td>72</td>\n      <td>65</td>\n    </tr>\n    <tr>\n      <th>33</th>\n      <td>male</td>\n      <td>group D</td>\n      <td>some college</td>\n      <td>standard</td>\n      <td>none</td>\n      <td>40</td>\n      <td>42</td>\n      <td>38</td>\n    </tr>\n    <tr>\n      <th>34</th>\n      <td>male</td>\n      <td>group E</td>\n      <td>some college</td>\n      <td>standard</td>\n      <td>none</td>\n      <td>97</td>\n      <td>87</td>\n      <td>82</td>\n    </tr>\n    <tr>\n      <th>35</th>\n      <td>male</td>\n      <td>group E</td>\n      <td>associate's degree</td>\n      <td>standard</td>\n      <td>completed</td>\n      <td>81</td>\n      <td>81</td>\n      <td>79</td>\n    </tr>\n    <tr>\n      <th>36</th>\n      <td>female</td>\n      <td>group D</td>\n      <td>associate's degree</td>\n      <td>standard</td>\n      <td>none</td>\n      <td>74</td>\n      <td>81</td>\n      <td>83</td>\n    </tr>\n    <tr>\n      <th>37</th>\n      <td>female</td>\n      <td>group D</td>\n      <td>some high school</td>\n      <td>free/reduced</td>\n      <td>none</td>\n      <td>50</td>\n      <td>64</td>\n      <td>59</td>\n    </tr>\n    <tr>\n      <th>38</th>\n      <td>female</td>\n      <td>group D</td>\n      <td>associate's degree</td>\n      <td>free/reduced</td>\n      <td>completed</td>\n      <td>75</td>\n      <td>90</td>\n      <td>88</td>\n    </tr>\n    <tr>\n      <th>39</th>\n      <td>male</td>\n      <td>group B</td>\n      <td>associate's degree</td>\n      <td>free/reduced</td>\n      <td>none</td>\n      <td>57</td>\n      <td>56</td>\n      <td>57</td>\n    </tr>\n    <tr>\n      <th>40</th>\n      <td>male</td>\n      <td>group C</td>\n      <td>associate's degree</td>\n      <td>free/reduced</td>\n      <td>none</td>\n      <td>55</td>\n      <td>61</td>\n      <td>54</td>\n    </tr>\n    <tr>\n      <th>41</th>\n      <td>female</td>\n      <td>group C</td>\n      <td>associate's degree</td>\n      <td>standard</td>\n      <td>none</td>\n      <td>58</td>\n      <td>73</td>\n      <td>68</td>\n    </tr>\n    <tr>\n      <th>42</th>\n      <td>female</td>\n      <td>group B</td>\n      <td>associate's degree</td>\n      <td>standard</td>\n      <td>none</td>\n      <td>53</td>\n      <td>58</td>\n      <td>65</td>\n    </tr>\n    <tr>\n      <th>43</th>\n      <td>male</td>\n      <td>group B</td>\n      <td>some college</td>\n      <td>free/reduced</td>\n      <td>completed</td>\n      <td>59</td>\n      <td>65</td>\n      <td>66</td>\n    </tr>\n    <tr>\n      <th>44</th>\n      <td>female</td>\n      <td>group E</td>\n      <td>associate's degree</td>\n      <td>free/reduced</td>\n      <td>none</td>\n      <td>50</td>\n      <td>56</td>\n      <td>54</td>\n    </tr>\n    <tr>\n      <th>45</th>\n      <td>male</td>\n      <td>group B</td>\n      <td>associate's degree</td>\n      <td>standard</td>\n      <td>none</td>\n      <td>65</td>\n      <td>54</td>\n      <td>57</td>\n    </tr>\n    <tr>\n      <th>46</th>\n      <td>female</td>\n      <td>group A</td>\n      <td>associate's degree</td>\n      <td>standard</td>\n      <td>completed</td>\n      <td>55</td>\n      <td>65</td>\n      <td>62</td>\n    </tr>\n    <tr>\n      <th>47</th>\n      <td>female</td>\n      <td>group C</td>\n      <td>high school</td>\n      <td>standard</td>\n      <td>none</td>\n      <td>66</td>\n      <td>71</td>\n      <td>76</td>\n    </tr>\n    <tr>\n      <th>48</th>\n      <td>female</td>\n      <td>group D</td>\n      <td>associate's degree</td>\n      <td>free/reduced</td>\n      <td>completed</td>\n      <td>57</td>\n      <td>74</td>\n      <td>76</td>\n    </tr>\n    <tr>\n      <th>49</th>\n      <td>male</td>\n      <td>group C</td>\n      <td>high school</td>\n      <td>standard</td>\n      <td>completed</td>\n      <td>82</td>\n      <td>84</td>\n      <td>82</td>\n    </tr>\n    <tr>\n      <th>50</th>\n      <td>male</td>\n      <td>group E</td>\n      <td>some college</td>\n      <td>standard</td>\n      <td>none</td>\n      <td>53</td>\n      <td>55</td>\n      <td>48</td>\n    </tr>\n    <tr>\n      <th>51</th>\n      <td>male</td>\n      <td>group E</td>\n      <td>associate's degree</td>\n      <td>free/reduced</td>\n      <td>completed</td>\n      <td>77</td>\n      <td>69</td>\n      <td>68</td>\n    </tr>\n    <tr>\n      <th>52</th>\n      <td>male</td>\n      <td>group C</td>\n      <td>some college</td>\n      <td>standard</td>\n      <td>none</td>\n      <td>53</td>\n      <td>44</td>\n      <td>42</td>\n    </tr>\n    <tr>\n      <th>53</th>\n      <td>male</td>\n      <td>group D</td>\n      <td>high school</td>\n      <td>standard</td>\n      <td>none</td>\n      <td>88</td>\n      <td>78</td>\n      <td>75</td>\n    </tr>\n    <tr>\n      <th>54</th>\n      <td>female</td>\n      <td>group C</td>\n      <td>some high school</td>\n      <td>free/reduced</td>\n      <td>completed</td>\n      <td>71</td>\n      <td>84</td>\n      <td>87</td>\n    </tr>\n    <tr>\n      <th>55</th>\n      <td>female</td>\n      <td>group C</td>\n      <td>high school</td>\n      <td>free/reduced</td>\n      <td>none</td>\n      <td>33</td>\n      <td>41</td>\n      <td>43</td>\n    </tr>\n    <tr>\n      <th>56</th>\n      <td>female</td>\n      <td>group E</td>\n      <td>associate's degree</td>\n      <td>standard</td>\n      <td>completed</td>\n      <td>82</td>\n      <td>85</td>\n      <td>86</td>\n    </tr>\n    <tr>\n      <th>57</th>\n      <td>male</td>\n      <td>group D</td>\n      <td>associate's degree</td>\n      <td>standard</td>\n      <td>none</td>\n      <td>52</td>\n      <td>55</td>\n      <td>49</td>\n    </tr>\n    <tr>\n      <th>58</th>\n      <td>male</td>\n      <td>group D</td>\n      <td>some college</td>\n      <td>standard</td>\n      <td>completed</td>\n      <td>58</td>\n      <td>59</td>\n      <td>58</td>\n    </tr>\n    <tr>\n      <th>59</th>\n      <td>female</td>\n      <td>group C</td>\n      <td>some high school</td>\n      <td>free/reduced</td>\n      <td>none</td>\n      <td>0</td>\n      <td>17</td>\n      <td>10</td>\n    </tr>\n    <tr>\n      <th>60</th>\n      <td>male</td>\n      <td>group E</td>\n      <td>bachelor's degree</td>\n      <td>free/reduced</td>\n      <td>completed</td>\n      <td>79</td>\n      <td>74</td>\n      <td>72</td>\n    </tr>\n    <tr>\n      <th>61</th>\n      <td>male</td>\n      <td>group A</td>\n      <td>some high school</td>\n      <td>free/reduced</td>\n      <td>none</td>\n      <td>39</td>\n      <td>39</td>\n      <td>34</td>\n    </tr>\n    <tr>\n      <th>62</th>\n      <td>male</td>\n      <td>group A</td>\n      <td>associate's degree</td>\n      <td>free/reduced</td>\n      <td>none</td>\n      <td>62</td>\n      <td>61</td>\n      <td>55</td>\n    </tr>\n    <tr>\n      <th>63</th>\n      <td>female</td>\n      <td>group C</td>\n      <td>associate's degree</td>\n      <td>standard</td>\n      <td>none</td>\n      <td>69</td>\n      <td>80</td>\n      <td>71</td>\n    </tr>\n    <tr>\n      <th>64</th>\n      <td>female</td>\n      <td>group D</td>\n      <td>some high school</td>\n      <td>standard</td>\n      <td>none</td>\n      <td>59</td>\n      <td>58</td>\n      <td>59</td>\n    </tr>\n    <tr>\n      <th>65</th>\n      <td>male</td>\n      <td>group B</td>\n      <td>some high school</td>\n      <td>standard</td>\n      <td>none</td>\n      <td>67</td>\n      <td>64</td>\n      <td>61</td>\n    </tr>\n    <tr>\n      <th>66</th>\n      <td>male</td>\n      <td>group D</td>\n      <td>some high school</td>\n      <td>free/reduced</td>\n      <td>none</td>\n      <td>45</td>\n      <td>37</td>\n      <td>37</td>\n    </tr>\n    <tr>\n      <th>67</th>\n      <td>female</td>\n      <td>group C</td>\n      <td>some college</td>\n      <td>standard</td>\n      <td>none</td>\n      <td>60</td>\n      <td>72</td>\n      <td>74</td>\n    </tr>\n    <tr>\n      <th>68</th>\n      <td>male</td>\n      <td>group B</td>\n      <td>associate's degree</td>\n      <td>free/reduced</td>\n      <td>none</td>\n      <td>61</td>\n      <td>58</td>\n      <td>56</td>\n    </tr>\n    <tr>\n      <th>69</th>\n      <td>female</td>\n      <td>group C</td>\n      <td>associate's degree</td>\n      <td>standard</td>\n      <td>none</td>\n      <td>39</td>\n      <td>64</td>\n      <td>57</td>\n    </tr>\n    <tr>\n      <th>70</th>\n      <td>female</td>\n      <td>group D</td>\n      <td>some college</td>\n      <td>free/reduced</td>\n      <td>completed</td>\n      <td>58</td>\n      <td>63</td>\n      <td>73</td>\n    </tr>\n    <tr>\n      <th>71</th>\n      <td>male</td>\n      <td>group D</td>\n      <td>some college</td>\n      <td>standard</td>\n      <td>completed</td>\n      <td>63</td>\n      <td>55</td>\n      <td>63</td>\n    </tr>\n    <tr>\n      <th>72</th>\n      <td>female</td>\n      <td>group A</td>\n      <td>associate's degree</td>\n      <td>free/reduced</td>\n      <td>none</td>\n      <td>41</td>\n      <td>51</td>\n      <td>48</td>\n    </tr>\n    <tr>\n      <th>73</th>\n      <td>male</td>\n      <td>group C</td>\n      <td>some high school</td>\n      <td>free/reduced</td>\n      <td>none</td>\n      <td>61</td>\n      <td>57</td>\n      <td>56</td>\n    </tr>\n    <tr>\n      <th>74</th>\n      <td>male</td>\n      <td>group C</td>\n      <td>some high school</td>\n      <td>standard</td>\n      <td>none</td>\n      <td>49</td>\n      <td>49</td>\n      <td>41</td>\n    </tr>\n    <tr>\n      <th>75</th>\n      <td>male</td>\n      <td>group B</td>\n      <td>associate's degree</td>\n      <td>free/reduced</td>\n      <td>none</td>\n      <td>44</td>\n      <td>41</td>\n      <td>38</td>\n    </tr>\n    <tr>\n      <th>76</th>\n      <td>male</td>\n      <td>group E</td>\n      <td>some high school</td>\n      <td>standard</td>\n      <td>none</td>\n      <td>30</td>\n      <td>26</td>\n      <td>22</td>\n    </tr>\n    <tr>\n      <th>77</th>\n      <td>male</td>\n      <td>group A</td>\n      <td>bachelor's degree</td>\n      <td>standard</td>\n      <td>completed</td>\n      <td>80</td>\n      <td>78</td>\n      <td>81</td>\n    </tr>\n    <tr>\n      <th>78</th>\n      <td>female</td>\n      <td>group D</td>\n      <td>some high school</td>\n      <td>standard</td>\n      <td>completed</td>\n      <td>61</td>\n      <td>74</td>\n      <td>72</td>\n    </tr>\n    <tr>\n      <th>79</th>\n      <td>female</td>\n      <td>group E</td>\n      <td>master's degree</td>\n      <td>standard</td>\n      <td>none</td>\n      <td>62</td>\n      <td>68</td>\n      <td>68</td>\n    </tr>\n    <tr>\n      <th>80</th>\n      <td>female</td>\n      <td>group B</td>\n      <td>associate's degree</td>\n      <td>standard</td>\n      <td>none</td>\n      <td>47</td>\n      <td>49</td>\n      <td>50</td>\n    </tr>\n    <tr>\n      <th>81</th>\n      <td>male</td>\n      <td>group B</td>\n      <td>high school</td>\n      <td>free/reduced</td>\n      <td>none</td>\n      <td>49</td>\n      <td>45</td>\n      <td>45</td>\n    </tr>\n    <tr>\n      <th>82</th>\n      <td>male</td>\n      <td>group A</td>\n      <td>some college</td>\n      <td>free/reduced</td>\n      <td>completed</td>\n      <td>50</td>\n      <td>47</td>\n      <td>54</td>\n    </tr>\n    <tr>\n      <th>83</th>\n      <td>male</td>\n      <td>group E</td>\n      <td>associate's degree</td>\n      <td>standard</td>\n      <td>none</td>\n      <td>72</td>\n      <td>64</td>\n      <td>63</td>\n    </tr>\n    <tr>\n      <th>84</th>\n      <td>male</td>\n      <td>group D</td>\n      <td>high school</td>\n      <td>free/reduced</td>\n      <td>none</td>\n      <td>42</td>\n      <td>39</td>\n      <td>34</td>\n    </tr>\n    <tr>\n      <th>85</th>\n      <td>female</td>\n      <td>group C</td>\n      <td>some college</td>\n      <td>standard</td>\n      <td>none</td>\n      <td>73</td>\n      <td>80</td>\n      <td>82</td>\n    </tr>\n    <tr>\n      <th>86</th>\n      <td>female</td>\n      <td>group C</td>\n      <td>some college</td>\n      <td>free/reduced</td>\n      <td>none</td>\n      <td>76</td>\n      <td>83</td>\n      <td>88</td>\n    </tr>\n    <tr>\n      <th>87</th>\n      <td>female</td>\n      <td>group D</td>\n      <td>associate's degree</td>\n      <td>standard</td>\n      <td>none</td>\n      <td>71</td>\n      <td>71</td>\n      <td>74</td>\n    </tr>\n    <tr>\n      <th>88</th>\n      <td>female</td>\n      <td>group A</td>\n      <td>some college</td>\n      <td>standard</td>\n      <td>none</td>\n      <td>58</td>\n      <td>70</td>\n      <td>67</td>\n    </tr>\n    <tr>\n      <th>89</th>\n      <td>female</td>\n      <td>group D</td>\n      <td>some high school</td>\n      <td>standard</td>\n      <td>none</td>\n      <td>73</td>\n      <td>86</td>\n      <td>82</td>\n    </tr>\n    <tr>\n      <th>90</th>\n      <td>female</td>\n      <td>group C</td>\n      <td>bachelor's degree</td>\n      <td>standard</td>\n      <td>none</td>\n      <td>65</td>\n      <td>72</td>\n      <td>74</td>\n    </tr>\n    <tr>\n      <th>91</th>\n      <td>male</td>\n      <td>group C</td>\n      <td>high school</td>\n      <td>free/reduced</td>\n      <td>none</td>\n      <td>27</td>\n      <td>34</td>\n      <td>36</td>\n    </tr>\n    <tr>\n      <th>92</th>\n      <td>male</td>\n      <td>group C</td>\n      <td>high school</td>\n      <td>standard</td>\n      <td>none</td>\n      <td>71</td>\n      <td>79</td>\n      <td>71</td>\n    </tr>\n    <tr>\n      <th>93</th>\n      <td>male</td>\n      <td>group C</td>\n      <td>associate's degree</td>\n      <td>free/reduced</td>\n      <td>completed</td>\n      <td>43</td>\n      <td>45</td>\n      <td>50</td>\n    </tr>\n    <tr>\n      <th>94</th>\n      <td>female</td>\n      <td>group B</td>\n      <td>some college</td>\n      <td>standard</td>\n      <td>none</td>\n      <td>79</td>\n      <td>86</td>\n      <td>92</td>\n    </tr>\n    <tr>\n      <th>95</th>\n      <td>male</td>\n      <td>group C</td>\n      <td>associate's degree</td>\n      <td>free/reduced</td>\n      <td>completed</td>\n      <td>78</td>\n      <td>81</td>\n      <td>82</td>\n    </tr>\n    <tr>\n      <th>96</th>\n      <td>male</td>\n      <td>group B</td>\n      <td>some high school</td>\n      <td>standard</td>\n      <td>completed</td>\n      <td>65</td>\n      <td>66</td>\n      <td>62</td>\n    </tr>\n    <tr>\n      <th>97</th>\n      <td>female</td>\n      <td>group E</td>\n      <td>some college</td>\n      <td>standard</td>\n      <td>completed</td>\n      <td>63</td>\n      <td>72</td>\n      <td>70</td>\n    </tr>\n    <tr>\n      <th>98</th>\n      <td>female</td>\n      <td>group D</td>\n      <td>some college</td>\n      <td>free/reduced</td>\n      <td>none</td>\n      <td>58</td>\n      <td>67</td>\n      <td>62</td>\n    </tr>\n    <tr>\n      <th>99</th>\n      <td>female</td>\n      <td>group D</td>\n      <td>bachelor's degree</td>\n      <td>standard</td>\n      <td>none</td>\n      <td>65</td>\n      <td>67</td>\n      <td>62</td>\n    </tr>\n    <tr>\n      <th>100</th>\n      <td>male</td>\n      <td>group B</td>\n      <td>some college</td>\n      <td>standard</td>\n      <td>none</td>\n      <td>79</td>\n      <td>67</td>\n      <td>67</td>\n    </tr>\n    <tr>\n      <th>101</th>\n      <td>male</td>\n      <td>group D</td>\n      <td>bachelor's degree</td>\n      <td>standard</td>\n      <td>completed</td>\n      <td>68</td>\n      <td>74</td>\n      <td>74</td>\n    </tr>\n    <tr>\n      <th>102</th>\n      <td>female</td>\n      <td>group D</td>\n      <td>associate's degree</td>\n      <td>standard</td>\n      <td>none</td>\n      <td>85</td>\n      <td>91</td>\n      <td>89</td>\n    </tr>\n    <tr>\n      <th>103</th>\n      <td>male</td>\n      <td>group B</td>\n      <td>high school</td>\n      <td>standard</td>\n      <td>completed</td>\n      <td>60</td>\n      <td>44</td>\n      <td>47</td>\n    </tr>\n    <tr>\n      <th>104</th>\n      <td>male</td>\n      <td>group C</td>\n      <td>some college</td>\n      <td>standard</td>\n      <td>completed</td>\n      <td>98</td>\n      <td>86</td>\n      <td>90</td>\n    </tr>\n    <tr>\n      <th>105</th>\n      <td>female</td>\n      <td>group C</td>\n      <td>some college</td>\n      <td>standard</td>\n      <td>none</td>\n      <td>58</td>\n      <td>67</td>\n      <td>72</td>\n    </tr>\n    <tr>\n      <th>106</th>\n      <td>female</td>\n      <td>group D</td>\n      <td>master's degree</td>\n      <td>standard</td>\n      <td>none</td>\n      <td>87</td>\n      <td>100</td>\n      <td>100</td>\n    </tr>\n    <tr>\n      <th>107</th>\n      <td>male</td>\n      <td>group E</td>\n      <td>associate's degree</td>\n      <td>standard</td>\n      <td>completed</td>\n      <td>66</td>\n      <td>63</td>\n      <td>64</td>\n    </tr>\n    <tr>\n      <th>108</th>\n      <td>female</td>\n      <td>group B</td>\n      <td>associate's degree</td>\n      <td>free/reduced</td>\n      <td>none</td>\n      <td>52</td>\n      <td>76</td>\n      <td>70</td>\n    </tr>\n    <tr>\n      <th>109</th>\n      <td>female</td>\n      <td>group B</td>\n      <td>some high school</td>\n      <td>standard</td>\n      <td>none</td>\n      <td>70</td>\n      <td>64</td>\n      <td>72</td>\n    </tr>\n    <tr>\n      <th>110</th>\n      <td>female</td>\n      <td>group D</td>\n      <td>associate's degree</td>\n      <td>free/reduced</td>\n      <td>completed</td>\n      <td>77</td>\n      <td>89</td>\n      <td>98</td>\n    </tr>\n    <tr>\n      <th>111</th>\n      <td>male</td>\n      <td>group C</td>\n      <td>high school</td>\n      <td>standard</td>\n      <td>none</td>\n      <td>62</td>\n      <td>55</td>\n      <td>49</td>\n    </tr>\n    <tr>\n      <th>112</th>\n      <td>male</td>\n      <td>group A</td>\n      <td>associate's degree</td>\n      <td>standard</td>\n      <td>none</td>\n      <td>54</td>\n      <td>53</td>\n      <td>47</td>\n    </tr>\n    <tr>\n      <th>113</th>\n      <td>female</td>\n      <td>group D</td>\n      <td>some college</td>\n      <td>standard</td>\n      <td>none</td>\n      <td>51</td>\n      <td>58</td>\n      <td>54</td>\n    </tr>\n    <tr>\n      <th>114</th>\n      <td>female</td>\n      <td>group E</td>\n      <td>bachelor's degree</td>\n      <td>standard</td>\n      <td>completed</td>\n      <td>99</td>\n      <td>100</td>\n      <td>100</td>\n    </tr>\n    <tr>\n      <th>115</th>\n      <td>male</td>\n      <td>group C</td>\n      <td>high school</td>\n      <td>standard</td>\n      <td>none</td>\n      <td>84</td>\n      <td>77</td>\n      <td>74</td>\n    </tr>\n    <tr>\n      <th>116</th>\n      <td>female</td>\n      <td>group B</td>\n      <td>bachelor's degree</td>\n      <td>free/reduced</td>\n      <td>none</td>\n      <td>75</td>\n      <td>85</td>\n      <td>82</td>\n    </tr>\n    <tr>\n      <th>117</th>\n      <td>female</td>\n      <td>group D</td>\n      <td>bachelor's degree</td>\n      <td>standard</td>\n      <td>none</td>\n      <td>78</td>\n      <td>82</td>\n      <td>79</td>\n    </tr>\n    <tr>\n      <th>118</th>\n      <td>female</td>\n      <td>group D</td>\n      <td>some high school</td>\n      <td>standard</td>\n      <td>none</td>\n      <td>51</td>\n      <td>63</td>\n      <td>61</td>\n    </tr>\n    <tr>\n      <th>119</th>\n      <td>female</td>\n      <td>group C</td>\n      <td>some college</td>\n      <td>standard</td>\n      <td>none</td>\n      <td>55</td>\n      <td>69</td>\n      <td>65</td>\n    </tr>\n    <tr>\n      <th>120</th>\n      <td>female</td>\n      <td>group C</td>\n      <td>bachelor's degree</td>\n      <td>standard</td>\n      <td>completed</td>\n      <td>79</td>\n      <td>92</td>\n      <td>89</td>\n    </tr>\n    <tr>\n      <th>121</th>\n      <td>male</td>\n      <td>group B</td>\n      <td>associate's degree</td>\n      <td>standard</td>\n      <td>completed</td>\n      <td>91</td>\n      <td>89</td>\n      <td>92</td>\n    </tr>\n    <tr>\n      <th>122</th>\n      <td>female</td>\n      <td>group C</td>\n      <td>some college</td>\n      <td>standard</td>\n      <td>completed</td>\n      <td>88</td>\n      <td>93</td>\n      <td>93</td>\n    </tr>\n    <tr>\n      <th>123</th>\n      <td>male</td>\n      <td>group D</td>\n      <td>high school</td>\n      <td>free/reduced</td>\n      <td>none</td>\n      <td>63</td>\n      <td>57</td>\n      <td>56</td>\n    </tr>\n    <tr>\n      <th>124</th>\n      <td>male</td>\n      <td>group E</td>\n      <td>some college</td>\n      <td>standard</td>\n      <td>none</td>\n      <td>83</td>\n      <td>80</td>\n      <td>73</td>\n    </tr>\n    <tr>\n      <th>125</th>\n      <td>female</td>\n      <td>group B</td>\n      <td>high school</td>\n      <td>standard</td>\n      <td>none</td>\n      <td>87</td>\n      <td>95</td>\n      <td>86</td>\n    </tr>\n    <tr>\n      <th>126</th>\n      <td>male</td>\n      <td>group B</td>\n      <td>some high school</td>\n      <td>standard</td>\n      <td>none</td>\n      <td>72</td>\n      <td>68</td>\n      <td>67</td>\n    </tr>\n    <tr>\n      <th>127</th>\n      <td>male</td>\n      <td>group D</td>\n      <td>some college</td>\n      <td>standard</td>\n      <td>completed</td>\n      <td>65</td>\n      <td>77</td>\n      <td>74</td>\n    </tr>\n    <tr>\n      <th>128</th>\n      <td>male</td>\n      <td>group D</td>\n      <td>master's degree</td>\n      <td>standard</td>\n      <td>none</td>\n      <td>82</td>\n      <td>82</td>\n      <td>74</td>\n    </tr>\n    <tr>\n      <th>129</th>\n      <td>female</td>\n      <td>group A</td>\n      <td>bachelor's degree</td>\n      <td>standard</td>\n      <td>none</td>\n      <td>51</td>\n      <td>49</td>\n      <td>51</td>\n    </tr>\n    <tr>\n      <th>130</th>\n      <td>male</td>\n      <td>group D</td>\n      <td>master's degree</td>\n      <td>standard</td>\n      <td>none</td>\n      <td>89</td>\n      <td>84</td>\n      <td>82</td>\n    </tr>\n    <tr>\n      <th>131</th>\n      <td>male</td>\n      <td>group C</td>\n      <td>some high school</td>\n      <td>free/reduced</td>\n      <td>completed</td>\n      <td>53</td>\n      <td>37</td>\n      <td>40</td>\n    </tr>\n    <tr>\n      <th>132</th>\n      <td>male</td>\n      <td>group E</td>\n      <td>some college</td>\n      <td>free/reduced</td>\n      <td>completed</td>\n      <td>87</td>\n      <td>74</td>\n      <td>70</td>\n    </tr>\n    <tr>\n      <th>133</th>\n      <td>female</td>\n      <td>group C</td>\n      <td>some college</td>\n      <td>standard</td>\n      <td>completed</td>\n      <td>75</td>\n      <td>81</td>\n      <td>84</td>\n    </tr>\n    <tr>\n      <th>134</th>\n      <td>male</td>\n      <td>group D</td>\n      <td>bachelor's degree</td>\n      <td>free/reduced</td>\n      <td>completed</td>\n      <td>74</td>\n      <td>79</td>\n      <td>75</td>\n    </tr>\n    <tr>\n      <th>135</th>\n      <td>male</td>\n      <td>group C</td>\n      <td>bachelor's degree</td>\n      <td>standard</td>\n      <td>none</td>\n      <td>58</td>\n      <td>55</td>\n      <td>48</td>\n    </tr>\n    <tr>\n      <th>136</th>\n      <td>male</td>\n      <td>group B</td>\n      <td>some high school</td>\n      <td>standard</td>\n      <td>completed</td>\n      <td>51</td>\n      <td>54</td>\n      <td>41</td>\n    </tr>\n    <tr>\n      <th>137</th>\n      <td>male</td>\n      <td>group E</td>\n      <td>high school</td>\n      <td>standard</td>\n      <td>none</td>\n      <td>70</td>\n      <td>55</td>\n      <td>56</td>\n    </tr>\n    <tr>\n      <th>138</th>\n      <td>female</td>\n      <td>group C</td>\n      <td>associate's degree</td>\n      <td>standard</td>\n      <td>none</td>\n      <td>59</td>\n      <td>66</td>\n      <td>67</td>\n    </tr>\n    <tr>\n      <th>139</th>\n      <td>male</td>\n      <td>group D</td>\n      <td>some college</td>\n      <td>standard</td>\n      <td>completed</td>\n      <td>71</td>\n      <td>61</td>\n      <td>69</td>\n    </tr>\n    <tr>\n      <th>140</th>\n      <td>female</td>\n      <td>group D</td>\n      <td>some high school</td>\n      <td>standard</td>\n      <td>none</td>\n      <td>76</td>\n      <td>72</td>\n      <td>71</td>\n    </tr>\n    <tr>\n      <th>141</th>\n      <td>female</td>\n      <td>group C</td>\n      <td>some college</td>\n      <td>free/reduced</td>\n      <td>none</td>\n      <td>59</td>\n      <td>62</td>\n      <td>64</td>\n    </tr>\n    <tr>\n      <th>142</th>\n      <td>female</td>\n      <td>group E</td>\n      <td>some college</td>\n      <td>free/reduced</td>\n      <td>completed</td>\n      <td>42</td>\n      <td>55</td>\n      <td>54</td>\n    </tr>\n    <tr>\n      <th>143</th>\n      <td>male</td>\n      <td>group A</td>\n      <td>high school</td>\n      <td>standard</td>\n      <td>none</td>\n      <td>57</td>\n      <td>43</td>\n      <td>47</td>\n    </tr>\n    <tr>\n      <th>144</th>\n      <td>male</td>\n      <td>group D</td>\n      <td>some college</td>\n      <td>standard</td>\n      <td>none</td>\n      <td>88</td>\n      <td>73</td>\n      <td>78</td>\n    </tr>\n    <tr>\n      <th>145</th>\n      <td>female</td>\n      <td>group C</td>\n      <td>some college</td>\n      <td>free/reduced</td>\n      <td>none</td>\n      <td>22</td>\n      <td>39</td>\n      <td>33</td>\n    </tr>\n    <tr>\n      <th>146</th>\n      <td>male</td>\n      <td>group B</td>\n      <td>some high school</td>\n      <td>standard</td>\n      <td>none</td>\n      <td>88</td>\n      <td>84</td>\n      <td>75</td>\n    </tr>\n    <tr>\n      <th>147</th>\n      <td>male</td>\n      <td>group C</td>\n      <td>associate's degree</td>\n      <td>free/reduced</td>\n      <td>none</td>\n      <td>73</td>\n      <td>68</td>\n      <td>66</td>\n    </tr>\n    <tr>\n      <th>148</th>\n      <td>female</td>\n      <td>group D</td>\n      <td>bachelor's degree</td>\n      <td>standard</td>\n      <td>completed</td>\n      <td>68</td>\n      <td>75</td>\n      <td>81</td>\n    </tr>\n    <tr>\n      <th>149</th>\n      <td>male</td>\n      <td>group E</td>\n      <td>associate's degree</td>\n      <td>free/reduced</td>\n      <td>completed</td>\n      <td>100</td>\n      <td>100</td>\n      <td>93</td>\n    </tr>\n    <tr>\n      <th>150</th>\n      <td>male</td>\n      <td>group A</td>\n      <td>some high school</td>\n      <td>standard</td>\n      <td>completed</td>\n      <td>62</td>\n      <td>67</td>\n      <td>69</td>\n    </tr>\n    <tr>\n      <th>151</th>\n      <td>male</td>\n      <td>group A</td>\n      <td>bachelor's degree</td>\n      <td>standard</td>\n      <td>none</td>\n      <td>77</td>\n      <td>67</td>\n      <td>68</td>\n    </tr>\n    <tr>\n      <th>152</th>\n      <td>female</td>\n      <td>group B</td>\n      <td>associate's degree</td>\n      <td>standard</td>\n      <td>completed</td>\n      <td>59</td>\n      <td>70</td>\n      <td>66</td>\n    </tr>\n    <tr>\n      <th>153</th>\n      <td>male</td>\n      <td>group D</td>\n      <td>bachelor's degree</td>\n      <td>standard</td>\n      <td>none</td>\n      <td>54</td>\n      <td>49</td>\n      <td>47</td>\n    </tr>\n    <tr>\n      <th>154</th>\n      <td>male</td>\n      <td>group D</td>\n      <td>some high school</td>\n      <td>standard</td>\n      <td>none</td>\n      <td>62</td>\n      <td>67</td>\n      <td>61</td>\n    </tr>\n    <tr>\n      <th>155</th>\n      <td>female</td>\n      <td>group C</td>\n      <td>some college</td>\n      <td>standard</td>\n      <td>completed</td>\n      <td>70</td>\n      <td>89</td>\n      <td>88</td>\n    </tr>\n    <tr>\n      <th>156</th>\n      <td>female</td>\n      <td>group E</td>\n      <td>high school</td>\n      <td>free/reduced</td>\n      <td>completed</td>\n      <td>66</td>\n      <td>74</td>\n      <td>78</td>\n    </tr>\n    <tr>\n      <th>157</th>\n      <td>male</td>\n      <td>group B</td>\n      <td>some college</td>\n      <td>free/reduced</td>\n      <td>none</td>\n      <td>60</td>\n      <td>60</td>\n      <td>60</td>\n    </tr>\n    <tr>\n      <th>158</th>\n      <td>female</td>\n      <td>group B</td>\n      <td>associate's degree</td>\n      <td>standard</td>\n      <td>completed</td>\n      <td>61</td>\n      <td>86</td>\n      <td>87</td>\n    </tr>\n    <tr>\n      <th>159</th>\n      <td>male</td>\n      <td>group D</td>\n      <td>associate's degree</td>\n      <td>free/reduced</td>\n      <td>none</td>\n      <td>66</td>\n      <td>62</td>\n      <td>64</td>\n    </tr>\n    <tr>\n      <th>160</th>\n      <td>male</td>\n      <td>group B</td>\n      <td>associate's degree</td>\n      <td>free/reduced</td>\n      <td>completed</td>\n      <td>82</td>\n      <td>78</td>\n      <td>74</td>\n    </tr>\n    <tr>\n      <th>161</th>\n      <td>female</td>\n      <td>group E</td>\n      <td>some college</td>\n      <td>free/reduced</td>\n      <td>completed</td>\n      <td>75</td>\n      <td>88</td>\n      <td>85</td>\n    </tr>\n    <tr>\n      <th>162</th>\n      <td>male</td>\n      <td>group B</td>\n      <td>master's degree</td>\n      <td>free/reduced</td>\n      <td>none</td>\n      <td>49</td>\n      <td>53</td>\n      <td>52</td>\n    </tr>\n    <tr>\n      <th>163</th>\n      <td>male</td>\n      <td>group C</td>\n      <td>high school</td>\n      <td>standard</td>\n      <td>none</td>\n      <td>52</td>\n      <td>53</td>\n      <td>49</td>\n    </tr>\n    <tr>\n      <th>164</th>\n      <td>female</td>\n      <td>group E</td>\n      <td>master's degree</td>\n      <td>standard</td>\n      <td>none</td>\n      <td>81</td>\n      <td>92</td>\n      <td>91</td>\n    </tr>\n    <tr>\n      <th>165</th>\n      <td>female</td>\n      <td>group C</td>\n      <td>bachelor's degree</td>\n      <td>standard</td>\n      <td>completed</td>\n      <td>96</td>\n      <td>100</td>\n      <td>100</td>\n    </tr>\n    <tr>\n      <th>166</th>\n      <td>male</td>\n      <td>group C</td>\n      <td>high school</td>\n      <td>free/reduced</td>\n      <td>completed</td>\n      <td>53</td>\n      <td>51</td>\n      <td>51</td>\n    </tr>\n    <tr>\n      <th>167</th>\n      <td>female</td>\n      <td>group B</td>\n      <td>master's degree</td>\n      <td>free/reduced</td>\n      <td>completed</td>\n      <td>58</td>\n      <td>76</td>\n      <td>78</td>\n    </tr>\n    <tr>\n      <th>168</th>\n      <td>female</td>\n      <td>group B</td>\n      <td>high school</td>\n      <td>standard</td>\n      <td>completed</td>\n      <td>68</td>\n      <td>83</td>\n      <td>78</td>\n    </tr>\n    <tr>\n      <th>169</th>\n      <td>female</td>\n      <td>group C</td>\n      <td>some college</td>\n      <td>free/reduced</td>\n      <td>completed</td>\n      <td>67</td>\n      <td>75</td>\n      <td>70</td>\n    </tr>\n    <tr>\n      <th>170</th>\n      <td>male</td>\n      <td>group A</td>\n      <td>high school</td>\n      <td>standard</td>\n      <td>completed</td>\n      <td>72</td>\n      <td>73</td>\n      <td>74</td>\n    </tr>\n    <tr>\n      <th>171</th>\n      <td>male</td>\n      <td>group E</td>\n      <td>some high school</td>\n      <td>standard</td>\n      <td>none</td>\n      <td>94</td>\n      <td>88</td>\n      <td>78</td>\n    </tr>\n    <tr>\n      <th>172</th>\n      <td>female</td>\n      <td>group D</td>\n      <td>some college</td>\n      <td>standard</td>\n      <td>none</td>\n      <td>79</td>\n      <td>86</td>\n      <td>81</td>\n    </tr>\n    <tr>\n      <th>173</th>\n      <td>female</td>\n      <td>group C</td>\n      <td>associate's degree</td>\n      <td>standard</td>\n      <td>none</td>\n      <td>63</td>\n      <td>67</td>\n      <td>70</td>\n    </tr>\n    <tr>\n      <th>174</th>\n      <td>female</td>\n      <td>group C</td>\n      <td>bachelor's degree</td>\n      <td>free/reduced</td>\n      <td>completed</td>\n      <td>43</td>\n      <td>51</td>\n      <td>54</td>\n    </tr>\n    <tr>\n      <th>175</th>\n      <td>female</td>\n      <td>group C</td>\n      <td>master's degree</td>\n      <td>standard</td>\n      <td>completed</td>\n      <td>81</td>\n      <td>91</td>\n      <td>87</td>\n    </tr>\n    <tr>\n      <th>176</th>\n      <td>female</td>\n      <td>group B</td>\n      <td>high school</td>\n      <td>free/reduced</td>\n      <td>completed</td>\n      <td>46</td>\n      <td>54</td>\n      <td>58</td>\n    </tr>\n    <tr>\n      <th>177</th>\n      <td>female</td>\n      <td>group C</td>\n      <td>associate's degree</td>\n      <td>standard</td>\n      <td>completed</td>\n      <td>71</td>\n      <td>77</td>\n      <td>77</td>\n    </tr>\n    <tr>\n      <th>178</th>\n      <td>female</td>\n      <td>group B</td>\n      <td>master's degree</td>\n      <td>free/reduced</td>\n      <td>completed</td>\n      <td>52</td>\n      <td>70</td>\n      <td>62</td>\n    </tr>\n    <tr>\n      <th>179</th>\n      <td>female</td>\n      <td>group D</td>\n      <td>some high school</td>\n      <td>standard</td>\n      <td>completed</td>\n      <td>97</td>\n      <td>100</td>\n      <td>100</td>\n    </tr>\n    <tr>\n      <th>180</th>\n      <td>male</td>\n      <td>group C</td>\n      <td>master's degree</td>\n      <td>free/reduced</td>\n      <td>completed</td>\n      <td>62</td>\n      <td>68</td>\n      <td>75</td>\n    </tr>\n    <tr>\n      <th>181</th>\n      <td>female</td>\n      <td>group C</td>\n      <td>some college</td>\n      <td>free/reduced</td>\n      <td>none</td>\n      <td>46</td>\n      <td>64</td>\n      <td>66</td>\n    </tr>\n    <tr>\n      <th>182</th>\n      <td>female</td>\n      <td>group E</td>\n      <td>high school</td>\n      <td>standard</td>\n      <td>none</td>\n      <td>50</td>\n      <td>50</td>\n      <td>47</td>\n    </tr>\n    <tr>\n      <th>183</th>\n      <td>female</td>\n      <td>group D</td>\n      <td>associate's degree</td>\n      <td>standard</td>\n      <td>none</td>\n      <td>65</td>\n      <td>69</td>\n      <td>70</td>\n    </tr>\n    <tr>\n      <th>184</th>\n      <td>male</td>\n      <td>group C</td>\n      <td>some high school</td>\n      <td>free/reduced</td>\n      <td>completed</td>\n      <td>45</td>\n      <td>52</td>\n      <td>49</td>\n    </tr>\n    <tr>\n      <th>185</th>\n      <td>male</td>\n      <td>group C</td>\n      <td>associate's degree</td>\n      <td>free/reduced</td>\n      <td>completed</td>\n      <td>65</td>\n      <td>67</td>\n      <td>65</td>\n    </tr>\n    <tr>\n      <th>186</th>\n      <td>male</td>\n      <td>group E</td>\n      <td>high school</td>\n      <td>standard</td>\n      <td>none</td>\n      <td>80</td>\n      <td>76</td>\n      <td>65</td>\n    </tr>\n    <tr>\n      <th>187</th>\n      <td>male</td>\n      <td>group D</td>\n      <td>some high school</td>\n      <td>standard</td>\n      <td>completed</td>\n      <td>62</td>\n      <td>66</td>\n      <td>68</td>\n    </tr>\n    <tr>\n      <th>188</th>\n      <td>male</td>\n      <td>group B</td>\n      <td>some high school</td>\n      <td>free/reduced</td>\n      <td>none</td>\n      <td>48</td>\n      <td>52</td>\n      <td>45</td>\n    </tr>\n    <tr>\n      <th>189</th>\n      <td>female</td>\n      <td>group C</td>\n      <td>bachelor's degree</td>\n      <td>standard</td>\n      <td>none</td>\n      <td>77</td>\n      <td>88</td>\n      <td>87</td>\n    </tr>\n    <tr>\n      <th>190</th>\n      <td>female</td>\n      <td>group E</td>\n      <td>associate's degree</td>\n      <td>standard</td>\n      <td>none</td>\n      <td>66</td>\n      <td>65</td>\n      <td>69</td>\n    </tr>\n    <tr>\n      <th>191</th>\n      <td>male</td>\n      <td>group D</td>\n      <td>some college</td>\n      <td>standard</td>\n      <td>completed</td>\n      <td>76</td>\n      <td>83</td>\n      <td>79</td>\n    </tr>\n    <tr>\n      <th>192</th>\n      <td>female</td>\n      <td>group B</td>\n      <td>some high school</td>\n      <td>standard</td>\n      <td>none</td>\n      <td>62</td>\n      <td>64</td>\n      <td>66</td>\n    </tr>\n    <tr>\n      <th>193</th>\n      <td>male</td>\n      <td>group D</td>\n      <td>some college</td>\n      <td>standard</td>\n      <td>completed</td>\n      <td>77</td>\n      <td>62</td>\n      <td>62</td>\n    </tr>\n    <tr>\n      <th>194</th>\n      <td>female</td>\n      <td>group C</td>\n      <td>master's degree</td>\n      <td>standard</td>\n      <td>completed</td>\n      <td>69</td>\n      <td>84</td>\n      <td>85</td>\n    </tr>\n    <tr>\n      <th>195</th>\n      <td>male</td>\n      <td>group D</td>\n      <td>associate's degree</td>\n      <td>standard</td>\n      <td>none</td>\n      <td>61</td>\n      <td>55</td>\n      <td>52</td>\n    </tr>\n    <tr>\n      <th>196</th>\n      <td>male</td>\n      <td>group C</td>\n      <td>some high school</td>\n      <td>free/reduced</td>\n      <td>completed</td>\n      <td>59</td>\n      <td>69</td>\n      <td>65</td>\n    </tr>\n    <tr>\n      <th>197</th>\n      <td>male</td>\n      <td>group E</td>\n      <td>high school</td>\n      <td>free/reduced</td>\n      <td>none</td>\n      <td>55</td>\n      <td>56</td>\n      <td>51</td>\n    </tr>\n    <tr>\n      <th>198</th>\n      <td>female</td>\n      <td>group B</td>\n      <td>some college</td>\n      <td>free/reduced</td>\n      <td>none</td>\n      <td>45</td>\n      <td>53</td>\n      <td>55</td>\n    </tr>\n    <tr>\n      <th>199</th>\n      <td>female</td>\n      <td>group B</td>\n      <td>bachelor's degree</td>\n      <td>free/reduced</td>\n      <td>none</td>\n      <td>78</td>\n      <td>79</td>\n      <td>76</td>\n    </tr>\n  </tbody>\n</table>\n</div>"
     },
     "execution_count": 34,
     "metadata": {},
     "output_type": "execute_result"
    }
   ]
  },
  {
   "cell_type": "markdown",
   "source": [
    "## Images\n",
    "\n",
    "Jupyter is capable of showing images:"
   ],
   "metadata": {
    "collapsed": false
   }
  },
  {
   "cell_type": "code",
   "execution_count": 35,
   "outputs": [
    {
     "name": "stderr",
     "output_type": "stream",
     "text": [
      "/var/folders/mv/j0f9pb8d6mv1zvnx7rc_x14m0000gr/T/ipykernel_77820/3657158012.py:3: MatplotlibDeprecationWarning:\n",
      "\n",
      "Directly reading images from URLs is deprecated since 3.4 and will no longer be supported two minor releases later. Please open the URL for reading and pass the result to Pillow, e.g. with ``np.array(PIL.Image.open(urllib.request.urlopen(url)))``.\n",
      "\n"
     ]
    },
    {
     "data": {
      "text/plain": "<Figure size 432x288 with 1 Axes>",
      "image/png": "[encoded data removed]"
     },
     "metadata": {
      "needs_background": "light"
     },
     "output_type": "display_data"
    }
   ],
   "source": [
    "import matplotlib.image as mpimg\n",
    "\n",
    "img = mpimg.imread('https://logomakr.com/storage/2021/09/logomaker.png')\n",
    "imgplot = plt.imshow(img)\n",
    "\n",
    "plt.show();"
   ],
   "metadata": {
    "collapsed": false,
    "pycharm": {
     "name": "#%%\n"
    }
   }
  },
  {
   "cell_type": "markdown",
   "source": [
    "## Matplotlib-based Graphic\n",
    "\n",
    "A lot of python libraries are based on matplotlib library. It provides a static image output. \n",
    "\n",
    "For example, let's take a look at distributions of math scores over gender:"
   ],
   "metadata": {}
  },
  {
   "cell_type": "code",
   "source": [
    "f, ax = plt.subplots(figsize=(7, 5))\n",
    "\n",
    "sns.despine(f)\n",
    "\n",
    "sns.histplot(\n",
    "    dataset,\n",
    "    x=\"math score\", hue=\"gender\",\n",
    "    multiple=\"stack\",\n",
    "    palette=\"light:m_r\",\n",
    "    edgecolor=\".3\",\n",
    ");"
   ],
   "metadata": {
    "execution": {
     "iopub.status.busy": "2022-01-21T11:08:03.390356Z",
     "iopub.execute_input": "2022-01-21T11:08:03.391111Z",
     "iopub.status.idle": "2022-01-21T11:08:03.817720Z",
     "shell.execute_reply.started": "2022-01-21T11:08:03.391074Z",
     "shell.execute_reply": "2022-01-21T11:08:03.816792Z"
    },
    "trusted": true
   },
   "execution_count": 36,
   "outputs": [
    {
     "data": {
      "text/plain": "<Figure size 504x360 with 1 Axes>",
      "image/png": "[encoded data removed]"
     },
     "metadata": {
      "needs_background": "light"
     },
     "output_type": "display_data"
    }
   ]
  },
  {
   "cell_type": "markdown",
   "source": [
    "..and correlation between reading and math scores:"
   ],
   "metadata": {}
  },
  {
   "cell_type": "code",
   "source": [
    "sns.relplot(\n",
    "    x=\"math score\", \n",
    "    y=\"reading score\", \n",
    "    hue=\"gender\", \n",
    "    sizes=(40, 400), \n",
    "    alpha=.5, \n",
    "    palette=\"muted\",\n",
    "    height=6, \n",
    "    data=dataset,\n",
    ");"
   ],
   "metadata": {
    "execution": {
     "iopub.status.busy": "2022-01-21T11:08:05.999184Z",
     "iopub.execute_input": "2022-01-21T11:08:05.999459Z",
     "iopub.status.idle": "2022-01-21T11:08:06.655470Z",
     "shell.execute_reply.started": "2022-01-21T11:08:05.999432Z",
     "shell.execute_reply": "2022-01-21T11:08:06.654540Z"
    },
    "trusted": true
   },
   "execution_count": 37,
   "outputs": [
    {
     "data": {
      "text/plain": "<Figure size 502.5x432 with 1 Axes>",
      "image/png": "[encoded data removed]"
     },
     "metadata": {
      "needs_background": "light"
     },
     "output_type": "display_data"
    }
   ]
  },
  {
   "cell_type": "markdown",
   "source": [
    "Size of the graphics can be changed:"
   ],
   "metadata": {}
  },
  {
   "cell_type": "code",
   "source": [
    "plt.figure(figsize=(15, 20), dpi=80)\n",
    "\n",
    "sns.pairplot(dataset, hue=\"parental level of education\", palette=\"tab10\");"
   ],
   "metadata": {
    "execution": {
     "iopub.status.busy": "2022-01-21T11:08:08.849079Z",
     "iopub.execute_input": "2022-01-21T11:08:08.849641Z",
     "iopub.status.idle": "2022-01-21T11:08:12.374954Z",
     "shell.execute_reply.started": "2022-01-21T11:08:08.849598Z",
     "shell.execute_reply": "2022-01-21T11:08:12.374358Z"
    },
    "trusted": true
   },
   "execution_count": 38,
   "outputs": [
    {
     "data": {
      "text/plain": "<Figure size 1200x1600 with 0 Axes>"
     },
     "metadata": {},
     "output_type": "display_data"
    },
    {
     "data": {
      "text/plain": "<Figure size 682.125x540 with 12 Axes>",
      "image/png": "[encoded data removed]"
     },
     "metadata": {
      "needs_background": "light"
     },
     "output_type": "display_data"
    }
   ]
  },
  {
   "cell_type": "markdown",
   "source": [
    "## Interactive Widgets\n",
    "\n",
    "Jupyter provides a way to have interactive outputs. \n",
    "\n",
    "### IPyWidgets\n",
    "\n",
    "Here is the simplest form of it (try to drag the slider and see how output got changed):"
   ],
   "metadata": {}
  },
  {
   "cell_type": "code",
   "source": [
    "from ipywidgets import interact \n",
    "\n",
    "\n",
    "@interact(x=(0, 100, 10))\n",
    "def p(x=50):\n",
    "    print(x)"
   ],
   "metadata": {
    "execution": {
     "iopub.status.busy": "2022-01-21T11:09:13.761887Z",
     "iopub.execute_input": "2022-01-21T11:09:13.762229Z",
     "iopub.status.idle": "2022-01-21T11:09:13.791605Z",
     "shell.execute_reply.started": "2022-01-21T11:09:13.762189Z",
     "shell.execute_reply": "2022-01-21T11:09:13.790796Z"
    },
    "trusted": true
   },
   "execution_count": 39,
   "outputs": [
    {
     "data": {
      "text/plain": "interactive(children=(IntSlider(value=50, description='x', step=10), Output()), _dom_classes=('widget-interact…",
      "application/vnd.jupyter.widget-view+json": {
       "version_major": 2,
       "version_minor": 0,
       "model_id": "27e54ae38e764c9ba213460790aa3a50"
      }
     },
     "metadata": {},
     "output_type": "display_data"
    }
   ]
  },
  {
   "cell_type": "markdown",
   "source": [
    "### Plotly\n",
    "\n",
    "Plotly is another popular DataViz tool that provides interactive graphics.\n",
    "\n",
    "For example, let's see distribution of parental level of education as a donut graph:"
   ],
   "metadata": {}
  },
  {
   "cell_type": "code",
   "source": [
    "parental_education_levels = dataset[\"parental level of education\"].value_counts()\n",
    "parental_education_levels"
   ],
   "metadata": {
    "execution": {
     "iopub.status.busy": "2022-01-21T11:08:27.775331Z",
     "iopub.execute_input": "2022-01-21T11:08:27.775622Z",
     "iopub.status.idle": "2022-01-21T11:08:27.783066Z",
     "shell.execute_reply.started": "2022-01-21T11:08:27.775588Z",
     "shell.execute_reply": "2022-01-21T11:08:27.782470Z"
    },
    "trusted": true
   },
   "execution_count": 40,
   "outputs": [
    {
     "data": {
      "text/plain": "some college          226\nassociate's degree    222\nhigh school           196\nsome high school      179\nbachelor's degree     118\nmaster's degree        59\nName: parental level of education, dtype: int64"
     },
     "execution_count": 40,
     "metadata": {},
     "output_type": "execute_result"
    }
   ]
  },
  {
   "cell_type": "code",
   "source": [
    "fig = px.pie(values=parental_education_levels.values, names=parental_education_levels.index, title='Distribution of parental education levels')\n",
    "fig.show()"
   ],
   "metadata": {
    "execution": {
     "iopub.status.busy": "2022-01-21T11:08:30.398768Z",
     "iopub.execute_input": "2022-01-21T11:08:30.399041Z",
     "iopub.status.idle": "2022-01-21T11:08:31.477862Z",
     "shell.execute_reply.started": "2022-01-21T11:08:30.398992Z",
     "shell.execute_reply": "2022-01-21T11:08:31.476993Z"
    },
    "trusted": true
   },
   "execution_count": 41,
   "outputs": [
    {
     "data": {
      "application/vnd.plotly.v1+json": {
       "data": [
        {
         "domain": {
          "x": [
           0.0,
           1.0
          ],
          "y": [
           0.0,
           1.0
          ]
         },
         "hovertemplate": "label=%{label}<br>value=%{value}<extra></extra>",
         "labels": [
          "some college",
          "associate's degree",
          "high school",
          "some high school",
          "bachelor's degree",
          "master's degree"
         ],
         "legendgroup": "",
         "name": "",
         "showlegend": true,
         "values": [
          226,
          222,
          196,
          179,
          118,
          59
         ],
         "type": "pie"
        }
       ],
       "layout": {
        "template": {
         "data": {
          "bar": [
           {
            "error_x": {
             "color": "#2a3f5f"
            },
            "error_y": {
             "color": "#2a3f5f"
            },
            "marker": {
             "line": {
              "color": "#E5ECF6",
              "width": 0.5
             },
             "pattern": {
              "fillmode": "overlay",
              "size": 10,
              "solidity": 0.2
             }
            },
            "type": "bar"
           }
          ],
          "barpolar": [
           {
            "marker": {
             "line": {
              "color": "#E5ECF6",
              "width": 0.5
             },
             "pattern": {
              "fillmode": "overlay",
              "size": 10,
              "solidity": 0.2
             }
            },
            "type": "barpolar"
           }
          ],
          "carpet": [
           {
            "aaxis": {
             "endlinecolor": "#2a3f5f",
             "gridcolor": "white",
             "linecolor": "white",
             "minorgridcolor": "white",
             "startlinecolor": "#2a3f5f"
            },
            "baxis": {
             "endlinecolor": "#2a3f5f",
             "gridcolor": "white",
             "linecolor": "white",
             "minorgridcolor": "white",
             "startlinecolor": "#2a3f5f"
            },
            "type": "carpet"
           }
          ],
          "choropleth": [
           {
            "colorbar": {
             "outlinewidth": 0,
             "ticks": ""
            },
            "type": "choropleth"
           }
          ],
          "contour": [
           {
            "colorbar": {
             "outlinewidth": 0,
             "ticks": ""
            },
            "colorscale": [
             [
              0.0,
              "#0d0887"
             ],
             [
              0.1111111111111111,
              "#46039f"
             ],
             [
              0.2222222222222222,
              "#7201a8"
             ],
             [
              0.3333333333333333,
              "#9c179e"
             ],
             [
              0.4444444444444444,
              "#bd3786"
             ],
             [
              0.5555555555555556,
              "#d8576b"
             ],
             [
              0.6666666666666666,
              "#ed7953"
             ],
             [
              0.7777777777777778,
              "#fb9f3a"
             ],
             [
              0.8888888888888888,
              "#fdca26"
             ],
             [
              1.0,
              "#f0f921"
             ]
            ],
            "type": "contour"
           }
          ],
          "contourcarpet": [
           {
            "colorbar": {
             "outlinewidth": 0,
             "ticks": ""
            },
            "type": "contourcarpet"
           }
          ],
          "heatmap": [
           {
            "colorbar": {
             "outlinewidth": 0,
             "ticks": ""
            },
            "colorscale": [
             [
              0.0,
              "#0d0887"
             ],
             [
              0.1111111111111111,
              "#46039f"
             ],
             [
              0.2222222222222222,
              "#7201a8"
             ],
             [
              0.3333333333333333,
              "#9c179e"
             ],
             [
              0.4444444444444444,
              "#bd3786"
             ],
             [
              0.5555555555555556,
              "#d8576b"
             ],
             [
              0.6666666666666666,
              "#ed7953"
             ],
             [
              0.7777777777777778,
              "#fb9f3a"
             ],
             [
              0.8888888888888888,
              "#fdca26"
             ],
             [
              1.0,
              "#f0f921"
             ]
            ],
            "type": "heatmap"
           }
          ],
          "heatmapgl": [
           {
            "colorbar": {
             "outlinewidth": 0,
             "ticks": ""
            },
            "colorscale": [
             [
              0.0,
              "#0d0887"
             ],
             [
              0.1111111111111111,
              "#46039f"
             ],
             [
              0.2222222222222222,
              "#7201a8"
             ],
             [
              0.3333333333333333,
              "#9c179e"
             ],
             [
              0.4444444444444444,
              "#bd3786"
             ],
             [
              0.5555555555555556,
              "#d8576b"
             ],
             [
              0.6666666666666666,
              "#ed7953"
             ],
             [
              0.7777777777777778,
              "#fb9f3a"
             ],
             [
              0.8888888888888888,
              "#fdca26"
             ],
             [
              1.0,
              "#f0f921"
             ]
            ],
            "type": "heatmapgl"
           }
          ],
          "histogram": [
           {
            "marker": {
             "pattern": {
              "fillmode": "overlay",
              "size": 10,
              "solidity": 0.2
             }
            },
            "type": "histogram"
           }
          ],
          "histogram2d": [
           {
            "colorbar": {
             "outlinewidth": 0,
             "ticks": ""
            },
            "colorscale": [
             [
              0.0,
              "#0d0887"
             ],
             [
              0.1111111111111111,
              "#46039f"
             ],
             [
              0.2222222222222222,
              "#7201a8"
             ],
             [
              0.3333333333333333,
              "#9c179e"
             ],
             [
              0.4444444444444444,
              "#bd3786"
             ],
             [
              0.5555555555555556,
              "#d8576b"
             ],
             [
              0.6666666666666666,
              "#ed7953"
             ],
             [
              0.7777777777777778,
              "#fb9f3a"
             ],
             [
              0.8888888888888888,
              "#fdca26"
             ],
             [
              1.0,
              "#f0f921"
             ]
            ],
            "type": "histogram2d"
           }
          ],
          "histogram2dcontour": [
           {
            "colorbar": {
             "outlinewidth": 0,
             "ticks": ""
            },
            "colorscale": [
             [
              0.0,
              "#0d0887"
             ],
             [
              0.1111111111111111,
              "#46039f"
             ],
             [
              0.2222222222222222,
              "#7201a8"
             ],
             [
              0.3333333333333333,
              "#9c179e"
             ],
             [
              0.4444444444444444,
              "#bd3786"
             ],
             [
              0.5555555555555556,
              "#d8576b"
             ],
             [
              0.6666666666666666,
              "#ed7953"
             ],
             [
              0.7777777777777778,
              "#fb9f3a"
             ],
             [
              0.8888888888888888,
              "#fdca26"
             ],
             [
              1.0,
              "#f0f921"
             ]
            ],
            "type": "histogram2dcontour"
           }
          ],
          "mesh3d": [
           {
            "colorbar": {
             "outlinewidth": 0,
             "ticks": ""
            },
            "type": "mesh3d"
           }
          ],
          "parcoords": [
           {
            "line": {
             "colorbar": {
              "outlinewidth": 0,
              "ticks": ""
             }
            },
            "type": "parcoords"
           }
          ],
          "pie": [
           {
            "automargin": true,
            "type": "pie"
           }
          ],
          "scatter": [
           {
            "marker": {
             "colorbar": {
              "outlinewidth": 0,
              "ticks": ""
             }
            },
            "type": "scatter"
           }
          ],
          "scatter3d": [
           {
            "line": {
             "colorbar": {
              "outlinewidth": 0,
              "ticks": ""
             }
            },
            "marker": {
             "colorbar": {
              "outlinewidth": 0,
              "ticks": ""
             }
            },
            "type": "scatter3d"
           }
          ],
          "scattercarpet": [
           {
            "marker": {
             "colorbar": {
              "outlinewidth": 0,
              "ticks": ""
             }
            },
            "type": "scattercarpet"
           }
          ],
          "scattergeo": [
           {
            "marker": {
             "colorbar": {
              "outlinewidth": 0,
              "ticks": ""
             }
            },
            "type": "scattergeo"
           }
          ],
          "scattergl": [
           {
            "marker": {
             "colorbar": {
              "outlinewidth": 0,
              "ticks": ""
             }
            },
            "type": "scattergl"
           }
          ],
          "scattermapbox": [
           {
            "marker": {
             "colorbar": {
              "outlinewidth": 0,
              "ticks": ""
             }
            },
            "type": "scattermapbox"
           }
          ],
          "scatterpolar": [
           {
            "marker": {
             "colorbar": {
              "outlinewidth": 0,
              "ticks": ""
             }
            },
            "type": "scatterpolar"
           }
          ],
          "scatterpolargl": [
           {
            "marker": {
             "colorbar": {
              "outlinewidth": 0,
              "ticks": ""
             }
            },
            "type": "scatterpolargl"
           }
          ],
          "scatterternary": [
           {
            "marker": {
             "colorbar": {
              "outlinewidth": 0,
              "ticks": ""
             }
            },
            "type": "scatterternary"
           }
          ],
          "surface": [
           {
            "colorbar": {
             "outlinewidth": 0,
             "ticks": ""
            },
            "colorscale": [
             [
              0.0,
              "#0d0887"
             ],
             [
              0.1111111111111111,
              "#46039f"
             ],
             [
              0.2222222222222222,
              "#7201a8"
             ],
             [
              0.3333333333333333,
              "#9c179e"
             ],
             [
              0.4444444444444444,
              "#bd3786"
             ],
             [
              0.5555555555555556,
              "#d8576b"
             ],
             [
              0.6666666666666666,
              "#ed7953"
             ],
             [
              0.7777777777777778,
              "#fb9f3a"
             ],
             [
              0.8888888888888888,
              "#fdca26"
             ],
             [
              1.0,
              "#f0f921"
             ]
            ],
            "type": "surface"
           }
          ],
          "table": [
           {
            "cells": {
             "fill": {
              "color": "#EBF0F8"
             },
             "line": {
              "color": "white"
             }
            },
            "header": {
             "fill": {
              "color": "#C8D4E3"
             },
             "line": {
              "color": "white"
             }
            },
            "type": "table"
           }
          ]
         },
         "layout": {
          "annotationdefaults": {
           "arrowcolor": "#2a3f5f",
           "arrowhead": 0,
           "arrowwidth": 1
          },
          "autotypenumbers": "strict",
          "coloraxis": {
           "colorbar": {
            "outlinewidth": 0,
            "ticks": ""
           }
          },
          "colorscale": {
           "diverging": [
            [
             0,
             "#8e0152"
            ],
            [
             0.1,
             "#c51b7d"
            ],
            [
             0.2,
             "#de77ae"
            ],
            [
             0.3,
             "#f1b6da"
            ],
            [
             0.4,
             "#fde0ef"
            ],
            [
             0.5,
             "#f7f7f7"
            ],
            [
             0.6,
             "#e6f5d0"
            ],
            [
             0.7,
             "#b8e186"
            ],
            [
             0.8,
             "#7fbc41"
            ],
            [
             0.9,
             "#4d9221"
            ],
            [
             1,
             "#276419"
            ]
           ],
           "sequential": [
            [
             0.0,
             "#0d0887"
            ],
            [
             0.1111111111111111,
             "#46039f"
            ],
            [
             0.2222222222222222,
             "#7201a8"
            ],
            [
             0.3333333333333333,
             "#9c179e"
            ],
            [
             0.4444444444444444,
             "#bd3786"
            ],
            [
             0.5555555555555556,
             "#d8576b"
            ],
            [
             0.6666666666666666,
             "#ed7953"
            ],
            [
             0.7777777777777778,
             "#fb9f3a"
            ],
            [
             0.8888888888888888,
             "#fdca26"
            ],
            [
             1.0,
             "#f0f921"
            ]
           ],
           "sequentialminus": [
            [
             0.0,
             "#0d0887"
            ],
            [
             0.1111111111111111,
             "#46039f"
            ],
            [
             0.2222222222222222,
             "#7201a8"
            ],
            [
             0.3333333333333333,
             "#9c179e"
            ],
            [
             0.4444444444444444,
             "#bd3786"
            ],
            [
             0.5555555555555556,
             "#d8576b"
            ],
            [
             0.6666666666666666,
             "#ed7953"
            ],
            [
             0.7777777777777778,
             "#fb9f3a"
            ],
            [
             0.8888888888888888,
             "#fdca26"
            ],
            [
             1.0,
             "#f0f921"
            ]
           ]
          },
          "colorway": [
           "#636efa",
           "#EF553B",
           "#00cc96",
           "#ab63fa",
           "#FFA15A",
           "#19d3f3",
           "#FF6692",
           "#B6E880",
           "#FF97FF",
           "#FECB52"
          ],
          "font": {
           "color": "#2a3f5f"
          },
          "geo": {
           "bgcolor": "white",
           "lakecolor": "white",
           "landcolor": "#E5ECF6",
           "showlakes": true,
           "showland": true,
           "subunitcolor": "white"
          },
          "hoverlabel": {
           "align": "left"
          },
          "hovermode": "closest",
          "mapbox": {
           "style": "light"
          },
          "paper_bgcolor": "white",
          "plot_bgcolor": "#E5ECF6",
          "polar": {
           "angularaxis": {
            "gridcolor": "white",
            "linecolor": "white",
            "ticks": ""
           },
           "bgcolor": "#E5ECF6",
           "radialaxis": {
            "gridcolor": "white",
            "linecolor": "white",
            "ticks": ""
           }
          },
          "scene": {
           "xaxis": {
            "backgroundcolor": "#E5ECF6",
            "gridcolor": "white",
            "gridwidth": 2,
            "linecolor": "white",
            "showbackground": true,
            "ticks": "",
            "zerolinecolor": "white"
           },
           "yaxis": {
            "backgroundcolor": "#E5ECF6",
            "gridcolor": "white",
            "gridwidth": 2,
            "linecolor": "white",
            "showbackground": true,
            "ticks": "",
            "zerolinecolor": "white"
           },
           "zaxis": {
            "backgroundcolor": "#E5ECF6",
            "gridcolor": "white",
            "gridwidth": 2,
            "linecolor": "white",
            "showbackground": true,
            "ticks": "",
            "zerolinecolor": "white"
           }
          },
          "shapedefaults": {
           "line": {
            "color": "#2a3f5f"
           }
          },
          "ternary": {
           "aaxis": {
            "gridcolor": "white",
            "linecolor": "white",
            "ticks": ""
           },
           "baxis": {
            "gridcolor": "white",
            "linecolor": "white",
            "ticks": ""
           },
           "bgcolor": "#E5ECF6",
           "caxis": {
            "gridcolor": "white",
            "linecolor": "white",
            "ticks": ""
           }
          },
          "title": {
           "x": 0.05
          },
          "xaxis": {
           "automargin": true,
           "gridcolor": "white",
           "linecolor": "white",
           "ticks": "",
           "title": {
            "standoff": 15
           },
           "zerolinecolor": "white",
           "zerolinewidth": 2
          },
          "yaxis": {
           "automargin": true,
           "gridcolor": "white",
           "linecolor": "white",
           "ticks": "",
           "title": {
            "standoff": 15
           },
           "zerolinecolor": "white",
           "zerolinewidth": 2
          }
         }
        },
        "legend": {
         "tracegroupgap": 0
        },
        "title": {
         "text": "Distribution of parental education levels"
        }
       },
       "config": {
        "plotlyServerURL": "https://plot.ly"
       }
      },
      "text/html": "<div>                            <div id=\"8be3284d-a49c-4584-bb7d-0585a62af02d\" class=\"plotly-graph-div\" style=\"height:525px; width:100%;\"></div>            <script type=\"text/javascript\">                require([\"plotly\"], function(Plotly) {                    window.PLOTLYENV=window.PLOTLYENV || {};                                    if (document.getElementById(\"8be3284d-a49c-4584-bb7d-0585a62af02d\")) {                    Plotly.newPlot(                        \"8be3284d-a49c-4584-bb7d-0585a62af02d\",                        [{\"domain\":{\"x\":[0.0,1.0],\"y\":[0.0,1.0]},\"hovertemplate\":\"label=%{label}<br>value=%{value}<extra></extra>\",\"labels\":[\"some college\",\"associate's degree\",\"high school\",\"some high school\",\"bachelor's degree\",\"master's degree\"],\"legendgroup\":\"\",\"name\":\"\",\"showlegend\":true,\"values\":[226,222,196,179,118,59],\"type\":\"pie\"}],                        {\"template\":{\"data\":{\"bar\":[{\"error_x\":{\"color\":\"#2a3f5f\"},\"error_y\":{\"color\":\"#2a3f5f\"},\"marker\":{\"line\":{\"color\":\"#E5ECF6\",\"width\":0.5},\"pattern\":{\"fillmode\":\"overlay\",\"size\":10,\"solidity\":0.2}},\"type\":\"bar\"}],\"barpolar\":[{\"marker\":{\"line\":{\"color\":\"#E5ECF6\",\"width\":0.5},\"pattern\":{\"fillmode\":\"overlay\",\"size\":10,\"solidity\":0.2}},\"type\":\"barpolar\"}],\"carpet\":[{\"aaxis\":{\"endlinecolor\":\"#2a3f5f\",\"gridcolor\":\"white\",\"linecolor\":\"white\",\"minorgridcolor\":\"white\",\"startlinecolor\":\"#2a3f5f\"},\"baxis\":{\"endlinecolor\":\"#2a3f5f\",\"gridcolor\":\"white\",\"linecolor\":\"white\",\"minorgridcolor\":\"white\",\"startlinecolor\":\"#2a3f5f\"},\"type\":\"carpet\"}],\"choropleth\":[{\"colorbar\":{\"outlinewidth\":0,\"ticks\":\"\"},\"type\":\"choropleth\"}],\"contour\":[{\"colorbar\":{\"outlinewidth\":0,\"ticks\":\"\"},\"colorscale\":[[0.0,\"#0d0887\"],[0.1111111111111111,\"#46039f\"],[0.2222222222222222,\"#7201a8\"],[0.3333333333333333,\"#9c179e\"],[0.4444444444444444,\"#bd3786\"],[0.5555555555555556,\"#d8576b\"],[0.6666666666666666,\"#ed7953\"],[0.7777777777777778,\"#fb9f3a\"],[0.8888888888888888,\"#fdca26\"],[1.0,\"#f0f921\"]],\"type\":\"contour\"}],\"contourcarpet\":[{\"colorbar\":{\"outlinewidth\":0,\"ticks\":\"\"},\"type\":\"contourcarpet\"}],\"heatmap\":[{\"colorbar\":{\"outlinewidth\":0,\"ticks\":\"\"},\"colorscale\":[[0.0,\"#0d0887\"],[0.1111111111111111,\"#46039f\"],[0.2222222222222222,\"#7201a8\"],[0.3333333333333333,\"#9c179e\"],[0.4444444444444444,\"#bd3786\"],[0.5555555555555556,\"#d8576b\"],[0.6666666666666666,\"#ed7953\"],[0.7777777777777778,\"#fb9f3a\"],[0.8888888888888888,\"#fdca26\"],[1.0,\"#f0f921\"]],\"type\":\"heatmap\"}],\"heatmapgl\":[{\"colorbar\":{\"outlinewidth\":0,\"ticks\":\"\"},\"colorscale\":[[0.0,\"#0d0887\"],[0.1111111111111111,\"#46039f\"],[0.2222222222222222,\"#7201a8\"],[0.3333333333333333,\"#9c179e\"],[0.4444444444444444,\"#bd3786\"],[0.5555555555555556,\"#d8576b\"],[0.6666666666666666,\"#ed7953\"],[0.7777777777777778,\"#fb9f3a\"],[0.8888888888888888,\"#fdca26\"],[1.0,\"#f0f921\"]],\"type\":\"heatmapgl\"}],\"histogram\":[{\"marker\":{\"pattern\":{\"fillmode\":\"overlay\",\"size\":10,\"solidity\":0.2}},\"type\":\"histogram\"}],\"histogram2d\":[{\"colorbar\":{\"outlinewidth\":0,\"ticks\":\"\"},\"colorscale\":[[0.0,\"#0d0887\"],[0.1111111111111111,\"#46039f\"],[0.2222222222222222,\"#7201a8\"],[0.3333333333333333,\"#9c179e\"],[0.4444444444444444,\"#bd3786\"],[0.5555555555555556,\"#d8576b\"],[0.6666666666666666,\"#ed7953\"],[0.7777777777777778,\"#fb9f3a\"],[0.8888888888888888,\"#fdca26\"],[1.0,\"#f0f921\"]],\"type\":\"histogram2d\"}],\"histogram2dcontour\":[{\"colorbar\":{\"outlinewidth\":0,\"ticks\":\"\"},\"colorscale\":[[0.0,\"#0d0887\"],[0.1111111111111111,\"#46039f\"],[0.2222222222222222,\"#7201a8\"],[0.3333333333333333,\"#9c179e\"],[0.4444444444444444,\"#bd3786\"],[0.5555555555555556,\"#d8576b\"],[0.6666666666666666,\"#ed7953\"],[0.7777777777777778,\"#fb9f3a\"],[0.8888888888888888,\"#fdca26\"],[1.0,\"#f0f921\"]],\"type\":\"histogram2dcontour\"}],\"mesh3d\":[{\"colorbar\":{\"outlinewidth\":0,\"ticks\":\"\"},\"type\":\"mesh3d\"}],\"parcoords\":[{\"line\":{\"colorbar\":{\"outlinewidth\":0,\"ticks\":\"\"}},\"type\":\"parcoords\"}],\"pie\":[{\"automargin\":true,\"type\":\"pie\"}],\"scatter\":[{\"marker\":{\"colorbar\":{\"outlinewidth\":0,\"ticks\":\"\"}},\"type\":\"scatter\"}],\"scatter3d\":[{\"line\":{\"colorbar\":{\"outlinewidth\":0,\"ticks\":\"\"}},\"marker\":{\"colorbar\":{\"outlinewidth\":0,\"ticks\":\"\"}},\"type\":\"scatter3d\"}],\"scattercarpet\":[{\"marker\":{\"colorbar\":{\"outlinewidth\":0,\"ticks\":\"\"}},\"type\":\"scattercarpet\"}],\"scattergeo\":[{\"marker\":{\"colorbar\":{\"outlinewidth\":0,\"ticks\":\"\"}},\"type\":\"scattergeo\"}],\"scattergl\":[{\"marker\":{\"colorbar\":{\"outlinewidth\":0,\"ticks\":\"\"}},\"type\":\"scattergl\"}],\"scattermapbox\":[{\"marker\":{\"colorbar\":{\"outlinewidth\":0,\"ticks\":\"\"}},\"type\":\"scattermapbox\"}],\"scatterpolar\":[{\"marker\":{\"colorbar\":{\"outlinewidth\":0,\"ticks\":\"\"}},\"type\":\"scatterpolar\"}],\"scatterpolargl\":[{\"marker\":{\"colorbar\":{\"outlinewidth\":0,\"ticks\":\"\"}},\"type\":\"scatterpolargl\"}],\"scatterternary\":[{\"marker\":{\"colorbar\":{\"outlinewidth\":0,\"ticks\":\"\"}},\"type\":\"scatterternary\"}],\"surface\":[{\"colorbar\":{\"outlinewidth\":0,\"ticks\":\"\"},\"colorscale\":[[0.0,\"#0d0887\"],[0.1111111111111111,\"#46039f\"],[0.2222222222222222,\"#7201a8\"],[0.3333333333333333,\"#9c179e\"],[0.4444444444444444,\"#bd3786\"],[0.5555555555555556,\"#d8576b\"],[0.6666666666666666,\"#ed7953\"],[0.7777777777777778,\"#fb9f3a\"],[0.8888888888888888,\"#fdca26\"],[1.0,\"#f0f921\"]],\"type\":\"surface\"}],\"table\":[{\"cells\":{\"fill\":{\"color\":\"#EBF0F8\"},\"line\":{\"color\":\"white\"}},\"header\":{\"fill\":{\"color\":\"#C8D4E3\"},\"line\":{\"color\":\"white\"}},\"type\":\"table\"}]},\"layout\":{\"annotationdefaults\":{\"arrowcolor\":\"#2a3f5f\",\"arrowhead\":0,\"arrowwidth\":1},\"autotypenumbers\":\"strict\",\"coloraxis\":{\"colorbar\":{\"outlinewidth\":0,\"ticks\":\"\"}},\"colorscale\":{\"diverging\":[[0,\"#8e0152\"],[0.1,\"#c51b7d\"],[0.2,\"#de77ae\"],[0.3,\"#f1b6da\"],[0.4,\"#fde0ef\"],[0.5,\"#f7f7f7\"],[0.6,\"#e6f5d0\"],[0.7,\"#b8e186\"],[0.8,\"#7fbc41\"],[0.9,\"#4d9221\"],[1,\"#276419\"]],\"sequential\":[[0.0,\"#0d0887\"],[0.1111111111111111,\"#46039f\"],[0.2222222222222222,\"#7201a8\"],[0.3333333333333333,\"#9c179e\"],[0.4444444444444444,\"#bd3786\"],[0.5555555555555556,\"#d8576b\"],[0.6666666666666666,\"#ed7953\"],[0.7777777777777778,\"#fb9f3a\"],[0.8888888888888888,\"#fdca26\"],[1.0,\"#f0f921\"]],\"sequentialminus\":[[0.0,\"#0d0887\"],[0.1111111111111111,\"#46039f\"],[0.2222222222222222,\"#7201a8\"],[0.3333333333333333,\"#9c179e\"],[0.4444444444444444,\"#bd3786\"],[0.5555555555555556,\"#d8576b\"],[0.6666666666666666,\"#ed7953\"],[0.7777777777777778,\"#fb9f3a\"],[0.8888888888888888,\"#fdca26\"],[1.0,\"#f0f921\"]]},\"colorway\":[\"#636efa\",\"#EF553B\",\"#00cc96\",\"#ab63fa\",\"#FFA15A\",\"#19d3f3\",\"#FF6692\",\"#B6E880\",\"#FF97FF\",\"#FECB52\"],\"font\":{\"color\":\"#2a3f5f\"},\"geo\":{\"bgcolor\":\"white\",\"lakecolor\":\"white\",\"landcolor\":\"#E5ECF6\",\"showlakes\":true,\"showland\":true,\"subunitcolor\":\"white\"},\"hoverlabel\":{\"align\":\"left\"},\"hovermode\":\"closest\",\"mapbox\":{\"style\":\"light\"},\"paper_bgcolor\":\"white\",\"plot_bgcolor\":\"#E5ECF6\",\"polar\":{\"angularaxis\":{\"gridcolor\":\"white\",\"linecolor\":\"white\",\"ticks\":\"\"},\"bgcolor\":\"#E5ECF6\",\"radialaxis\":{\"gridcolor\":\"white\",\"linecolor\":\"white\",\"ticks\":\"\"}},\"scene\":{\"xaxis\":{\"backgroundcolor\":\"#E5ECF6\",\"gridcolor\":\"white\",\"gridwidth\":2,\"linecolor\":\"white\",\"showbackground\":true,\"ticks\":\"\",\"zerolinecolor\":\"white\"},\"yaxis\":{\"backgroundcolor\":\"#E5ECF6\",\"gridcolor\":\"white\",\"gridwidth\":2,\"linecolor\":\"white\",\"showbackground\":true,\"ticks\":\"\",\"zerolinecolor\":\"white\"},\"zaxis\":{\"backgroundcolor\":\"#E5ECF6\",\"gridcolor\":\"white\",\"gridwidth\":2,\"linecolor\":\"white\",\"showbackground\":true,\"ticks\":\"\",\"zerolinecolor\":\"white\"}},\"shapedefaults\":{\"line\":{\"color\":\"#2a3f5f\"}},\"ternary\":{\"aaxis\":{\"gridcolor\":\"white\",\"linecolor\":\"white\",\"ticks\":\"\"},\"baxis\":{\"gridcolor\":\"white\",\"linecolor\":\"white\",\"ticks\":\"\"},\"bgcolor\":\"#E5ECF6\",\"caxis\":{\"gridcolor\":\"white\",\"linecolor\":\"white\",\"ticks\":\"\"}},\"title\":{\"x\":0.05},\"xaxis\":{\"automargin\":true,\"gridcolor\":\"white\",\"linecolor\":\"white\",\"ticks\":\"\",\"title\":{\"standoff\":15},\"zerolinecolor\":\"white\",\"zerolinewidth\":2},\"yaxis\":{\"automargin\":true,\"gridcolor\":\"white\",\"linecolor\":\"white\",\"ticks\":\"\",\"title\":{\"standoff\":15},\"zerolinecolor\":\"white\",\"zerolinewidth\":2}}},\"legend\":{\"tracegroupgap\":0},\"title\":{\"text\":\"Distribution of parental education levels\"}},                        {\"responsive\": true}                    ).then(function(){\n                            \nvar gd = document.getElementById('8be3284d-a49c-4584-bb7d-0585a62af02d');\nvar x = new MutationObserver(function (mutations, observer) {{\n        var display = window.getComputedStyle(gd).display;\n        if (!display || display === 'none') {{\n            console.log([gd, 'removed!']);\n            Plotly.purge(gd);\n            observer.disconnect();\n        }}\n}});\n\n// Listen for the removal of the full notebook cells\nvar notebookContainer = gd.closest('#notebook-container');\nif (notebookContainer) {{\n    x.observe(notebookContainer, {childList: true});\n}}\n\n// Listen for the clearing of the current output cell\nvar outputEl = gd.closest('.output');\nif (outputEl) {{\n    x.observe(outputEl, {childList: true});\n}}\n\n                        })                };                });            </script>        </div>"
     },
     "metadata": {},
     "output_type": "display_data"
    }
   ]
  },
  {
   "cell_type": "markdown",
   "source": [
    "Try to hover over the chart. Try to save the plot as a PNG image by clicking on the top right popup buttons"
   ],
   "metadata": {}
  },
  {
   "cell_type": "markdown",
   "source": [
    "Now let's try to see what kind of surface our scores form in the 3d space:"
   ],
   "metadata": {}
  },
  {
   "cell_type": "code",
   "source": [
    "fig = px.scatter_3d(dataset, x=\"math score\", y=\"writing score\", z=\"reading score\", opacity=0.8, color=\"parental level of education\")\n",
    "fig.show()"
   ],
   "metadata": {
    "execution": {
     "iopub.status.busy": "2022-01-21T11:08:34.794875Z",
     "iopub.execute_input": "2022-01-21T11:08:34.795232Z",
     "iopub.status.idle": "2022-01-21T11:08:34.938077Z",
     "shell.execute_reply.started": "2022-01-21T11:08:34.795165Z",
     "shell.execute_reply": "2022-01-21T11:08:34.937237Z"
    },
    "trusted": true
   },
   "execution_count": 42,
   "outputs": [
    {
     "data": {
      "application/vnd.plotly.v1+json": {
       "data": [
        {
         "hovertemplate": "parental level of education=bachelor's degree<br>math score=%{x}<br>writing score=%{y}<br>reading score=%{z}<extra></extra>",
         "legendgroup": "bachelor's degree",
         "marker": {
          "color": "#636efa",
          "opacity": 0.8,
          "symbol": "circle"
         },
         "mode": "markers",
         "name": "bachelor's degree",
         "scene": "scene",
         "showlegend": true,
         "x": [
          72,
          74,
          67,
          79,
          80,
          65,
          65,
          68,
          99,
          75,
          78,
          79,
          51,
          74,
          58,
          68,
          77,
          54,
          96,
          43,
          77,
          78,
          82,
          67,
          83,
          63,
          80,
          63,
          69,
          83,
          73,
          73,
          88,
          65,
          66,
          67,
          59,
          63,
          83,
          77,
          52,
          61,
          49,
          61,
          59,
          66,
          64,
          51,
          71,
          86,
          37,
          79,
          100,
          53,
          75,
          71,
          76,
          81,
          55,
          86,
          69,
          29,
          66,
          85,
          87,
          96,
          48,
          92,
          68,
          91,
          63,
          44,
          68,
          92,
          56,
          94,
          37,
          88,
          62,
          61,
          66,
          65,
          77,
          66,
          59,
          79,
          87,
          62,
          80,
          50,
          70,
          75,
          62,
          91,
          59,
          45,
          61,
          78,
          74,
          64,
          97,
          65,
          39,
          43,
          63,
          71,
          55,
          93,
          67,
          70,
          50,
          52,
          47,
          100,
          70,
          75,
          89,
          62
         ],
         "y": [
          74,
          80,
          75,
          72,
          81,
          74,
          62,
          74,
          100,
          82,
          79,
          89,
          51,
          75,
          48,
          81,
          68,
          47,
          100,
          54,
          87,
          76,
          62,
          83,
          84,
          67,
          83,
          81,
          61,
          73,
          57,
          84,
          76,
          75,
          57,
          68,
          75,
          69,
          95,
          95,
          69,
          70,
          60,
          61,
          73,
          62,
          70,
          79,
          68,
          86,
          47,
          89,
          100,
          55,
          62,
          83,
          66,
          90,
          54,
          87,
          57,
          47,
          83,
          71,
          88,
          92,
          46,
          100,
          67,
          92,
          78,
          62,
          64,
          99,
          72,
          91,
          38,
          83,
          56,
          62,
          81,
          81,
          87,
          81,
          70,
          82,
          87,
          65,
          72,
          59,
          72,
          74,
          79,
          79,
          51,
          64,
          76,
          93,
          89,
          58,
          96,
          81,
          38,
          61,
          66,
          70,
          44,
          100,
          72,
          70,
          48,
          66,
          66,
          100,
          74,
          80,
          100,
          74
         ],
         "z": [
          72,
          71,
          69,
          74,
          78,
          72,
          67,
          74,
          100,
          85,
          82,
          92,
          49,
          79,
          55,
          75,
          67,
          49,
          100,
          51,
          88,
          79,
          62,
          86,
          82,
          66,
          83,
          75,
          63,
          78,
          56,
          79,
          75,
          73,
          60,
          61,
          64,
          71,
          93,
          94,
          65,
          72,
          58,
          66,
          70,
          64,
          73,
          72,
          74,
          83,
          56,
          89,
          100,
          58,
          58,
          76,
          62,
          88,
          59,
          92,
          58,
          41,
          83,
          66,
          90,
          90,
          51,
          100,
          68,
          96,
          73,
          63,
          68,
          100,
          79,
          90,
          45,
          78,
          63,
          58,
          74,
          81,
          85,
          74,
          72,
          81,
          84,
          72,
          73,
          60,
          68,
          73,
          78,
          81,
          54,
          59,
          70,
          90,
          86,
          60,
          97,
          79,
          42,
          62,
          64,
          70,
          46,
          100,
          75,
          64,
          42,
          61,
          62,
          100,
          75,
          84,
          100,
          72
         ],
         "type": "scatter3d"
        },
        {
         "hovertemplate": "parental level of education=some college<br>math score=%{x}<br>writing score=%{y}<br>reading score=%{z}<extra></extra>",
         "legendgroup": "some college",
         "marker": {
          "color": "#EF553B",
          "opacity": 0.8,
          "symbol": "circle"
         },
         "mode": "markers",
         "name": "some college",
         "scene": "scene",
         "showlegend": true,
         "x": [
          69,
          76,
          88,
          40,
          78,
          65,
          44,
          69,
          69,
          63,
          40,
          97,
          59,
          53,
          53,
          58,
          60,
          58,
          63,
          50,
          73,
          76,
          58,
          79,
          63,
          58,
          79,
          98,
          58,
          51,
          55,
          88,
          83,
          65,
          87,
          75,
          71,
          59,
          42,
          88,
          22,
          70,
          60,
          75,
          67,
          79,
          46,
          76,
          77,
          45,
          65,
          59,
          74,
          58,
          35,
          72,
          88,
          76,
          54,
          59,
          71,
          62,
          70,
          79,
          71,
          58,
          65,
          88,
          70,
          81,
          69,
          99,
          71,
          82,
          61,
          28,
          61,
          79,
          62,
          66,
          63,
          59,
          42,
          59,
          80,
          52,
          59,
          84,
          45,
          82,
          67,
          77,
          76,
          53,
          49,
          84,
          68,
          41,
          62,
          50,
          67,
          69,
          64,
          100,
          65,
          54,
          71,
          77,
          84,
          91,
          68,
          61,
          83,
          54,
          59,
          76,
          63,
          76,
          74,
          66,
          71,
          68,
          77,
          32,
          74,
          63,
          63,
          71,
          53,
          61,
          48,
          69,
          54,
          58,
          76,
          61,
          69,
          58,
          100,
          100,
          49,
          67,
          86,
          69,
          85,
          62,
          74,
          55,
          63,
          73,
          69,
          50,
          73,
          63,
          62,
          85,
          93,
          79,
          63,
          66,
          93,
          98,
          62,
          47,
          81,
          53,
          87,
          53,
          53,
          55,
          69,
          87,
          68,
          55,
          52,
          69,
          60,
          58,
          66,
          35,
          72,
          19,
          60,
          69,
          82,
          73,
          75,
          64,
          49,
          61,
          58,
          74,
          87,
          75,
          71,
          82,
          70,
          80,
          81,
          69,
          86,
          88,
          79,
          69,
          68,
          91,
          67,
          62,
          70,
          85,
          49,
          75,
          62,
          84,
          56,
          72,
          62,
          63,
          49,
          54,
          64,
          60,
          78,
          67,
          68,
          77
         ],
         "y": [
          88,
          75,
          92,
          39,
          70,
          70,
          53,
          55,
          74,
          61,
          38,
          82,
          66,
          48,
          42,
          58,
          74,
          73,
          63,
          54,
          82,
          88,
          67,
          92,
          70,
          62,
          67,
          90,
          72,
          54,
          65,
          93,
          73,
          74,
          70,
          84,
          69,
          64,
          54,
          78,
          33,
          88,
          60,
          85,
          70,
          81,
          66,
          79,
          62,
          55,
          77,
          42,
          76,
          66,
          27,
          71,
          94,
          66,
          51,
          43,
          83,
          70,
          78,
          78,
          70,
          42,
          71,
          76,
          78,
          81,
          69,
          81,
          80,
          94,
          62,
          19,
          66,
          67,
          57,
          52,
          80,
          70,
          69,
          61,
          89,
          58,
          58,
          71,
          70,
          96,
          75,
          77,
          67,
          43,
          55,
          78,
          62,
          34,
          62,
          53,
          79,
          60,
          85,
          97,
          49,
          45,
          76,
          91,
          91,
          76,
          61,
          56,
          90,
          52,
          76,
          72,
          54,
          73,
          84,
          73,
          52,
          59,
          64,
          33,
          79,
          74,
          80,
          70,
          56,
          52,
          58,
          77,
          65,
          54,
          80,
          62,
          63,
          66,
          86,
          99,
          46,
          70,
          74,
          81,
          98,
          67,
          73,
          69,
          71,
          61,
          76,
          66,
          76,
          60,
          68,
          68,
          83,
          86,
          67,
          52,
          90,
          99,
          70,
          41,
          71,
          37,
          94,
          57,
          73,
          47,
          68,
          86,
          65,
          52,
          65,
          77,
          59,
          57,
          60,
          43,
          82,
          32,
          70,
          54,
          87,
          78,
          74,
          75,
          51,
          57,
          45,
          76,
          93,
          65,
          80,
          88,
          76,
          66,
          84,
          74,
          91,
          77,
          91,
          82,
          66,
          91,
          70,
          62,
          58,
          85,
          60,
          83,
          69,
          81,
          64,
          58,
          72,
          60,
          61,
          67,
          77,
          60,
          91,
          83,
          77,
          86
         ],
         "z": [
          90,
          78,
          95,
          43,
          72,
          75,
          54,
          54,
          74,
          65,
          42,
          87,
          65,
          55,
          44,
          59,
          72,
          63,
          55,
          47,
          80,
          83,
          70,
          86,
          72,
          67,
          67,
          86,
          67,
          58,
          69,
          93,
          80,
          77,
          74,
          81,
          61,
          62,
          55,
          73,
          39,
          89,
          60,
          88,
          75,
          86,
          64,
          83,
          62,
          53,
          81,
          41,
          81,
          61,
          28,
          72,
          95,
          64,
          52,
          51,
          83,
          73,
          75,
          79,
          76,
          49,
          70,
          85,
          78,
          78,
          67,
          87,
          81,
          90,
          61,
          23,
          68,
          73,
          61,
          57,
          78,
          71,
          66,
          62,
          90,
          58,
          60,
          77,
          73,
          97,
          76,
          68,
          67,
          43,
          65,
          83,
          59,
          39,
          67,
          48,
          81,
          66,
          85,
          92,
          58,
          54,
          70,
          90,
          87,
          74,
          68,
          47,
          83,
          48,
          78,
          71,
          61,
          71,
          89,
          74,
          49,
          60,
          62,
          39,
          75,
          74,
          80,
          75,
          62,
          51,
          56,
          77,
          64,
          57,
          78,
          64,
          60,
          59,
          96,
          97,
          57,
          64,
          76,
          79,
          86,
          67,
          77,
          71,
          73,
          74,
          78,
          64,
          78,
          61,
          66,
          75,
          90,
          89,
          64,
          59,
          84,
          100,
          72,
          43,
          74,
          39,
          89,
          58,
          66,
          55,
          64,
          84,
          72,
          58,
          59,
          77,
          63,
          60,
          65,
          44,
          79,
          38,
          66,
          60,
          85,
          76,
          81,
          74,
          52,
          60,
          50,
          77,
          85,
          68,
          71,
          82,
          72,
          64,
          82,
          65,
          85,
          77,
          84,
          84,
          70,
          96,
          74,
          57,
          63,
          81,
          58,
          77,
          69,
          87,
          58,
          57,
          70,
          63,
          65,
          63,
          82,
          62,
          87,
          86,
          78,
          86
         ],
         "type": "scatter3d"
        },
        {
         "hovertemplate": "parental level of education=master's degree<br>math score=%{x}<br>writing score=%{y}<br>reading score=%{z}<extra></extra>",
         "legendgroup": "master's degree",
         "marker": {
          "color": "#00cc96",
          "opacity": 0.8,
          "symbol": "circle"
         },
         "mode": "markers",
         "name": "master's degree",
         "scene": "scene",
         "showlegend": true,
         "x": [
          90,
          50,
          46,
          73,
          62,
          56,
          62,
          87,
          82,
          89,
          49,
          81,
          58,
          81,
          52,
          62,
          69,
          45,
          80,
          65,
          77,
          85,
          79,
          73,
          70,
          47,
          55,
          74,
          40,
          79,
          77,
          54,
          64,
          79,
          61,
          61,
          53,
          54,
          84,
          40,
          95,
          94,
          81,
          67,
          79,
          77,
          52,
          54,
          90,
          91,
          71,
          81,
          50,
          85,
          73,
          72,
          78,
          92,
          88
         ],
         "y": [
          93,
          58,
          46,
          72,
          75,
          65,
          68,
          100,
          74,
          82,
          52,
          91,
          78,
          87,
          62,
          75,
          85,
          54,
          72,
          81,
          91,
          100,
          71,
          75,
          74,
          67,
          70,
          82,
          54,
          77,
          94,
          50,
          66,
          69,
          66,
          78,
          68,
          63,
          90,
          54,
          84,
          100,
          84,
          59,
          75,
          84,
          61,
          67,
          84,
          85,
          67,
          87,
          73,
          89,
          74,
          72,
          96,
          100,
          95
         ],
         "z": [
          95,
          53,
          42,
          74,
          70,
          72,
          68,
          100,
          82,
          84,
          53,
          92,
          76,
          91,
          70,
          68,
          84,
          56,
          80,
          81,
          82,
          95,
          81,
          70,
          71,
          58,
          64,
          79,
          59,
          78,
          97,
          59,
          63,
          72,
          67,
          71,
          61,
          60,
          89,
          58,
          81,
          99,
          81,
          57,
          77,
          90,
          65,
          64,
          85,
          85,
          67,
          86,
          67,
          84,
          78,
          66,
          91,
          100,
          99
         ],
         "type": "scatter3d"
        },
        {
         "hovertemplate": "parental level of education=associate's degree<br>math score=%{x}<br>writing score=%{y}<br>reading score=%{z}<extra></extra>",
         "legendgroup": "associate's degree",
         "marker": {
          "color": "#ab63fa",
          "opacity": 0.8,
          "symbol": "circle"
         },
         "mode": "markers",
         "name": "associate's degree",
         "scene": "scene",
         "showlegend": true,
         "x": [
          47,
          71,
          58,
          40,
          54,
          81,
          74,
          75,
          57,
          55,
          58,
          53,
          50,
          65,
          55,
          57,
          77,
          82,
          52,
          62,
          69,
          61,
          39,
          41,
          44,
          47,
          72,
          71,
          43,
          78,
          85,
          66,
          52,
          77,
          54,
          91,
          59,
          73,
          100,
          59,
          61,
          66,
          82,
          63,
          71,
          65,
          65,
          66,
          61,
          67,
          69,
          57,
          60,
          83,
          87,
          52,
          46,
          80,
          84,
          85,
          89,
          64,
          78,
          88,
          47,
          81,
          97,
          76,
          67,
          71,
          90,
          67,
          80,
          74,
          53,
          73,
          68,
          83,
          56,
          82,
          47,
          62,
          90,
          49,
          67,
          87,
          46,
          63,
          46,
          80,
          87,
          57,
          57,
          85,
          65,
          82,
          87,
          71,
          74,
          82,
          64,
          75,
          75,
          73,
          81,
          65,
          53,
          53,
          26,
          83,
          68,
          90,
          80,
          76,
          52,
          49,
          60,
          79,
          65,
          64,
          94,
          95,
          91,
          62,
          68,
          62,
          79,
          51,
          97,
          79,
          81,
          82,
          40,
          53,
          55,
          53,
          48,
          40,
          73,
          65,
          85,
          58,
          65,
          82,
          65,
          69,
          61,
          76,
          74,
          59,
          65,
          77,
          43,
          90,
          80,
          81,
          52,
          65,
          81,
          77,
          49,
          73,
          77,
          75,
          57,
          42,
          76,
          73,
          96,
          91,
          65,
          68,
          92,
          81,
          37,
          59,
          72,
          58,
          84,
          94,
          46,
          52,
          68,
          57,
          70,
          52,
          87,
          56,
          58,
          66,
          80,
          87,
          53,
          97,
          61,
          78,
          49,
          82,
          90,
          64,
          51,
          62,
          93,
          85,
          59,
          67,
          46,
          57,
          54,
          64,
          46,
          61,
          98,
          67,
          54,
          72,
          100,
          68,
          62,
          91,
          40,
          55
         ],
         "y": [
          44,
          78,
          52,
          43,
          61,
          79,
          83,
          88,
          57,
          54,
          68,
          65,
          54,
          57,
          62,
          76,
          68,
          86,
          49,
          55,
          71,
          56,
          57,
          48,
          38,
          50,
          63,
          74,
          50,
          82,
          89,
          64,
          70,
          98,
          47,
          92,
          67,
          66,
          93,
          66,
          87,
          64,
          74,
          70,
          77,
          70,
          65,
          69,
          52,
          86,
          69,
          68,
          56,
          88,
          73,
          73,
          42,
          77,
          80,
          71,
          74,
          68,
          77,
          95,
          58,
          82,
          88,
          68,
          60,
          68,
          75,
          81,
          64,
          83,
          67,
          80,
          69,
          78,
          63,
          77,
          35,
          53,
          81,
          43,
          67,
          76,
          57,
          61,
          41,
          83,
          95,
          67,
          56,
          95,
          63,
          77,
          85,
          60,
          67,
          93,
          59,
          64,
          73,
          76,
          72,
          74,
          62,
          48,
          38,
          90,
          84,
          91,
          72,
          67,
          56,
          54,
          74,
          82,
          76,
          70,
          92,
          92,
          84,
          70,
          73,
          58,
          94,
          58,
          86,
          80,
          79,
          89,
          50,
          40,
          79,
          70,
          45,
          53,
          80,
          76,
          82,
          65,
          74,
          93,
          68,
          63,
          46,
          73,
          90,
          65,
          74,
          64,
          58,
          85,
          63,
          77,
          50,
          84,
          78,
          73,
          53,
          78,
          73,
          90,
          79,
          58,
          87,
          72,
          99,
          80,
          77,
          80,
          84,
          73,
          56,
          72,
          74,
          53,
          92,
          82,
          57,
          62,
          61,
          73,
          81,
          57,
          95,
          70,
          53,
          73,
          69,
          72,
          53,
          91,
          41,
          72,
          51,
          78,
          82,
          74,
          54,
          80,
          95,
          85,
          69,
          63,
          55,
          80,
          65,
          52,
          44,
          73,
          90,
          53,
          58,
          62,
          100,
          67,
          58,
          94,
          51,
          76
         ],
         "z": [
          57,
          83,
          54,
          52,
          58,
          81,
          81,
          90,
          56,
          61,
          73,
          58,
          56,
          54,
          65,
          74,
          69,
          85,
          55,
          61,
          80,
          58,
          64,
          51,
          41,
          49,
          64,
          71,
          45,
          81,
          91,
          63,
          76,
          89,
          53,
          89,
          66,
          68,
          100,
          70,
          86,
          62,
          78,
          67,
          77,
          69,
          67,
          65,
          55,
          84,
          77,
          69,
          51,
          86,
          85,
          66,
          43,
          75,
          80,
          76,
          76,
          73,
          77,
          92,
          53,
          82,
          82,
          70,
          62,
          74,
          87,
          84,
          76,
          75,
          71,
          76,
          67,
          72,
          65,
          75,
          37,
          56,
          78,
          51,
          72,
          74,
          58,
          61,
          43,
          86,
          100,
          78,
          54,
          89,
          65,
          80,
          84,
          66,
          73,
          93,
          66,
          68,
          66,
          83,
          73,
          77,
          61,
          54,
          31,
          85,
          86,
          90,
          68,
          71,
          59,
          52,
          75,
          82,
          85,
          64,
          87,
          89,
          86,
          74,
          67,
          61,
          88,
          60,
          92,
          82,
          77,
          95,
          48,
          45,
          72,
          70,
          43,
          55,
          75,
          76,
          84,
          63,
          77,
          93,
          73,
          70,
          48,
          74,
          88,
          70,
          70,
          67,
          60,
          87,
          63,
          72,
          57,
          84,
          75,
          78,
          53,
          76,
          77,
          82,
          78,
          61,
          94,
          78,
          96,
          73,
          75,
          77,
          79,
          71,
          57,
          73,
          79,
          55,
          95,
          85,
          56,
          59,
          65,
          68,
          84,
          55,
          94,
          68,
          57,
          77,
          75,
          73,
          62,
          93,
          42,
          74,
          51,
          84,
          90,
          76,
          51,
          76,
          100,
          92,
          62,
          54,
          61,
          77,
          65,
          56,
          43,
          71,
          87,
          57,
          61,
          57,
          100,
          76,
          65,
          95,
          59,
          76
         ],
         "type": "scatter3d"
        },
        {
         "hovertemplate": "parental level of education=high school<br>math score=%{x}<br>writing score=%{y}<br>reading score=%{z}<extra></extra>",
         "legendgroup": "high school",
         "marker": {
          "color": "#FFA15A",
          "opacity": 0.8,
          "symbol": "circle"
         },
         "mode": "markers",
         "name": "high school",
         "scene": "scene",
         "showlegend": true,
         "x": [
          64,
          38,
          65,
          88,
          66,
          70,
          66,
          82,
          88,
          33,
          49,
          42,
          27,
          71,
          60,
          62,
          84,
          63,
          87,
          70,
          57,
          66,
          52,
          53,
          68,
          72,
          46,
          50,
          80,
          55,
          81,
          42,
          87,
          34,
          66,
          56,
          57,
          73,
          56,
          58,
          65,
          68,
          54,
          99,
          76,
          69,
          59,
          53,
          45,
          78,
          40,
          49,
          71,
          67,
          75,
          41,
          71,
          58,
          61,
          69,
          72,
          75,
          58,
          69,
          62,
          48,
          50,
          88,
          54,
          52,
          84,
          57,
          57,
          61,
          61,
          70,
          78,
          86,
          47,
          72,
          72,
          77,
          63,
          73,
          59,
          70,
          54,
          68,
          68,
          67,
          53,
          36,
          73,
          51,
          75,
          72,
          62,
          63,
          50,
          74,
          81,
          55,
          74,
          30,
          69,
          29,
          60,
          60,
          35,
          58,
          79,
          75,
          71,
          67,
          41,
          74,
          70,
          64,
          50,
          68,
          65,
          66,
          69,
          67,
          60,
          62,
          53,
          66,
          46,
          89,
          76,
          50,
          73,
          61,
          81,
          69,
          53,
          62,
          74,
          58,
          76,
          52,
          66,
          76,
          48,
          66,
          42,
          70,
          41,
          90,
          45,
          72,
          60,
          71,
          62,
          77,
          60,
          73,
          75,
          39,
          23,
          64,
          59,
          61,
          52,
          59,
          59,
          64,
          54,
          44,
          36,
          34,
          57,
          44,
          69,
          35,
          72,
          74,
          65,
          57,
          81,
          58,
          82,
          57,
          94,
          58,
          45,
          75,
          53,
          55,
          8,
          57,
          86,
          63,
          62,
          59
         ],
         "y": [
          67,
          50,
          73,
          86,
          63,
          65,
          76,
          82,
          75,
          43,
          45,
          34,
          36,
          71,
          47,
          49,
          74,
          56,
          86,
          56,
          47,
          78,
          49,
          51,
          78,
          74,
          58,
          47,
          65,
          51,
          76,
          60,
          81,
          39,
          70,
          74,
          54,
          66,
          55,
          68,
          62,
          53,
          52,
          90,
          68,
          77,
          75,
          42,
          46,
          80,
          50,
          52,
          65,
          84,
          79,
          43,
          61,
          52,
          63,
          74,
          75,
          66,
          59,
          53,
          64,
          41,
          63,
          100,
          62,
          56,
          69,
          54,
          64,
          70,
          55,
          51,
          80,
          80,
          42,
          68,
          65,
          85,
          74,
          68,
          46,
          71,
          68,
          66,
          66,
          79,
          49,
          43,
          68,
          62,
          68,
          64,
          64,
          47,
          64,
          71,
          89,
          73,
          73,
          15,
          73,
          30,
          51,
          72,
          54,
          52,
          65,
          85,
          64,
          81,
          51,
          80,
          60,
          68,
          55,
          76,
          67,
          68,
          78,
          74,
          60,
          54,
          44,
          59,
          36,
          79,
          74,
          42,
          84,
          55,
          82,
          71,
          64,
          63,
          72,
          77,
          60,
          49,
          70,
          82,
          60,
          69,
          51,
          70,
          40,
          69,
          49,
          83,
          68,
          82,
          58,
          89,
          74,
          57,
          79,
          46,
          36,
          50,
          68,
          63,
          46,
          52,
          47,
          71,
          59,
          48,
          27,
          41,
          51,
          52,
          67,
          46,
          66,
          69,
          71,
          57,
          64,
          61,
          80,
          73,
          71,
          54,
          59,
          71,
          60,
          48,
          23,
          54,
          75,
          62,
          55,
          65
         ],
         "z": [
          64,
          60,
          81,
          89,
          69,
          70,
          71,
          84,
          78,
          41,
          45,
          39,
          34,
          79,
          44,
          55,
          77,
          57,
          95,
          55,
          43,
          74,
          53,
          51,
          83,
          73,
          54,
          50,
          76,
          56,
          80,
          62,
          91,
          42,
          77,
          68,
          50,
          68,
          52,
          70,
          64,
          60,
          52,
          93,
          73,
          72,
          63,
          52,
          48,
          77,
          46,
          57,
          66,
          79,
          86,
          46,
          60,
          61,
          73,
          76,
          80,
          74,
          62,
          58,
          64,
          45,
          67,
          99,
          59,
          57,
          73,
          56,
          58,
          72,
          56,
          56,
          81,
          81,
          46,
          65,
          67,
          88,
          69,
          71,
          52,
          74,
          64,
          64,
          70,
          78,
          52,
          53,
          69,
          66,
          69,
          67,
          67,
          48,
          66,
          81,
          91,
          73,
          76,
          24,
          77,
          29,
          57,
          68,
          61,
          51,
          60,
          88,
          74,
          80,
          52,
          79,
          65,
          62,
          53,
          80,
          69,
          76,
          77,
          72,
          68,
          55,
          58,
          66,
          34,
          87,
          76,
          48,
          92,
          60,
          84,
          75,
          72,
          62,
          72,
          75,
          62,
          48,
          72,
          85,
          62,
          74,
          52,
          70,
          45,
          75,
          47,
          80,
          72,
          87,
          67,
          82,
          64,
          64,
          82,
          52,
          44,
          54,
          72,
          68,
          49,
          53,
          58,
          73,
          72,
          51,
          29,
          48,
          48,
          61,
          70,
          53,
          66,
          70,
          61,
          58,
          66,
          68,
          82,
          75,
          73,
          52,
          63,
          81,
          50,
          41,
          24,
          51,
          81,
          63,
          55,
          71
         ],
         "type": "scatter3d"
        },
        {
         "hovertemplate": "parental level of education=some high school<br>math score=%{x}<br>writing score=%{y}<br>reading score=%{z}<extra></extra>",
         "legendgroup": "some high school",
         "marker": {
          "color": "#19d3f3",
          "opacity": 0.8,
          "symbol": "circle"
         },
         "mode": "markers",
         "name": "some high school",
         "scene": "scene",
         "showlegend": true,
         "x": [
          69,
          18,
          69,
          50,
          71,
          0,
          39,
          59,
          67,
          45,
          61,
          49,
          30,
          61,
          73,
          65,
          70,
          51,
          72,
          53,
          51,
          76,
          88,
          62,
          62,
          94,
          97,
          45,
          62,
          48,
          62,
          59,
          74,
          80,
          84,
          61,
          55,
          86,
          68,
          92,
          64,
          75,
          47,
          60,
          64,
          44,
          59,
          85,
          65,
          37,
          67,
          77,
          86,
          63,
          46,
          56,
          51,
          43,
          41,
          76,
          24,
          35,
          85,
          27,
          44,
          73,
          74,
          80,
          71,
          38,
          38,
          73,
          65,
          74,
          60,
          59,
          63,
          63,
          59,
          69,
          65,
          68,
          47,
          73,
          89,
          59,
          79,
          67,
          59,
          64,
          66,
          82,
          64,
          62,
          54,
          76,
          66,
          56,
          47,
          78,
          92,
          79,
          73,
          81,
          77,
          48,
          71,
          53,
          65,
          75,
          44,
          84,
          80,
          72,
          51,
          73,
          69,
          73,
          50,
          70,
          29,
          49,
          57,
          59,
          80,
          60,
          55,
          74,
          68,
          55,
          55,
          71,
          77,
          48,
          78,
          68,
          52,
          49,
          32,
          72,
          89,
          67,
          76,
          51,
          87,
          94,
          77,
          85,
          48,
          65,
          69,
          68,
          64,
          40,
          82,
          62,
          57,
          59,
          88,
          32,
          63,
          65,
          67,
          74,
          48,
          77,
          61,
          49,
          74,
          48,
          65,
          66,
          78,
          81,
          79,
          74,
          81,
          44,
          65
         ],
         "y": [
          78,
          28,
          73,
          59,
          87,
          10,
          34,
          59,
          61,
          37,
          56,
          41,
          22,
          72,
          82,
          62,
          72,
          61,
          67,
          40,
          41,
          71,
          75,
          69,
          61,
          78,
          100,
          49,
          68,
          45,
          66,
          65,
          78,
          79,
          75,
          56,
          62,
          75,
          64,
          78,
          74,
          69,
          49,
          70,
          77,
          51,
          41,
          93,
          80,
          46,
          82,
          77,
          70,
          57,
          43,
          52,
          44,
          53,
          51,
          69,
          27,
          60,
          78,
          32,
          58,
          85,
          72,
          82,
          77,
          45,
          43,
          59,
          77,
          57,
          54,
          67,
          68,
          67,
          80,
          65,
          53,
          54,
          50,
          66,
          82,
          69,
          73,
          77,
          61,
          57,
          68,
          80,
          43,
          52,
          62,
          85,
          78,
          60,
          53,
          80,
          97,
          65,
          62,
          96,
          80,
          65,
          50,
          48,
          81,
          62,
          55,
          80,
          88,
          79,
          53,
          79,
          61,
          63,
          60,
          76,
          44,
          56,
          72,
          64,
          85,
          74,
          59,
          88,
          57,
          43,
          44,
          68,
          85,
          54,
          86,
          75,
          72,
          55,
          44,
          77,
          77,
          68,
          73,
          36,
          76,
          87,
          88,
          92,
          52,
          76,
          81,
          53,
          51,
          64,
          61,
          55,
          54,
          80,
          75,
          38,
          79,
          82,
          84,
          60,
          51,
          69,
          61,
          52,
          72,
          53,
          75,
          64,
          69,
          78,
          86,
          82,
          76,
          45,
          78
         ],
         "z": [
          75,
          32,
          73,
          64,
          84,
          17,
          39,
          58,
          64,
          37,
          57,
          49,
          26,
          74,
          86,
          66,
          64,
          63,
          68,
          37,
          54,
          72,
          84,
          67,
          67,
          88,
          100,
          52,
          66,
          52,
          64,
          69,
          71,
          79,
          83,
          56,
          65,
          80,
          72,
          87,
          60,
          74,
          49,
          70,
          79,
          50,
          42,
          92,
          86,
          46,
          89,
          76,
          73,
          60,
          41,
          54,
          52,
          53,
          55,
          70,
          38,
          55,
          84,
          34,
          64,
          84,
          74,
          90,
          83,
          49,
          43,
          67,
          74,
          63,
          59,
          54,
          73,
          67,
          85,
          71,
          59,
          63,
          59,
          66,
          88,
          73,
          82,
          74,
          67,
          53,
          69,
          82,
          50,
          49,
          61,
          87,
          78,
          61,
          54,
          83,
          100,
          76,
          66,
          97,
          79,
          66,
          62,
          54,
          82,
          72,
          51,
          84,
          92,
          81,
          56,
          79,
          66,
          66,
          60,
          82,
          40,
          63,
          67,
          63,
          85,
          70,
          59,
          90,
          51,
          46,
          47,
          69,
          90,
          58,
          81,
          71,
          67,
          58,
          51,
          79,
          84,
          73,
          80,
          31,
          84,
          86,
          91,
          90,
          58,
          69,
          86,
          54,
          58,
          65,
          67,
          64,
          61,
          72,
          74,
          34,
          78,
          78,
          84,
          64,
          56,
          68,
          62,
          50,
          74,
          54,
          76,
          68,
          72,
          78,
          85,
          75,
          75,
          45,
          82
         ],
         "type": "scatter3d"
        }
       ],
       "layout": {
        "template": {
         "data": {
          "bar": [
           {
            "error_x": {
             "color": "#2a3f5f"
            },
            "error_y": {
             "color": "#2a3f5f"
            },
            "marker": {
             "line": {
              "color": "#E5ECF6",
              "width": 0.5
             },
             "pattern": {
              "fillmode": "overlay",
              "size": 10,
              "solidity": 0.2
             }
            },
            "type": "bar"
           }
          ],
          "barpolar": [
           {
            "marker": {
             "line": {
              "color": "#E5ECF6",
              "width": 0.5
             },
             "pattern": {
              "fillmode": "overlay",
              "size": 10,
              "solidity": 0.2
             }
            },
            "type": "barpolar"
           }
          ],
          "carpet": [
           {
            "aaxis": {
             "endlinecolor": "#2a3f5f",
             "gridcolor": "white",
             "linecolor": "white",
             "minorgridcolor": "white",
             "startlinecolor": "#2a3f5f"
            },
            "baxis": {
             "endlinecolor": "#2a3f5f",
             "gridcolor": "white",
             "linecolor": "white",
             "minorgridcolor": "white",
             "startlinecolor": "#2a3f5f"
            },
            "type": "carpet"
           }
          ],
          "choropleth": [
           {
            "colorbar": {
             "outlinewidth": 0,
             "ticks": ""
            },
            "type": "choropleth"
           }
          ],
          "contour": [
           {
            "colorbar": {
             "outlinewidth": 0,
             "ticks": ""
            },
            "colorscale": [
             [
              0.0,
              "#0d0887"
             ],
             [
              0.1111111111111111,
              "#46039f"
             ],
             [
              0.2222222222222222,
              "#7201a8"
             ],
             [
              0.3333333333333333,
              "#9c179e"
             ],
             [
              0.4444444444444444,
              "#bd3786"
             ],
             [
              0.5555555555555556,
              "#d8576b"
             ],
             [
              0.6666666666666666,
              "#ed7953"
             ],
             [
              0.7777777777777778,
              "#fb9f3a"
             ],
             [
              0.8888888888888888,
              "#fdca26"
             ],
             [
              1.0,
              "#f0f921"
             ]
            ],
            "type": "contour"
           }
          ],
          "contourcarpet": [
           {
            "colorbar": {
             "outlinewidth": 0,
             "ticks": ""
            },
            "type": "contourcarpet"
           }
          ],
          "heatmap": [
           {
            "colorbar": {
             "outlinewidth": 0,
             "ticks": ""
            },
            "colorscale": [
             [
              0.0,
              "#0d0887"
             ],
             [
              0.1111111111111111,
              "#46039f"
             ],
             [
              0.2222222222222222,
              "#7201a8"
             ],
             [
              0.3333333333333333,
              "#9c179e"
             ],
             [
              0.4444444444444444,
              "#bd3786"
             ],
             [
              0.5555555555555556,
              "#d8576b"
             ],
             [
              0.6666666666666666,
              "#ed7953"
             ],
             [
              0.7777777777777778,
              "#fb9f3a"
             ],
             [
              0.8888888888888888,
              "#fdca26"
             ],
             [
              1.0,
              "#f0f921"
             ]
            ],
            "type": "heatmap"
           }
          ],
          "heatmapgl": [
           {
            "colorbar": {
             "outlinewidth": 0,
             "ticks": ""
            },
            "colorscale": [
             [
              0.0,
              "#0d0887"
             ],
             [
              0.1111111111111111,
              "#46039f"
             ],
             [
              0.2222222222222222,
              "#7201a8"
             ],
             [
              0.3333333333333333,
              "#9c179e"
             ],
             [
              0.4444444444444444,
              "#bd3786"
             ],
             [
              0.5555555555555556,
              "#d8576b"
             ],
             [
              0.6666666666666666,
              "#ed7953"
             ],
             [
              0.7777777777777778,
              "#fb9f3a"
             ],
             [
              0.8888888888888888,
              "#fdca26"
             ],
             [
              1.0,
              "#f0f921"
             ]
            ],
            "type": "heatmapgl"
           }
          ],
          "histogram": [
           {
            "marker": {
             "pattern": {
              "fillmode": "overlay",
              "size": 10,
              "solidity": 0.2
             }
            },
            "type": "histogram"
           }
          ],
          "histogram2d": [
           {
            "colorbar": {
             "outlinewidth": 0,
             "ticks": ""
            },
            "colorscale": [
             [
              0.0,
              "#0d0887"
             ],
             [
              0.1111111111111111,
              "#46039f"
             ],
             [
              0.2222222222222222,
              "#7201a8"
             ],
             [
              0.3333333333333333,
              "#9c179e"
             ],
             [
              0.4444444444444444,
              "#bd3786"
             ],
             [
              0.5555555555555556,
              "#d8576b"
             ],
             [
              0.6666666666666666,
              "#ed7953"
             ],
             [
              0.7777777777777778,
              "#fb9f3a"
             ],
             [
              0.8888888888888888,
              "#fdca26"
             ],
             [
              1.0,
              "#f0f921"
             ]
            ],
            "type": "histogram2d"
           }
          ],
          "histogram2dcontour": [
           {
            "colorbar": {
             "outlinewidth": 0,
             "ticks": ""
            },
            "colorscale": [
             [
              0.0,
              "#0d0887"
             ],
             [
              0.1111111111111111,
              "#46039f"
             ],
             [
              0.2222222222222222,
              "#7201a8"
             ],
             [
              0.3333333333333333,
              "#9c179e"
             ],
             [
              0.4444444444444444,
              "#bd3786"
             ],
             [
              0.5555555555555556,
              "#d8576b"
             ],
             [
              0.6666666666666666,
              "#ed7953"
             ],
             [
              0.7777777777777778,
              "#fb9f3a"
             ],
             [
              0.8888888888888888,
              "#fdca26"
             ],
             [
              1.0,
              "#f0f921"
             ]
            ],
            "type": "histogram2dcontour"
           }
          ],
          "mesh3d": [
           {
            "colorbar": {
             "outlinewidth": 0,
             "ticks": ""
            },
            "type": "mesh3d"
           }
          ],
          "parcoords": [
           {
            "line": {
             "colorbar": {
              "outlinewidth": 0,
              "ticks": ""
             }
            },
            "type": "parcoords"
           }
          ],
          "pie": [
           {
            "automargin": true,
            "type": "pie"
           }
          ],
          "scatter": [
           {
            "marker": {
             "colorbar": {
              "outlinewidth": 0,
              "ticks": ""
             }
            },
            "type": "scatter"
           }
          ],
          "scatter3d": [
           {
            "line": {
             "colorbar": {
              "outlinewidth": 0,
              "ticks": ""
             }
            },
            "marker": {
             "colorbar": {
              "outlinewidth": 0,
              "ticks": ""
             }
            },
            "type": "scatter3d"
           }
          ],
          "scattercarpet": [
           {
            "marker": {
             "colorbar": {
              "outlinewidth": 0,
              "ticks": ""
             }
            },
            "type": "scattercarpet"
           }
          ],
          "scattergeo": [
           {
            "marker": {
             "colorbar": {
              "outlinewidth": 0,
              "ticks": ""
             }
            },
            "type": "scattergeo"
           }
          ],
          "scattergl": [
           {
            "marker": {
             "colorbar": {
              "outlinewidth": 0,
              "ticks": ""
             }
            },
            "type": "scattergl"
           }
          ],
          "scattermapbox": [
           {
            "marker": {
             "colorbar": {
              "outlinewidth": 0,
              "ticks": ""
             }
            },
            "type": "scattermapbox"
           }
          ],
          "scatterpolar": [
           {
            "marker": {
             "colorbar": {
              "outlinewidth": 0,
              "ticks": ""
             }
            },
            "type": "scatterpolar"
           }
          ],
          "scatterpolargl": [
           {
            "marker": {
             "colorbar": {
              "outlinewidth": 0,
              "ticks": ""
             }
            },
            "type": "scatterpolargl"
           }
          ],
          "scatterternary": [
           {
            "marker": {
             "colorbar": {
              "outlinewidth": 0,
              "ticks": ""
             }
            },
            "type": "scatterternary"
           }
          ],
          "surface": [
           {
            "colorbar": {
             "outlinewidth": 0,
             "ticks": ""
            },
            "colorscale": [
             [
              0.0,
              "#0d0887"
             ],
             [
              0.1111111111111111,
              "#46039f"
             ],
             [
              0.2222222222222222,
              "#7201a8"
             ],
             [
              0.3333333333333333,
              "#9c179e"
             ],
             [
              0.4444444444444444,
              "#bd3786"
             ],
             [
              0.5555555555555556,
              "#d8576b"
             ],
             [
              0.6666666666666666,
              "#ed7953"
             ],
             [
              0.7777777777777778,
              "#fb9f3a"
             ],
             [
              0.8888888888888888,
              "#fdca26"
             ],
             [
              1.0,
              "#f0f921"
             ]
            ],
            "type": "surface"
           }
          ],
          "table": [
           {
            "cells": {
             "fill": {
              "color": "#EBF0F8"
             },
             "line": {
              "color": "white"
             }
            },
            "header": {
             "fill": {
              "color": "#C8D4E3"
             },
             "line": {
              "color": "white"
             }
            },
            "type": "table"
           }
          ]
         },
         "layout": {
          "annotationdefaults": {
           "arrowcolor": "#2a3f5f",
           "arrowhead": 0,
           "arrowwidth": 1
          },
          "autotypenumbers": "strict",
          "coloraxis": {
           "colorbar": {
            "outlinewidth": 0,
            "ticks": ""
           }
          },
          "colorscale": {
           "diverging": [
            [
             0,
             "#8e0152"
            ],
            [
             0.1,
             "#c51b7d"
            ],
            [
             0.2,
             "#de77ae"
            ],
            [
             0.3,
             "#f1b6da"
            ],
            [
             0.4,
             "#fde0ef"
            ],
            [
             0.5,
             "#f7f7f7"
            ],
            [
             0.6,
             "#e6f5d0"
            ],
            [
             0.7,
             "#b8e186"
            ],
            [
             0.8,
             "#7fbc41"
            ],
            [
             0.9,
             "#4d9221"
            ],
            [
             1,
             "#276419"
            ]
           ],
           "sequential": [
            [
             0.0,
             "#0d0887"
            ],
            [
             0.1111111111111111,
             "#46039f"
            ],
            [
             0.2222222222222222,
             "#7201a8"
            ],
            [
             0.3333333333333333,
             "#9c179e"
            ],
            [
             0.4444444444444444,
             "#bd3786"
            ],
            [
             0.5555555555555556,
             "#d8576b"
            ],
            [
             0.6666666666666666,
             "#ed7953"
            ],
            [
             0.7777777777777778,
             "#fb9f3a"
            ],
            [
             0.8888888888888888,
             "#fdca26"
            ],
            [
             1.0,
             "#f0f921"
            ]
           ],
           "sequentialminus": [
            [
             0.0,
             "#0d0887"
            ],
            [
             0.1111111111111111,
             "#46039f"
            ],
            [
             0.2222222222222222,
             "#7201a8"
            ],
            [
             0.3333333333333333,
             "#9c179e"
            ],
            [
             0.4444444444444444,
             "#bd3786"
            ],
            [
             0.5555555555555556,
             "#d8576b"
            ],
            [
             0.6666666666666666,
             "#ed7953"
            ],
            [
             0.7777777777777778,
             "#fb9f3a"
            ],
            [
             0.8888888888888888,
             "#fdca26"
            ],
            [
             1.0,
             "#f0f921"
            ]
           ]
          },
          "colorway": [
           "#636efa",
           "#EF553B",
           "#00cc96",
           "#ab63fa",
           "#FFA15A",
           "#19d3f3",
           "#FF6692",
           "#B6E880",
           "#FF97FF",
           "#FECB52"
          ],
          "font": {
           "color": "#2a3f5f"
          },
          "geo": {
           "bgcolor": "white",
           "lakecolor": "white",
           "landcolor": "#E5ECF6",
           "showlakes": true,
           "showland": true,
           "subunitcolor": "white"
          },
          "hoverlabel": {
           "align": "left"
          },
          "hovermode": "closest",
          "mapbox": {
           "style": "light"
          },
          "paper_bgcolor": "white",
          "plot_bgcolor": "#E5ECF6",
          "polar": {
           "angularaxis": {
            "gridcolor": "white",
            "linecolor": "white",
            "ticks": ""
           },
           "bgcolor": "#E5ECF6",
           "radialaxis": {
            "gridcolor": "white",
            "linecolor": "white",
            "ticks": ""
           }
          },
          "scene": {
           "xaxis": {
            "backgroundcolor": "#E5ECF6",
            "gridcolor": "white",
            "gridwidth": 2,
            "linecolor": "white",
            "showbackground": true,
            "ticks": "",
            "zerolinecolor": "white"
           },
           "yaxis": {
            "backgroundcolor": "#E5ECF6",
            "gridcolor": "white",
            "gridwidth": 2,
            "linecolor": "white",
            "showbackground": true,
            "ticks": "",
            "zerolinecolor": "white"
           },
           "zaxis": {
            "backgroundcolor": "#E5ECF6",
            "gridcolor": "white",
            "gridwidth": 2,
            "linecolor": "white",
            "showbackground": true,
            "ticks": "",
            "zerolinecolor": "white"
           }
          },
          "shapedefaults": {
           "line": {
            "color": "#2a3f5f"
           }
          },
          "ternary": {
           "aaxis": {
            "gridcolor": "white",
            "linecolor": "white",
            "ticks": ""
           },
           "baxis": {
            "gridcolor": "white",
            "linecolor": "white",
            "ticks": ""
           },
           "bgcolor": "#E5ECF6",
           "caxis": {
            "gridcolor": "white",
            "linecolor": "white",
            "ticks": ""
           }
          },
          "title": {
           "x": 0.05
          },
          "xaxis": {
           "automargin": true,
           "gridcolor": "white",
           "linecolor": "white",
           "ticks": "",
           "title": {
            "standoff": 15
           },
           "zerolinecolor": "white",
           "zerolinewidth": 2
          },
          "yaxis": {
           "automargin": true,
           "gridcolor": "white",
           "linecolor": "white",
           "ticks": "",
           "title": {
            "standoff": 15
           },
           "zerolinecolor": "white",
           "zerolinewidth": 2
          }
         }
        },
        "scene": {
         "domain": {
          "x": [
           0.0,
           1.0
          ],
          "y": [
           0.0,
           1.0
          ]
         },
         "xaxis": {
          "title": {
           "text": "math score"
          }
         },
         "yaxis": {
          "title": {
           "text": "writing score"
          }
         },
         "zaxis": {
          "title": {
           "text": "reading score"
          }
         }
        },
        "legend": {
         "title": {
          "text": "parental level of education"
         },
         "tracegroupgap": 0
        },
        "margin": {
         "t": 60
        }
       },
       "config": {
        "plotlyServerURL": "https://plot.ly"
       }
      },
      "text/html": "<div>                            <div id=\"5664aa31-ed1e-4496-ac56-ccb6cac891f0\" class=\"plotly-graph-div\" style=\"height:525px; width:100%;\"></div>            <script type=\"text/javascript\">                require([\"plotly\"], function(Plotly) {                    window.PLOTLYENV=window.PLOTLYENV || {};                                    if (document.getElementById(\"5664aa31-ed1e-4496-ac56-ccb6cac891f0\")) {                    Plotly.newPlot(                        \"5664aa31-ed1e-4496-ac56-ccb6cac891f0\",                        [{\"hovertemplate\":\"parental level of education=bachelor's degree<br>math score=%{x}<br>writing score=%{y}<br>reading score=%{z}<extra></extra>\",\"legendgroup\":\"bachelor's degree\",\"marker\":{\"color\":\"#636efa\",\"opacity\":0.8,\"symbol\":\"circle\"},\"mode\":\"markers\",\"name\":\"bachelor's degree\",\"scene\":\"scene\",\"showlegend\":true,\"x\":[72,74,67,79,80,65,65,68,99,75,78,79,51,74,58,68,77,54,96,43,77,78,82,67,83,63,80,63,69,83,73,73,88,65,66,67,59,63,83,77,52,61,49,61,59,66,64,51,71,86,37,79,100,53,75,71,76,81,55,86,69,29,66,85,87,96,48,92,68,91,63,44,68,92,56,94,37,88,62,61,66,65,77,66,59,79,87,62,80,50,70,75,62,91,59,45,61,78,74,64,97,65,39,43,63,71,55,93,67,70,50,52,47,100,70,75,89,62],\"y\":[74,80,75,72,81,74,62,74,100,82,79,89,51,75,48,81,68,47,100,54,87,76,62,83,84,67,83,81,61,73,57,84,76,75,57,68,75,69,95,95,69,70,60,61,73,62,70,79,68,86,47,89,100,55,62,83,66,90,54,87,57,47,83,71,88,92,46,100,67,92,78,62,64,99,72,91,38,83,56,62,81,81,87,81,70,82,87,65,72,59,72,74,79,79,51,64,76,93,89,58,96,81,38,61,66,70,44,100,72,70,48,66,66,100,74,80,100,74],\"z\":[72,71,69,74,78,72,67,74,100,85,82,92,49,79,55,75,67,49,100,51,88,79,62,86,82,66,83,75,63,78,56,79,75,73,60,61,64,71,93,94,65,72,58,66,70,64,73,72,74,83,56,89,100,58,58,76,62,88,59,92,58,41,83,66,90,90,51,100,68,96,73,63,68,100,79,90,45,78,63,58,74,81,85,74,72,81,84,72,73,60,68,73,78,81,54,59,70,90,86,60,97,79,42,62,64,70,46,100,75,64,42,61,62,100,75,84,100,72],\"type\":\"scatter3d\"},{\"hovertemplate\":\"parental level of education=some college<br>math score=%{x}<br>writing score=%{y}<br>reading score=%{z}<extra></extra>\",\"legendgroup\":\"some college\",\"marker\":{\"color\":\"#EF553B\",\"opacity\":0.8,\"symbol\":\"circle\"},\"mode\":\"markers\",\"name\":\"some college\",\"scene\":\"scene\",\"showlegend\":true,\"x\":[69,76,88,40,78,65,44,69,69,63,40,97,59,53,53,58,60,58,63,50,73,76,58,79,63,58,79,98,58,51,55,88,83,65,87,75,71,59,42,88,22,70,60,75,67,79,46,76,77,45,65,59,74,58,35,72,88,76,54,59,71,62,70,79,71,58,65,88,70,81,69,99,71,82,61,28,61,79,62,66,63,59,42,59,80,52,59,84,45,82,67,77,76,53,49,84,68,41,62,50,67,69,64,100,65,54,71,77,84,91,68,61,83,54,59,76,63,76,74,66,71,68,77,32,74,63,63,71,53,61,48,69,54,58,76,61,69,58,100,100,49,67,86,69,85,62,74,55,63,73,69,50,73,63,62,85,93,79,63,66,93,98,62,47,81,53,87,53,53,55,69,87,68,55,52,69,60,58,66,35,72,19,60,69,82,73,75,64,49,61,58,74,87,75,71,82,70,80,81,69,86,88,79,69,68,91,67,62,70,85,49,75,62,84,56,72,62,63,49,54,64,60,78,67,68,77],\"y\":[88,75,92,39,70,70,53,55,74,61,38,82,66,48,42,58,74,73,63,54,82,88,67,92,70,62,67,90,72,54,65,93,73,74,70,84,69,64,54,78,33,88,60,85,70,81,66,79,62,55,77,42,76,66,27,71,94,66,51,43,83,70,78,78,70,42,71,76,78,81,69,81,80,94,62,19,66,67,57,52,80,70,69,61,89,58,58,71,70,96,75,77,67,43,55,78,62,34,62,53,79,60,85,97,49,45,76,91,91,76,61,56,90,52,76,72,54,73,84,73,52,59,64,33,79,74,80,70,56,52,58,77,65,54,80,62,63,66,86,99,46,70,74,81,98,67,73,69,71,61,76,66,76,60,68,68,83,86,67,52,90,99,70,41,71,37,94,57,73,47,68,86,65,52,65,77,59,57,60,43,82,32,70,54,87,78,74,75,51,57,45,76,93,65,80,88,76,66,84,74,91,77,91,82,66,91,70,62,58,85,60,83,69,81,64,58,72,60,61,67,77,60,91,83,77,86],\"z\":[90,78,95,43,72,75,54,54,74,65,42,87,65,55,44,59,72,63,55,47,80,83,70,86,72,67,67,86,67,58,69,93,80,77,74,81,61,62,55,73,39,89,60,88,75,86,64,83,62,53,81,41,81,61,28,72,95,64,52,51,83,73,75,79,76,49,70,85,78,78,67,87,81,90,61,23,68,73,61,57,78,71,66,62,90,58,60,77,73,97,76,68,67,43,65,83,59,39,67,48,81,66,85,92,58,54,70,90,87,74,68,47,83,48,78,71,61,71,89,74,49,60,62,39,75,74,80,75,62,51,56,77,64,57,78,64,60,59,96,97,57,64,76,79,86,67,77,71,73,74,78,64,78,61,66,75,90,89,64,59,84,100,72,43,74,39,89,58,66,55,64,84,72,58,59,77,63,60,65,44,79,38,66,60,85,76,81,74,52,60,50,77,85,68,71,82,72,64,82,65,85,77,84,84,70,96,74,57,63,81,58,77,69,87,58,57,70,63,65,63,82,62,87,86,78,86],\"type\":\"scatter3d\"},{\"hovertemplate\":\"parental level of education=master's degree<br>math score=%{x}<br>writing score=%{y}<br>reading score=%{z}<extra></extra>\",\"legendgroup\":\"master's degree\",\"marker\":{\"color\":\"#00cc96\",\"opacity\":0.8,\"symbol\":\"circle\"},\"mode\":\"markers\",\"name\":\"master's degree\",\"scene\":\"scene\",\"showlegend\":true,\"x\":[90,50,46,73,62,56,62,87,82,89,49,81,58,81,52,62,69,45,80,65,77,85,79,73,70,47,55,74,40,79,77,54,64,79,61,61,53,54,84,40,95,94,81,67,79,77,52,54,90,91,71,81,50,85,73,72,78,92,88],\"y\":[93,58,46,72,75,65,68,100,74,82,52,91,78,87,62,75,85,54,72,81,91,100,71,75,74,67,70,82,54,77,94,50,66,69,66,78,68,63,90,54,84,100,84,59,75,84,61,67,84,85,67,87,73,89,74,72,96,100,95],\"z\":[95,53,42,74,70,72,68,100,82,84,53,92,76,91,70,68,84,56,80,81,82,95,81,70,71,58,64,79,59,78,97,59,63,72,67,71,61,60,89,58,81,99,81,57,77,90,65,64,85,85,67,86,67,84,78,66,91,100,99],\"type\":\"scatter3d\"},{\"hovertemplate\":\"parental level of education=associate's degree<br>math score=%{x}<br>writing score=%{y}<br>reading score=%{z}<extra></extra>\",\"legendgroup\":\"associate's degree\",\"marker\":{\"color\":\"#ab63fa\",\"opacity\":0.8,\"symbol\":\"circle\"},\"mode\":\"markers\",\"name\":\"associate's degree\",\"scene\":\"scene\",\"showlegend\":true,\"x\":[47,71,58,40,54,81,74,75,57,55,58,53,50,65,55,57,77,82,52,62,69,61,39,41,44,47,72,71,43,78,85,66,52,77,54,91,59,73,100,59,61,66,82,63,71,65,65,66,61,67,69,57,60,83,87,52,46,80,84,85,89,64,78,88,47,81,97,76,67,71,90,67,80,74,53,73,68,83,56,82,47,62,90,49,67,87,46,63,46,80,87,57,57,85,65,82,87,71,74,82,64,75,75,73,81,65,53,53,26,83,68,90,80,76,52,49,60,79,65,64,94,95,91,62,68,62,79,51,97,79,81,82,40,53,55,53,48,40,73,65,85,58,65,82,65,69,61,76,74,59,65,77,43,90,80,81,52,65,81,77,49,73,77,75,57,42,76,73,96,91,65,68,92,81,37,59,72,58,84,94,46,52,68,57,70,52,87,56,58,66,80,87,53,97,61,78,49,82,90,64,51,62,93,85,59,67,46,57,54,64,46,61,98,67,54,72,100,68,62,91,40,55],\"y\":[44,78,52,43,61,79,83,88,57,54,68,65,54,57,62,76,68,86,49,55,71,56,57,48,38,50,63,74,50,82,89,64,70,98,47,92,67,66,93,66,87,64,74,70,77,70,65,69,52,86,69,68,56,88,73,73,42,77,80,71,74,68,77,95,58,82,88,68,60,68,75,81,64,83,67,80,69,78,63,77,35,53,81,43,67,76,57,61,41,83,95,67,56,95,63,77,85,60,67,93,59,64,73,76,72,74,62,48,38,90,84,91,72,67,56,54,74,82,76,70,92,92,84,70,73,58,94,58,86,80,79,89,50,40,79,70,45,53,80,76,82,65,74,93,68,63,46,73,90,65,74,64,58,85,63,77,50,84,78,73,53,78,73,90,79,58,87,72,99,80,77,80,84,73,56,72,74,53,92,82,57,62,61,73,81,57,95,70,53,73,69,72,53,91,41,72,51,78,82,74,54,80,95,85,69,63,55,80,65,52,44,73,90,53,58,62,100,67,58,94,51,76],\"z\":[57,83,54,52,58,81,81,90,56,61,73,58,56,54,65,74,69,85,55,61,80,58,64,51,41,49,64,71,45,81,91,63,76,89,53,89,66,68,100,70,86,62,78,67,77,69,67,65,55,84,77,69,51,86,85,66,43,75,80,76,76,73,77,92,53,82,82,70,62,74,87,84,76,75,71,76,67,72,65,75,37,56,78,51,72,74,58,61,43,86,100,78,54,89,65,80,84,66,73,93,66,68,66,83,73,77,61,54,31,85,86,90,68,71,59,52,75,82,85,64,87,89,86,74,67,61,88,60,92,82,77,95,48,45,72,70,43,55,75,76,84,63,77,93,73,70,48,74,88,70,70,67,60,87,63,72,57,84,75,78,53,76,77,82,78,61,94,78,96,73,75,77,79,71,57,73,79,55,95,85,56,59,65,68,84,55,94,68,57,77,75,73,62,93,42,74,51,84,90,76,51,76,100,92,62,54,61,77,65,56,43,71,87,57,61,57,100,76,65,95,59,76],\"type\":\"scatter3d\"},{\"hovertemplate\":\"parental level of education=high school<br>math score=%{x}<br>writing score=%{y}<br>reading score=%{z}<extra></extra>\",\"legendgroup\":\"high school\",\"marker\":{\"color\":\"#FFA15A\",\"opacity\":0.8,\"symbol\":\"circle\"},\"mode\":\"markers\",\"name\":\"high school\",\"scene\":\"scene\",\"showlegend\":true,\"x\":[64,38,65,88,66,70,66,82,88,33,49,42,27,71,60,62,84,63,87,70,57,66,52,53,68,72,46,50,80,55,81,42,87,34,66,56,57,73,56,58,65,68,54,99,76,69,59,53,45,78,40,49,71,67,75,41,71,58,61,69,72,75,58,69,62,48,50,88,54,52,84,57,57,61,61,70,78,86,47,72,72,77,63,73,59,70,54,68,68,67,53,36,73,51,75,72,62,63,50,74,81,55,74,30,69,29,60,60,35,58,79,75,71,67,41,74,70,64,50,68,65,66,69,67,60,62,53,66,46,89,76,50,73,61,81,69,53,62,74,58,76,52,66,76,48,66,42,70,41,90,45,72,60,71,62,77,60,73,75,39,23,64,59,61,52,59,59,64,54,44,36,34,57,44,69,35,72,74,65,57,81,58,82,57,94,58,45,75,53,55,8,57,86,63,62,59],\"y\":[67,50,73,86,63,65,76,82,75,43,45,34,36,71,47,49,74,56,86,56,47,78,49,51,78,74,58,47,65,51,76,60,81,39,70,74,54,66,55,68,62,53,52,90,68,77,75,42,46,80,50,52,65,84,79,43,61,52,63,74,75,66,59,53,64,41,63,100,62,56,69,54,64,70,55,51,80,80,42,68,65,85,74,68,46,71,68,66,66,79,49,43,68,62,68,64,64,47,64,71,89,73,73,15,73,30,51,72,54,52,65,85,64,81,51,80,60,68,55,76,67,68,78,74,60,54,44,59,36,79,74,42,84,55,82,71,64,63,72,77,60,49,70,82,60,69,51,70,40,69,49,83,68,82,58,89,74,57,79,46,36,50,68,63,46,52,47,71,59,48,27,41,51,52,67,46,66,69,71,57,64,61,80,73,71,54,59,71,60,48,23,54,75,62,55,65],\"z\":[64,60,81,89,69,70,71,84,78,41,45,39,34,79,44,55,77,57,95,55,43,74,53,51,83,73,54,50,76,56,80,62,91,42,77,68,50,68,52,70,64,60,52,93,73,72,63,52,48,77,46,57,66,79,86,46,60,61,73,76,80,74,62,58,64,45,67,99,59,57,73,56,58,72,56,56,81,81,46,65,67,88,69,71,52,74,64,64,70,78,52,53,69,66,69,67,67,48,66,81,91,73,76,24,77,29,57,68,61,51,60,88,74,80,52,79,65,62,53,80,69,76,77,72,68,55,58,66,34,87,76,48,92,60,84,75,72,62,72,75,62,48,72,85,62,74,52,70,45,75,47,80,72,87,67,82,64,64,82,52,44,54,72,68,49,53,58,73,72,51,29,48,48,61,70,53,66,70,61,58,66,68,82,75,73,52,63,81,50,41,24,51,81,63,55,71],\"type\":\"scatter3d\"},{\"hovertemplate\":\"parental level of education=some high school<br>math score=%{x}<br>writing score=%{y}<br>reading score=%{z}<extra></extra>\",\"legendgroup\":\"some high school\",\"marker\":{\"color\":\"#19d3f3\",\"opacity\":0.8,\"symbol\":\"circle\"},\"mode\":\"markers\",\"name\":\"some high school\",\"scene\":\"scene\",\"showlegend\":true,\"x\":[69,18,69,50,71,0,39,59,67,45,61,49,30,61,73,65,70,51,72,53,51,76,88,62,62,94,97,45,62,48,62,59,74,80,84,61,55,86,68,92,64,75,47,60,64,44,59,85,65,37,67,77,86,63,46,56,51,43,41,76,24,35,85,27,44,73,74,80,71,38,38,73,65,74,60,59,63,63,59,69,65,68,47,73,89,59,79,67,59,64,66,82,64,62,54,76,66,56,47,78,92,79,73,81,77,48,71,53,65,75,44,84,80,72,51,73,69,73,50,70,29,49,57,59,80,60,55,74,68,55,55,71,77,48,78,68,52,49,32,72,89,67,76,51,87,94,77,85,48,65,69,68,64,40,82,62,57,59,88,32,63,65,67,74,48,77,61,49,74,48,65,66,78,81,79,74,81,44,65],\"y\":[78,28,73,59,87,10,34,59,61,37,56,41,22,72,82,62,72,61,67,40,41,71,75,69,61,78,100,49,68,45,66,65,78,79,75,56,62,75,64,78,74,69,49,70,77,51,41,93,80,46,82,77,70,57,43,52,44,53,51,69,27,60,78,32,58,85,72,82,77,45,43,59,77,57,54,67,68,67,80,65,53,54,50,66,82,69,73,77,61,57,68,80,43,52,62,85,78,60,53,80,97,65,62,96,80,65,50,48,81,62,55,80,88,79,53,79,61,63,60,76,44,56,72,64,85,74,59,88,57,43,44,68,85,54,86,75,72,55,44,77,77,68,73,36,76,87,88,92,52,76,81,53,51,64,61,55,54,80,75,38,79,82,84,60,51,69,61,52,72,53,75,64,69,78,86,82,76,45,78],\"z\":[75,32,73,64,84,17,39,58,64,37,57,49,26,74,86,66,64,63,68,37,54,72,84,67,67,88,100,52,66,52,64,69,71,79,83,56,65,80,72,87,60,74,49,70,79,50,42,92,86,46,89,76,73,60,41,54,52,53,55,70,38,55,84,34,64,84,74,90,83,49,43,67,74,63,59,54,73,67,85,71,59,63,59,66,88,73,82,74,67,53,69,82,50,49,61,87,78,61,54,83,100,76,66,97,79,66,62,54,82,72,51,84,92,81,56,79,66,66,60,82,40,63,67,63,85,70,59,90,51,46,47,69,90,58,81,71,67,58,51,79,84,73,80,31,84,86,91,90,58,69,86,54,58,65,67,64,61,72,74,34,78,78,84,64,56,68,62,50,74,54,76,68,72,78,85,75,75,45,82],\"type\":\"scatter3d\"}],                        {\"template\":{\"data\":{\"bar\":[{\"error_x\":{\"color\":\"#2a3f5f\"},\"error_y\":{\"color\":\"#2a3f5f\"},\"marker\":{\"line\":{\"color\":\"#E5ECF6\",\"width\":0.5},\"pattern\":{\"fillmode\":\"overlay\",\"size\":10,\"solidity\":0.2}},\"type\":\"bar\"}],\"barpolar\":[{\"marker\":{\"line\":{\"color\":\"#E5ECF6\",\"width\":0.5},\"pattern\":{\"fillmode\":\"overlay\",\"size\":10,\"solidity\":0.2}},\"type\":\"barpolar\"}],\"carpet\":[{\"aaxis\":{\"endlinecolor\":\"#2a3f5f\",\"gridcolor\":\"white\",\"linecolor\":\"white\",\"minorgridcolor\":\"white\",\"startlinecolor\":\"#2a3f5f\"},\"baxis\":{\"endlinecolor\":\"#2a3f5f\",\"gridcolor\":\"white\",\"linecolor\":\"white\",\"minorgridcolor\":\"white\",\"startlinecolor\":\"#2a3f5f\"},\"type\":\"carpet\"}],\"choropleth\":[{\"colorbar\":{\"outlinewidth\":0,\"ticks\":\"\"},\"type\":\"choropleth\"}],\"contour\":[{\"colorbar\":{\"outlinewidth\":0,\"ticks\":\"\"},\"colorscale\":[[0.0,\"#0d0887\"],[0.1111111111111111,\"#46039f\"],[0.2222222222222222,\"#7201a8\"],[0.3333333333333333,\"#9c179e\"],[0.4444444444444444,\"#bd3786\"],[0.5555555555555556,\"#d8576b\"],[0.6666666666666666,\"#ed7953\"],[0.7777777777777778,\"#fb9f3a\"],[0.8888888888888888,\"#fdca26\"],[1.0,\"#f0f921\"]],\"type\":\"contour\"}],\"contourcarpet\":[{\"colorbar\":{\"outlinewidth\":0,\"ticks\":\"\"},\"type\":\"contourcarpet\"}],\"heatmap\":[{\"colorbar\":{\"outlinewidth\":0,\"ticks\":\"\"},\"colorscale\":[[0.0,\"#0d0887\"],[0.1111111111111111,\"#46039f\"],[0.2222222222222222,\"#7201a8\"],[0.3333333333333333,\"#9c179e\"],[0.4444444444444444,\"#bd3786\"],[0.5555555555555556,\"#d8576b\"],[0.6666666666666666,\"#ed7953\"],[0.7777777777777778,\"#fb9f3a\"],[0.8888888888888888,\"#fdca26\"],[1.0,\"#f0f921\"]],\"type\":\"heatmap\"}],\"heatmapgl\":[{\"colorbar\":{\"outlinewidth\":0,\"ticks\":\"\"},\"colorscale\":[[0.0,\"#0d0887\"],[0.1111111111111111,\"#46039f\"],[0.2222222222222222,\"#7201a8\"],[0.3333333333333333,\"#9c179e\"],[0.4444444444444444,\"#bd3786\"],[0.5555555555555556,\"#d8576b\"],[0.6666666666666666,\"#ed7953\"],[0.7777777777777778,\"#fb9f3a\"],[0.8888888888888888,\"#fdca26\"],[1.0,\"#f0f921\"]],\"type\":\"heatmapgl\"}],\"histogram\":[{\"marker\":{\"pattern\":{\"fillmode\":\"overlay\",\"size\":10,\"solidity\":0.2}},\"type\":\"histogram\"}],\"histogram2d\":[{\"colorbar\":{\"outlinewidth\":0,\"ticks\":\"\"},\"colorscale\":[[0.0,\"#0d0887\"],[0.1111111111111111,\"#46039f\"],[0.2222222222222222,\"#7201a8\"],[0.3333333333333333,\"#9c179e\"],[0.4444444444444444,\"#bd3786\"],[0.5555555555555556,\"#d8576b\"],[0.6666666666666666,\"#ed7953\"],[0.7777777777777778,\"#fb9f3a\"],[0.8888888888888888,\"#fdca26\"],[1.0,\"#f0f921\"]],\"type\":\"histogram2d\"}],\"histogram2dcontour\":[{\"colorbar\":{\"outlinewidth\":0,\"ticks\":\"\"},\"colorscale\":[[0.0,\"#0d0887\"],[0.1111111111111111,\"#46039f\"],[0.2222222222222222,\"#7201a8\"],[0.3333333333333333,\"#9c179e\"],[0.4444444444444444,\"#bd3786\"],[0.5555555555555556,\"#d8576b\"],[0.6666666666666666,\"#ed7953\"],[0.7777777777777778,\"#fb9f3a\"],[0.8888888888888888,\"#fdca26\"],[1.0,\"#f0f921\"]],\"type\":\"histogram2dcontour\"}],\"mesh3d\":[{\"colorbar\":{\"outlinewidth\":0,\"ticks\":\"\"},\"type\":\"mesh3d\"}],\"parcoords\":[{\"line\":{\"colorbar\":{\"outlinewidth\":0,\"ticks\":\"\"}},\"type\":\"parcoords\"}],\"pie\":[{\"automargin\":true,\"type\":\"pie\"}],\"scatter\":[{\"marker\":{\"colorbar\":{\"outlinewidth\":0,\"ticks\":\"\"}},\"type\":\"scatter\"}],\"scatter3d\":[{\"line\":{\"colorbar\":{\"outlinewidth\":0,\"ticks\":\"\"}},\"marker\":{\"colorbar\":{\"outlinewidth\":0,\"ticks\":\"\"}},\"type\":\"scatter3d\"}],\"scattercarpet\":[{\"marker\":{\"colorbar\":{\"outlinewidth\":0,\"ticks\":\"\"}},\"type\":\"scattercarpet\"}],\"scattergeo\":[{\"marker\":{\"colorbar\":{\"outlinewidth\":0,\"ticks\":\"\"}},\"type\":\"scattergeo\"}],\"scattergl\":[{\"marker\":{\"colorbar\":{\"outlinewidth\":0,\"ticks\":\"\"}},\"type\":\"scattergl\"}],\"scattermapbox\":[{\"marker\":{\"colorbar\":{\"outlinewidth\":0,\"ticks\":\"\"}},\"type\":\"scattermapbox\"}],\"scatterpolar\":[{\"marker\":{\"colorbar\":{\"outlinewidth\":0,\"ticks\":\"\"}},\"type\":\"scatterpolar\"}],\"scatterpolargl\":[{\"marker\":{\"colorbar\":{\"outlinewidth\":0,\"ticks\":\"\"}},\"type\":\"scatterpolargl\"}],\"scatterternary\":[{\"marker\":{\"colorbar\":{\"outlinewidth\":0,\"ticks\":\"\"}},\"type\":\"scatterternary\"}],\"surface\":[{\"colorbar\":{\"outlinewidth\":0,\"ticks\":\"\"},\"colorscale\":[[0.0,\"#0d0887\"],[0.1111111111111111,\"#46039f\"],[0.2222222222222222,\"#7201a8\"],[0.3333333333333333,\"#9c179e\"],[0.4444444444444444,\"#bd3786\"],[0.5555555555555556,\"#d8576b\"],[0.6666666666666666,\"#ed7953\"],[0.7777777777777778,\"#fb9f3a\"],[0.8888888888888888,\"#fdca26\"],[1.0,\"#f0f921\"]],\"type\":\"surface\"}],\"table\":[{\"cells\":{\"fill\":{\"color\":\"#EBF0F8\"},\"line\":{\"color\":\"white\"}},\"header\":{\"fill\":{\"color\":\"#C8D4E3\"},\"line\":{\"color\":\"white\"}},\"type\":\"table\"}]},\"layout\":{\"annotationdefaults\":{\"arrowcolor\":\"#2a3f5f\",\"arrowhead\":0,\"arrowwidth\":1},\"autotypenumbers\":\"strict\",\"coloraxis\":{\"colorbar\":{\"outlinewidth\":0,\"ticks\":\"\"}},\"colorscale\":{\"diverging\":[[0,\"#8e0152\"],[0.1,\"#c51b7d\"],[0.2,\"#de77ae\"],[0.3,\"#f1b6da\"],[0.4,\"#fde0ef\"],[0.5,\"#f7f7f7\"],[0.6,\"#e6f5d0\"],[0.7,\"#b8e186\"],[0.8,\"#7fbc41\"],[0.9,\"#4d9221\"],[1,\"#276419\"]],\"sequential\":[[0.0,\"#0d0887\"],[0.1111111111111111,\"#46039f\"],[0.2222222222222222,\"#7201a8\"],[0.3333333333333333,\"#9c179e\"],[0.4444444444444444,\"#bd3786\"],[0.5555555555555556,\"#d8576b\"],[0.6666666666666666,\"#ed7953\"],[0.7777777777777778,\"#fb9f3a\"],[0.8888888888888888,\"#fdca26\"],[1.0,\"#f0f921\"]],\"sequentialminus\":[[0.0,\"#0d0887\"],[0.1111111111111111,\"#46039f\"],[0.2222222222222222,\"#7201a8\"],[0.3333333333333333,\"#9c179e\"],[0.4444444444444444,\"#bd3786\"],[0.5555555555555556,\"#d8576b\"],[0.6666666666666666,\"#ed7953\"],[0.7777777777777778,\"#fb9f3a\"],[0.8888888888888888,\"#fdca26\"],[1.0,\"#f0f921\"]]},\"colorway\":[\"#636efa\",\"#EF553B\",\"#00cc96\",\"#ab63fa\",\"#FFA15A\",\"#19d3f3\",\"#FF6692\",\"#B6E880\",\"#FF97FF\",\"#FECB52\"],\"font\":{\"color\":\"#2a3f5f\"},\"geo\":{\"bgcolor\":\"white\",\"lakecolor\":\"white\",\"landcolor\":\"#E5ECF6\",\"showlakes\":true,\"showland\":true,\"subunitcolor\":\"white\"},\"hoverlabel\":{\"align\":\"left\"},\"hovermode\":\"closest\",\"mapbox\":{\"style\":\"light\"},\"paper_bgcolor\":\"white\",\"plot_bgcolor\":\"#E5ECF6\",\"polar\":{\"angularaxis\":{\"gridcolor\":\"white\",\"linecolor\":\"white\",\"ticks\":\"\"},\"bgcolor\":\"#E5ECF6\",\"radialaxis\":{\"gridcolor\":\"white\",\"linecolor\":\"white\",\"ticks\":\"\"}},\"scene\":{\"xaxis\":{\"backgroundcolor\":\"#E5ECF6\",\"gridcolor\":\"white\",\"gridwidth\":2,\"linecolor\":\"white\",\"showbackground\":true,\"ticks\":\"\",\"zerolinecolor\":\"white\"},\"yaxis\":{\"backgroundcolor\":\"#E5ECF6\",\"gridcolor\":\"white\",\"gridwidth\":2,\"linecolor\":\"white\",\"showbackground\":true,\"ticks\":\"\",\"zerolinecolor\":\"white\"},\"zaxis\":{\"backgroundcolor\":\"#E5ECF6\",\"gridcolor\":\"white\",\"gridwidth\":2,\"linecolor\":\"white\",\"showbackground\":true,\"ticks\":\"\",\"zerolinecolor\":\"white\"}},\"shapedefaults\":{\"line\":{\"color\":\"#2a3f5f\"}},\"ternary\":{\"aaxis\":{\"gridcolor\":\"white\",\"linecolor\":\"white\",\"ticks\":\"\"},\"baxis\":{\"gridcolor\":\"white\",\"linecolor\":\"white\",\"ticks\":\"\"},\"bgcolor\":\"#E5ECF6\",\"caxis\":{\"gridcolor\":\"white\",\"linecolor\":\"white\",\"ticks\":\"\"}},\"title\":{\"x\":0.05},\"xaxis\":{\"automargin\":true,\"gridcolor\":\"white\",\"linecolor\":\"white\",\"ticks\":\"\",\"title\":{\"standoff\":15},\"zerolinecolor\":\"white\",\"zerolinewidth\":2},\"yaxis\":{\"automargin\":true,\"gridcolor\":\"white\",\"linecolor\":\"white\",\"ticks\":\"\",\"title\":{\"standoff\":15},\"zerolinecolor\":\"white\",\"zerolinewidth\":2}}},\"scene\":{\"domain\":{\"x\":[0.0,1.0],\"y\":[0.0,1.0]},\"xaxis\":{\"title\":{\"text\":\"math score\"}},\"yaxis\":{\"title\":{\"text\":\"writing score\"}},\"zaxis\":{\"title\":{\"text\":\"reading score\"}}},\"legend\":{\"title\":{\"text\":\"parental level of education\"},\"tracegroupgap\":0},\"margin\":{\"t\":60}},                        {\"responsive\": true}                    ).then(function(){\n                            \nvar gd = document.getElementById('5664aa31-ed1e-4496-ac56-ccb6cac891f0');\nvar x = new MutationObserver(function (mutations, observer) {{\n        var display = window.getComputedStyle(gd).display;\n        if (!display || display === 'none') {{\n            console.log([gd, 'removed!']);\n            Plotly.purge(gd);\n            observer.disconnect();\n        }}\n}});\n\n// Listen for the removal of the full notebook cells\nvar notebookContainer = gd.closest('#notebook-container');\nif (notebookContainer) {{\n    x.observe(notebookContainer, {childList: true});\n}}\n\n// Listen for the clearing of the current output cell\nvar outputEl = gd.closest('.output');\nif (outputEl) {{\n    x.observe(outputEl, {childList: true});\n}}\n\n                        })                };                });            </script>        </div>"
     },
     "metadata": {},
     "output_type": "display_data"
    }
   ]
  },
  {
   "cell_type": "markdown",
   "source": [
    "Try to hover over the dots. Try to turn the chart. Try to hover over buttons in the top right block."
   ],
   "metadata": {}
  },
  {
   "cell_type": "markdown",
   "source": [
    "### Interactive Plots with Bokeh\n",
    "\n",
    "Bokeh provides a way to have different UI control that changes the way your plots get generated:"
   ],
   "metadata": {}
  },
  {
   "cell_type": "code",
   "source": [
    "from bokeh.io import output_file, show, output_notebook, push_notebook, curdoc\n",
    "from bokeh.plotting import figure\n",
    "from bokeh.models import ColumnDataSource, HoverTool, CategoricalColorMapper, DataRange1d, Select, Div, Select, Button, ColorBar, CustomJS\n",
    "from bokeh.layouts import row,column, gridplot\n",
    "from bokeh.models.widgets import Tabs, Panel\n",
    "from bokeh.palettes import Blues4\n",
    "from bokeh.application import Application\n",
    "from bokeh.application.handlers import FunctionHandler\n",
    "from bokeh.transform import cumsum, linear_cmap\n",
    "\n",
    "output_notebook()"
   ],
   "metadata": {
    "execution": {
     "iopub.status.busy": "2022-01-21T11:12:25.217534Z",
     "iopub.execute_input": "2022-01-21T11:12:25.217826Z",
     "iopub.status.idle": "2022-01-21T11:12:25.236218Z",
     "shell.execute_reply.started": "2022-01-21T11:12:25.217798Z",
     "shell.execute_reply": "2022-01-21T11:12:25.235446Z"
    },
    "trusted": true
   },
   "execution_count": 43,
   "outputs": [
    {
     "data": {
      "text/html": "\n    <div class=\"bk-root\">\n        <a href=\"https://bokeh.org\" target=\"_blank\" class=\"bk-logo bk-logo-small bk-logo-notebook\"></a>\n        <span id=\"1374\">Loading BokehJS ...</span>\n    </div>"
     },
     "metadata": {},
     "output_type": "display_data"
    },
    {
     "data": {
      "application/javascript": "\n(function(root) {\n  function now() {\n    return new Date();\n  }\n\n  const force = true;\n\n  if (typeof root._bokeh_onload_callbacks === \"undefined\" || force === true) {\n    root._bokeh_onload_callbacks = [];\n    root._bokeh_is_loading = undefined;\n  }\n\n  const JS_MIME_TYPE = 'application/javascript';\n  const HTML_MIME_TYPE = 'text/html';\n  const EXEC_MIME_TYPE = 'application/vnd.bokehjs_exec.v0+json';\n  const CLASS_NAME = 'output_bokeh rendered_html';\n\n  /**\n   * Render data to the DOM node\n   */\n  function render(props, node) {\n    const script = document.createElement(\"script\");\n    node.appendChild(script);\n  }\n\n  /**\n   * Handle when an output is cleared or removed\n   */\n  function handleClearOutput(event, handle) {\n    const cell = handle.cell;\n\n    const id = cell.output_area._bokeh_element_id;\n    const server_id = cell.output_area._bokeh_server_id;\n    // Clean up Bokeh references\n    if (id != null && id in Bokeh.index) {\n      Bokeh.index[id].model.document.clear();\n      delete Bokeh.index[id];\n    }\n\n    if (server_id !== undefined) {\n      // Clean up Bokeh references\n      const cmd_clean = \"from bokeh.io.state import curstate; print(curstate().uuid_to_server['\" + server_id + \"'].get_sessions()[0].document.roots[0]._id)\";\n      cell.notebook.kernel.execute(cmd_clean, {\n        iopub: {\n          output: function(msg) {\n            const id = msg.content.text.trim();\n            if (id in Bokeh.index) {\n              Bokeh.index[id].model.document.clear();\n              delete Bokeh.index[id];\n            }\n          }\n        }\n      });\n      // Destroy server and session\n      const cmd_destroy = \"import bokeh.io.notebook as ion; ion.destroy_server('\" + server_id + \"')\";\n      cell.notebook.kernel.execute(cmd_destroy);\n    }\n  }\n\n  /**\n   * Handle when a new output is added\n   */\n  function handleAddOutput(event, handle) {\n    const output_area = handle.output_area;\n    const output = handle.output;\n\n    // limit handleAddOutput to display_data with EXEC_MIME_TYPE content only\n    if ((output.output_type != \"display_data\") || (!Object.prototype.hasOwnProperty.call(output.data, EXEC_MIME_TYPE))) {\n      return\n    }\n\n    const toinsert = output_area.element.find(\".\" + CLASS_NAME.split(' ')[0]);\n\n    if (output.metadata[EXEC_MIME_TYPE][\"id\"] !== undefined) {\n      toinsert[toinsert.length - 1].firstChild.textContent = output.data[JS_MIME_TYPE];\n      // store reference to embed id on output_area\n      output_area._bokeh_element_id = output.metadata[EXEC_MIME_TYPE][\"id\"];\n    }\n    if (output.metadata[EXEC_MIME_TYPE][\"server_id\"] !== undefined) {\n      const bk_div = document.createElement(\"div\");\n      bk_div.innerHTML = output.data[HTML_MIME_TYPE];\n      const script_attrs = bk_div.children[0].attributes;\n      for (let i = 0; i < script_attrs.length; i++) {\n        toinsert[toinsert.length - 1].firstChild.setAttribute(script_attrs[i].name, script_attrs[i].value);\n        toinsert[toinsert.length - 1].firstChild.textContent = bk_div.children[0].textContent\n      }\n      // store reference to server id on output_area\n      output_area._bokeh_server_id = output.metadata[EXEC_MIME_TYPE][\"server_id\"];\n    }\n  }\n\n  function register_renderer(events, OutputArea) {\n\n    function append_mime(data, metadata, element) {\n      // create a DOM node to render to\n      const toinsert = this.create_output_subarea(\n        metadata,\n        CLASS_NAME,\n        EXEC_MIME_TYPE\n      );\n      this.keyboard_manager.register_events(toinsert);\n      // Render to node\n      const props = {data: data, metadata: metadata[EXEC_MIME_TYPE]};\n      render(props, toinsert[toinsert.length - 1]);\n      element.append(toinsert);\n      return toinsert\n    }\n\n    /* Handle when an output is cleared or removed */\n    events.on('clear_output.CodeCell', handleClearOutput);\n    events.on('delete.Cell', handleClearOutput);\n\n    /* Handle when a new output is added */\n    events.on('output_added.OutputArea', handleAddOutput);\n\n    /**\n     * Register the mime type and append_mime function with output_area\n     */\n    OutputArea.prototype.register_mime_type(EXEC_MIME_TYPE, append_mime, {\n      /* Is output safe? */\n      safe: true,\n      /* Index of renderer in `output_area.display_order` */\n      index: 0\n    });\n  }\n\n  // register the mime type if in Jupyter Notebook environment and previously unregistered\n  if (root.Jupyter !== undefined) {\n    const events = require('base/js/events');\n    const OutputArea = require('notebook/js/outputarea').OutputArea;\n\n    if (OutputArea.prototype.mime_types().indexOf(EXEC_MIME_TYPE) == -1) {\n      register_renderer(events, OutputArea);\n    }\n  }\n\n  \n  if (typeof (root._bokeh_timeout) === \"undefined\" || force === true) {\n    root._bokeh_timeout = Date.now() + 5000;\n    root._bokeh_failed_load = false;\n  }\n\n  const NB_LOAD_WARNING = {'data': {'text/html':\n     \"<div style='background-color: #fdd'>\\n\"+\n     \"<p>\\n\"+\n     \"BokehJS does not appear to have successfully loaded. If loading BokehJS from CDN, this \\n\"+\n     \"may be due to a slow or bad network connection. Possible fixes:\\n\"+\n     \"</p>\\n\"+\n     \"<ul>\\n\"+\n     \"<li>re-rerun `output_notebook()` to attempt to load from CDN again, or</li>\\n\"+\n     \"<li>use INLINE resources instead, as so:</li>\\n\"+\n     \"</ul>\\n\"+\n     \"<code>\\n\"+\n     \"from bokeh.resources import INLINE\\n\"+\n     \"output_notebook(resources=INLINE)\\n\"+\n     \"</code>\\n\"+\n     \"</div>\"}};\n\n  function display_loaded() {\n    const el = document.getElementById(\"1374\");\n    if (el != null) {\n      el.textContent = \"BokehJS is loading...\";\n    }\n    if (root.Bokeh !== undefined) {\n      if (el != null) {\n        el.textContent = \"BokehJS \" + root.Bokeh.version + \" successfully loaded.\";\n      }\n    } else if (Date.now() < root._bokeh_timeout) {\n      setTimeout(display_loaded, 100)\n    }\n  }\n\n\n  function run_callbacks() {\n    try {\n      root._bokeh_onload_callbacks.forEach(function(callback) {\n        if (callback != null)\n          callback();\n      });\n    } finally {\n      delete root._bokeh_onload_callbacks\n    }\n    console.debug(\"Bokeh: all callbacks have finished\");\n  }\n\n  function load_libs(css_urls, js_urls, callback) {\n    if (css_urls == null) css_urls = [];\n    if (js_urls == null) js_urls = [];\n\n    root._bokeh_onload_callbacks.push(callback);\n    if (root._bokeh_is_loading > 0) {\n      console.debug(\"Bokeh: BokehJS is being loaded, scheduling callback at\", now());\n      return null;\n    }\n    if (js_urls == null || js_urls.length === 0) {\n      run_callbacks();\n      return null;\n    }\n    console.debug(\"Bokeh: BokehJS not loaded, scheduling load and callback at\", now());\n    root._bokeh_is_loading = css_urls.length + js_urls.length;\n\n    function on_load() {\n      root._bokeh_is_loading--;\n      if (root._bokeh_is_loading === 0) {\n        console.debug(\"Bokeh: all BokehJS libraries/stylesheets loaded\");\n        run_callbacks()\n      }\n    }\n\n    function on_error(url) {\n      console.error(\"failed to load \" + url);\n    }\n\n    for (let i = 0; i < css_urls.length; i++) {\n      const url = css_urls[i];\n      const element = document.createElement(\"link\");\n      element.onload = on_load;\n      element.onerror = on_error.bind(null, url);\n      element.rel = \"stylesheet\";\n      element.type = \"text/css\";\n      element.href = url;\n      console.debug(\"Bokeh: injecting link tag for BokehJS stylesheet: \", url);\n      document.body.appendChild(element);\n    }\n\n    for (let i = 0; i < js_urls.length; i++) {\n      const url = js_urls[i];\n      const element = document.createElement('script');\n      element.onload = on_load;\n      element.onerror = on_error.bind(null, url);\n      element.async = false;\n      element.src = url;\n      console.debug(\"Bokeh: injecting script tag for BokehJS library: \", url);\n      document.head.appendChild(element);\n    }\n  };\n\n  function inject_raw_css(css) {\n    const element = document.createElement(\"style\");\n    element.appendChild(document.createTextNode(css));\n    document.body.appendChild(element);\n  }\n\n  \n  const js_urls = [\"https://cdn.bokeh.org/bokeh/release/bokeh-2.4.2.min.js\", \"https://cdn.bokeh.org/bokeh/release/bokeh-gl-2.4.2.min.js\", \"https://cdn.bokeh.org/bokeh/release/bokeh-widgets-2.4.2.min.js\", \"https://cdn.bokeh.org/bokeh/release/bokeh-tables-2.4.2.min.js\", \"https://cdn.bokeh.org/bokeh/release/bokeh-mathjax-2.4.2.min.js\"];\n  const css_urls = [];\n  \n\n  const inline_js = [\n    function(Bokeh) {\n      Bokeh.set_log_level(\"info\");\n    },\n    function(Bokeh) {\n    \n    \n    }\n  ];\n\n  function run_inline_js() {\n    \n    if (root.Bokeh !== undefined || force === true) {\n      \n    for (let i = 0; i < inline_js.length; i++) {\n      inline_js[i].call(root, root.Bokeh);\n    }\n    if (force === true) {\n        display_loaded();\n      }} else if (Date.now() < root._bokeh_timeout) {\n      setTimeout(run_inline_js, 100);\n    } else if (!root._bokeh_failed_load) {\n      console.log(\"Bokeh: BokehJS failed to load within specified timeout.\");\n      root._bokeh_failed_load = true;\n    } else if (force !== true) {\n      const cell = $(document.getElementById(\"1374\")).parents('.cell').data().cell;\n      cell.output_area.append_execute_result(NB_LOAD_WARNING)\n    }\n\n  }\n\n  if (root._bokeh_is_loading === 0) {\n    console.debug(\"Bokeh: BokehJS loaded, going straight to plotting\");\n    run_inline_js();\n  } else {\n    load_libs(css_urls, js_urls, function() {\n      console.debug(\"Bokeh: BokehJS plotting callback run at\", now());\n      run_inline_js();\n    });\n  }\n}(window));",
      "application/vnd.bokehjs_load.v0+json": "\n(function(root) {\n  function now() {\n    return new Date();\n  }\n\n  const force = true;\n\n  if (typeof root._bokeh_onload_callbacks === \"undefined\" || force === true) {\n    root._bokeh_onload_callbacks = [];\n    root._bokeh_is_loading = undefined;\n  }\n\n  \n\n  \n  if (typeof (root._bokeh_timeout) === \"undefined\" || force === true) {\n    root._bokeh_timeout = Date.now() + 5000;\n    root._bokeh_failed_load = false;\n  }\n\n  const NB_LOAD_WARNING = {'data': {'text/html':\n     \"<div style='background-color: #fdd'>\\n\"+\n     \"<p>\\n\"+\n     \"BokehJS does not appear to have successfully loaded. If loading BokehJS from CDN, this \\n\"+\n     \"may be due to a slow or bad network connection. Possible fixes:\\n\"+\n     \"</p>\\n\"+\n     \"<ul>\\n\"+\n     \"<li>re-rerun `output_notebook()` to attempt to load from CDN again, or</li>\\n\"+\n     \"<li>use INLINE resources instead, as so:</li>\\n\"+\n     \"</ul>\\n\"+\n     \"<code>\\n\"+\n     \"from bokeh.resources import INLINE\\n\"+\n     \"output_notebook(resources=INLINE)\\n\"+\n     \"</code>\\n\"+\n     \"</div>\"}};\n\n  function display_loaded() {\n    const el = document.getElementById(\"1374\");\n    if (el != null) {\n      el.textContent = \"BokehJS is loading...\";\n    }\n    if (root.Bokeh !== undefined) {\n      if (el != null) {\n        el.textContent = \"BokehJS \" + root.Bokeh.version + \" successfully loaded.\";\n      }\n    } else if (Date.now() < root._bokeh_timeout) {\n      setTimeout(display_loaded, 100)\n    }\n  }\n\n\n  function run_callbacks() {\n    try {\n      root._bokeh_onload_callbacks.forEach(function(callback) {\n        if (callback != null)\n          callback();\n      });\n    } finally {\n      delete root._bokeh_onload_callbacks\n    }\n    console.debug(\"Bokeh: all callbacks have finished\");\n  }\n\n  function load_libs(css_urls, js_urls, callback) {\n    if (css_urls == null) css_urls = [];\n    if (js_urls == null) js_urls = [];\n\n    root._bokeh_onload_callbacks.push(callback);\n    if (root._bokeh_is_loading > 0) {\n      console.debug(\"Bokeh: BokehJS is being loaded, scheduling callback at\", now());\n      return null;\n    }\n    if (js_urls == null || js_urls.length === 0) {\n      run_callbacks();\n      return null;\n    }\n    console.debug(\"Bokeh: BokehJS not loaded, scheduling load and callback at\", now());\n    root._bokeh_is_loading = css_urls.length + js_urls.length;\n\n    function on_load() {\n      root._bokeh_is_loading--;\n      if (root._bokeh_is_loading === 0) {\n        console.debug(\"Bokeh: all BokehJS libraries/stylesheets loaded\");\n        run_callbacks()\n      }\n    }\n\n    function on_error(url) {\n      console.error(\"failed to load \" + url);\n    }\n\n    for (let i = 0; i < css_urls.length; i++) {\n      const url = css_urls[i];\n      const element = document.createElement(\"link\");\n      element.onload = on_load;\n      element.onerror = on_error.bind(null, url);\n      element.rel = \"stylesheet\";\n      element.type = \"text/css\";\n      element.href = url;\n      console.debug(\"Bokeh: injecting link tag for BokehJS stylesheet: \", url);\n      document.body.appendChild(element);\n    }\n\n    for (let i = 0; i < js_urls.length; i++) {\n      const url = js_urls[i];\n      const element = document.createElement('script');\n      element.onload = on_load;\n      element.onerror = on_error.bind(null, url);\n      element.async = false;\n      element.src = url;\n      console.debug(\"Bokeh: injecting script tag for BokehJS library: \", url);\n      document.head.appendChild(element);\n    }\n  };\n\n  function inject_raw_css(css) {\n    const element = document.createElement(\"style\");\n    element.appendChild(document.createTextNode(css));\n    document.body.appendChild(element);\n  }\n\n  \n  const js_urls = [\"https://cdn.bokeh.org/bokeh/release/bokeh-2.4.2.min.js\", \"https://cdn.bokeh.org/bokeh/release/bokeh-gl-2.4.2.min.js\", \"https://cdn.bokeh.org/bokeh/release/bokeh-widgets-2.4.2.min.js\", \"https://cdn.bokeh.org/bokeh/release/bokeh-tables-2.4.2.min.js\", \"https://cdn.bokeh.org/bokeh/release/bokeh-mathjax-2.4.2.min.js\"];\n  const css_urls = [];\n  \n\n  const inline_js = [\n    function(Bokeh) {\n      Bokeh.set_log_level(\"info\");\n    },\n    function(Bokeh) {\n    \n    \n    }\n  ];\n\n  function run_inline_js() {\n    \n    if (root.Bokeh !== undefined || force === true) {\n      \n    for (let i = 0; i < inline_js.length; i++) {\n      inline_js[i].call(root, root.Bokeh);\n    }\n    if (force === true) {\n        display_loaded();\n      }} else if (Date.now() < root._bokeh_timeout) {\n      setTimeout(run_inline_js, 100);\n    } else if (!root._bokeh_failed_load) {\n      console.log(\"Bokeh: BokehJS failed to load within specified timeout.\");\n      root._bokeh_failed_load = true;\n    } else if (force !== true) {\n      const cell = $(document.getElementById(\"1374\")).parents('.cell').data().cell;\n      cell.output_area.append_execute_result(NB_LOAD_WARNING)\n    }\n\n  }\n\n  if (root._bokeh_is_loading === 0) {\n    console.debug(\"Bokeh: BokehJS loaded, going straight to plotting\");\n    run_inline_js();\n  } else {\n    load_libs(css_urls, js_urls, function() {\n      console.debug(\"Bokeh: BokehJS plotting callback run at\", now());\n      run_inline_js();\n    });\n  }\n}(window));"
     },
     "metadata": {},
     "output_type": "display_data"
    }
   ]
  },
  {
   "cell_type": "code",
   "source": [
    "p = figure(plot_width=500, plot_height=500)\n",
    "\n",
    "# add a circle renderer with a size, color, and alpha\n",
    "p.circle(dataset[\"writing score\"], dataset[\"math score\"], size=20, color=\"navy\", alpha=0.2)\n",
    "\n",
    "# show the results\n",
    "show(p)"
   ],
   "metadata": {
    "execution": {
     "iopub.status.busy": "2022-01-21T11:12:27.795961Z",
     "iopub.execute_input": "2022-01-21T11:12:27.797334Z",
     "iopub.status.idle": "2022-01-21T11:12:27.911148Z",
     "shell.execute_reply.started": "2022-01-21T11:12:27.797272Z",
     "shell.execute_reply": "2022-01-21T11:12:27.910369Z"
    },
    "trusted": true
   },
   "execution_count": 44,
   "outputs": [
    {
     "data": {
      "text/html": "\n\n\n\n\n\n  <div class=\"bk-root\" id=\"dba82261-ecc9-4468-b84b-b49385940c24\" data-root-id=\"1375\"></div>\n"
     },
     "metadata": {},
     "output_type": "display_data"
    },
    {
     "data": {
      "application/javascript": "(function(root) {\n  function embed_document(root) {\n    \n  const docs_json = {\"ed439966-87bb-403a-96c7-4e4a563e8569\":{\"defs\":[],\"roots\":{\"references\":[{\"attributes\":{\"below\":[{\"id\":\"1384\"}],\"center\":[{\"id\":\"1387\"},{\"id\":\"1391\"}],\"height\":500,\"left\":[{\"id\":\"1388\"}],\"renderers\":[{\"id\":\"1410\"}],\"title\":{\"id\":\"1447\"},\"toolbar\":{\"id\":\"1399\"},\"width\":500,\"x_range\":{\"id\":\"1376\"},\"x_scale\":{\"id\":\"1380\"},\"y_range\":{\"id\":\"1378\"},\"y_scale\":{\"id\":\"1382\"}},\"id\":\"1375\",\"subtype\":\"Figure\",\"type\":\"Plot\"},{\"attributes\":{},\"id\":\"1376\",\"type\":\"DataRange1d\"},{\"attributes\":{},\"id\":\"1453\",\"type\":\"BasicTickFormatter\"},{\"attributes\":{},\"id\":\"1395\",\"type\":\"SaveTool\"},{\"attributes\":{},\"id\":\"1454\",\"type\":\"AllLabels\"},{\"attributes\":{\"coordinates\":null,\"group\":null},\"id\":\"1447\",\"type\":\"Title\"},{\"attributes\":{\"axis\":{\"id\":\"1384\"},\"coordinates\":null,\"group\":null,\"ticker\":null},\"id\":\"1387\",\"type\":\"Grid\"},{\"attributes\":{\"source\":{\"id\":\"1406\"}},\"id\":\"1411\",\"type\":\"CDSView\"},{\"attributes\":{\"overlay\":{\"id\":\"1398\"}},\"id\":\"1394\",\"type\":\"BoxZoomTool\"},{\"attributes\":{\"coordinates\":null,\"data_source\":{\"id\":\"1406\"},\"glyph\":{\"id\":\"1407\"},\"group\":null,\"hover_glyph\":null,\"muted_glyph\":{\"id\":\"1409\"},\"nonselection_glyph\":{\"id\":\"1408\"},\"view\":{\"id\":\"1411\"}},\"id\":\"1410\",\"type\":\"GlyphRenderer\"},{\"attributes\":{},\"id\":\"1378\",\"type\":\"DataRange1d\"},{\"attributes\":{\"coordinates\":null,\"formatter\":{\"id\":\"1450\"},\"group\":null,\"major_label_policy\":{\"id\":\"1451\"},\"ticker\":{\"id\":\"1389\"}},\"id\":\"1388\",\"type\":\"LinearAxis\"},{\"attributes\":{},\"id\":\"1397\",\"type\":\"HelpTool\"},{\"attributes\":{},\"id\":\"1392\",\"type\":\"PanTool\"},{\"attributes\":{\"fill_alpha\":{\"value\":0.1},\"fill_color\":{\"value\":\"navy\"},\"hatch_alpha\":{\"value\":0.1},\"hatch_color\":{\"value\":\"navy\"},\"line_alpha\":{\"value\":0.1},\"line_color\":{\"value\":\"navy\"},\"size\":{\"value\":20},\"x\":{\"field\":\"x\"},\"y\":{\"field\":\"y\"}},\"id\":\"1408\",\"type\":\"Circle\"},{\"attributes\":{},\"id\":\"1382\",\"type\":\"LinearScale\"},{\"attributes\":{},\"id\":\"1396\",\"type\":\"ResetTool\"},{\"attributes\":{},\"id\":\"1455\",\"type\":\"UnionRenderers\"},{\"attributes\":{\"fill_alpha\":{\"value\":0.2},\"fill_color\":{\"value\":\"navy\"},\"hatch_alpha\":{\"value\":0.2},\"hatch_color\":{\"value\":\"navy\"},\"line_alpha\":{\"value\":0.2},\"line_color\":{\"value\":\"navy\"},\"size\":{\"value\":20},\"x\":{\"field\":\"x\"},\"y\":{\"field\":\"y\"}},\"id\":\"1409\",\"type\":\"Circle\"},{\"attributes\":{},\"id\":\"1385\",\"type\":\"BasicTicker\"},{\"attributes\":{},\"id\":\"1456\",\"type\":\"Selection\"},{\"attributes\":{\"axis\":{\"id\":\"1388\"},\"coordinates\":null,\"dimension\":1,\"group\":null,\"ticker\":null},\"id\":\"1391\",\"type\":\"Grid\"},{\"attributes\":{\"data\":{\"x\":[74,88,93,44,75,78,92,39,67,50,52,43,73,70,58,78,86,28,46,61,63,70,53,73,80,72,55,75,65,75,74,61,65,38,82,79,83,59,88,57,54,68,65,66,54,57,62,76,76,82,48,68,42,75,87,43,86,49,58,10,72,34,55,71,59,61,37,74,56,57,73,63,48,56,41,38,22,81,72,68,50,45,54,63,34,82,88,74,67,82,74,36,71,50,92,82,62,70,62,62,67,74,89,47,90,72,100,64,70,72,98,49,47,54,100,74,82,79,61,65,89,92,93,56,73,86,67,74,74,51,82,40,70,84,75,48,41,56,67,69,71,64,54,47,78,33,75,66,81,93,69,68,66,47,61,88,78,60,87,64,74,85,52,49,91,100,51,78,78,70,74,78,81,70,54,87,58,77,62,100,75,66,47,70,49,65,65,68,45,87,69,79,66,62,85,52,65,51,55,76,86,77,69,68,42,78,62,76,76,66,79,27,60,56,81,75,88,39,70,56,74,73,62,75,73,54,71,54,64,94,66,42,83,78,84,77,67,74,51,80,66,83,55,43,69,71,74,68,62,53,49,83,70,72,52,70,68,77,78,81,77,78,51,90,68,41,81,77,95,70,61,42,58,71,76,73,93,75,80,57,42,46,84,78,46,82,88,82,76,77,68,70,57,75,80,60,43,68,50,75,81,52,81,64,83,69,81,44,67,52,80,57,68,69,75,65,91,78,69,63,84,79,80,53,43,94,62,19,77,51,61,35,53,81,95,66,69,43,27,60,52,63,74,67,67,75,57,95,66,76,69,52,80,57,70,70,61,69,61,89,59,78,58,32,58,60,53,61,58,85,71,70,72,96,73,41,82,100,77,62,83,95,71,45,43,75,70,67,64,75,59,77,67,56,77,41,63,95,57,54,67,43,55,100,62,68,63,77,56,85,74,78,60,67,79,69,68,67,62,54,93,64,67,80,34,62,86,65,53,54,59,70,55,50,66,53,64,73,51,82,79,80,69,76,73,77,60,80,42,72,85,97,74,49,62,47,89,48,100,68,55,45,76,91,62,91,38,65,85,76,90,74,84,61,91,83,66,72,70,67,68,56,61,46,54,71,56,74,57,82,76,70,90,90,68,66,52,76,68,72,82,92,54,92,54,80,66,54,77,87,73,43,52,62,94,85,84,73,78,79,52,84,57,50,49,59,60,43,47,70,73,53,58,94,68,83,58,62,71,86,68,80,79,89,66,80,97,64,64,69,65,88,50,64,40,33,79,66,70,62,79,74,92,80,46,45,100,78,47,67,70,92,56,64,71,53,52,89,58,68,96,80,78,80,77,76,73,62,65,65,54,50,64,73,99,72,15,48,73,81,63,30,80,51,90,62,82,54,62,65,63,66,91,74,93,72,38,83,84,68,54,56,52,86,62,99,63,46,46,55,70,65,81,85,80,64,81,88,74,73,51,90,79,80,60,81,65,68,55,81,53,76,98,74,79,67,64,61,58,85,73,63,69,67,63,60,71,87,61,77,68,50,76,84,78,66,76,76,78,60,74,60,54,44,68,100,68,73,44,83,53,78,81,73,56,86,90,70,79,59,82,72,87,67,64,65,36,52,79,58,90,85,99,84,74,87,72,99,74,80,70,59,88,42,41,71,77,57,84,37,80,43,94,44,57,59,84,73,73,55,72,56,82,72,47,74,71,68,59,86,68,65,75,85,53,92,52,72,65,77,64,54,86,63,59,72,77,60,75,57,49,74,72,79,60,55,70,43,82,82,57,84,82,62,79,44,77,32,61,61,60,70,69,77,51,73,70,81,54,57,68,73,95,87,78,74,75,40,69,51,36,49,67,76,83,87,64,76,68,88,92,93,51,82,52,58,70,76,81,53,57,89,58,89,45,74,57,79,53,73,46,51,36,76,64,84,85,50,68,69,67,63,93,61,55,96,65,81,46,72,53,87,38,80,91,88,52,41,72,51,47,76,78,82,61,66,84,54,80,74,66,70,71,44,54,80,95,59,74,48,91,85,73,75,69,38,27,79,63,82,89,74,41,100,84,77,51,91,72,70,48,82,66,66,55,66,100,52,80,91,67,46,66,65,69,60,52,71,44,51,70,62,73,74,90,58,53,57,85,69,72,96,64,61,61,58,80,60,52,73,71,83,72,54,69,62,81,100,59,71,64,53,100,75,58,72,64,60,67,80,100,69,60,61,67,77,60,58,48,94,23,78,86,91,82,54,51,76,45,83,75,78,76,74,62,95,55,65,77,86],\"y\":[72,69,90,47,76,71,88,40,64,38,58,40,65,78,50,69,88,18,46,54,66,65,44,69,74,73,69,67,70,62,69,63,56,40,97,81,74,50,75,57,55,58,53,59,50,65,55,66,57,82,53,77,53,88,71,33,82,52,58,0,79,39,62,69,59,67,45,60,61,39,58,63,41,61,49,44,30,80,61,62,47,49,50,72,42,73,76,71,58,73,65,27,71,43,79,78,65,63,58,65,79,68,85,60,98,58,87,66,52,70,77,62,54,51,99,84,75,78,51,55,79,91,88,63,83,87,72,65,82,51,89,53,87,75,74,58,51,70,59,71,76,59,42,57,88,22,88,73,68,100,62,77,59,54,62,70,66,60,61,66,82,75,49,52,81,96,53,58,68,67,72,94,79,63,43,81,46,71,52,97,62,46,50,65,45,65,80,62,48,77,66,76,62,77,69,61,59,55,45,78,67,65,69,57,59,74,82,81,74,58,80,35,42,60,87,84,83,34,66,61,56,87,55,86,52,45,72,57,68,88,76,46,67,92,83,80,63,64,54,84,73,80,56,59,75,85,89,58,65,68,47,71,60,80,54,62,64,78,70,65,64,79,44,99,76,59,63,69,88,71,69,58,47,65,88,83,85,59,65,73,53,45,73,70,37,81,97,67,88,77,76,86,63,65,78,67,46,71,40,90,81,56,67,80,74,69,99,51,53,49,73,66,67,68,59,71,77,83,63,56,67,75,71,43,41,82,61,28,82,41,71,47,62,90,83,61,76,49,24,35,58,61,69,67,79,72,62,77,75,87,52,66,63,46,59,61,63,42,59,80,58,85,52,27,59,49,69,61,44,73,84,45,74,82,59,46,80,85,71,66,80,87,79,38,38,67,64,57,62,73,73,77,76,57,65,48,50,85,74,60,59,53,49,88,54,63,65,82,52,87,70,84,71,63,51,84,71,74,68,57,82,57,47,59,41,62,86,69,65,68,64,61,61,47,73,50,75,75,70,89,67,78,59,73,79,67,69,86,47,81,64,100,65,65,53,37,79,53,100,72,53,54,71,77,75,84,26,72,77,91,83,63,68,59,90,71,76,80,55,76,73,52,68,59,49,70,61,60,64,79,65,64,83,81,54,68,54,59,66,76,74,94,63,95,40,82,68,55,79,86,76,64,62,54,77,76,74,66,66,67,71,91,69,54,53,68,56,36,29,62,68,47,62,79,73,66,51,51,85,97,75,79,81,82,64,78,92,72,62,79,79,87,40,77,53,32,55,61,53,73,74,63,96,63,48,48,92,61,63,68,71,91,53,50,74,40,61,81,48,53,81,77,63,73,69,65,55,44,54,48,58,71,68,74,92,56,30,53,69,65,54,29,76,60,84,75,85,40,61,58,69,58,94,65,82,60,37,88,95,65,35,62,58,100,61,100,69,61,49,44,67,79,66,75,84,71,67,80,86,76,41,74,72,74,70,65,59,64,50,69,51,68,85,65,73,62,77,69,43,90,74,73,55,65,80,50,63,77,73,81,66,52,69,65,69,50,73,70,81,63,67,60,62,29,62,94,85,77,53,93,49,73,66,77,49,79,75,59,57,66,79,57,87,63,59,62,46,66,89,42,93,80,98,81,60,76,73,96,76,91,62,55,74,50,47,81,65,68,73,53,68,55,87,55,53,67,92,53,81,61,80,37,81,59,55,72,69,69,50,87,71,68,79,77,58,84,55,70,52,69,53,48,78,62,60,74,58,76,68,58,52,75,52,62,66,49,66,35,72,94,46,77,76,52,91,32,72,19,68,52,48,60,66,89,42,57,70,70,69,52,67,76,87,82,73,75,64,41,90,59,51,45,54,87,72,94,45,61,60,77,85,78,49,71,48,62,56,65,69,68,61,74,64,77,58,60,73,75,58,66,39,64,23,74,40,90,91,64,59,80,71,61,87,82,62,97,75,65,52,87,53,81,39,71,97,82,59,61,78,49,59,70,82,90,43,80,81,57,59,64,63,71,64,55,51,62,93,54,69,44,86,85,50,88,59,32,36,63,67,65,85,73,34,93,67,88,57,79,67,70,50,69,52,47,46,68,100,44,57,91,69,35,72,54,74,74,64,65,46,48,67,62,61,70,98,70,67,57,85,77,72,78,81,61,58,54,82,49,49,57,94,75,74,58,62,72,84,92,45,75,56,48,100,65,72,62,66,63,68,75,89,78,53,49,54,64,60,62,55,91,8,81,79,78,74,57,40,81,44,67,86,65,55,62,63,88,62,59,68,77]},\"selected\":{\"id\":\"1456\"},\"selection_policy\":{\"id\":\"1455\"}},\"id\":\"1406\",\"type\":\"ColumnDataSource\"},{\"attributes\":{\"fill_alpha\":{\"value\":0.2},\"fill_color\":{\"value\":\"navy\"},\"hatch_alpha\":{\"value\":0.2},\"hatch_color\":{\"value\":\"navy\"},\"line_alpha\":{\"value\":0.2},\"line_color\":{\"value\":\"navy\"},\"size\":{\"value\":20},\"x\":{\"field\":\"x\"},\"y\":{\"field\":\"y\"}},\"id\":\"1407\",\"type\":\"Circle\"},{\"attributes\":{\"bottom_units\":\"screen\",\"coordinates\":null,\"fill_alpha\":0.5,\"fill_color\":\"lightgrey\",\"group\":null,\"left_units\":\"screen\",\"level\":\"overlay\",\"line_alpha\":1.0,\"line_color\":\"black\",\"line_dash\":[4,4],\"line_width\":2,\"right_units\":\"screen\",\"syncable\":false,\"top_units\":\"screen\"},\"id\":\"1398\",\"type\":\"BoxAnnotation\"},{\"attributes\":{},\"id\":\"1380\",\"type\":\"LinearScale\"},{\"attributes\":{},\"id\":\"1389\",\"type\":\"BasicTicker\"},{\"attributes\":{},\"id\":\"1393\",\"type\":\"WheelZoomTool\"},{\"attributes\":{},\"id\":\"1450\",\"type\":\"BasicTickFormatter\"},{\"attributes\":{\"tools\":[{\"id\":\"1392\"},{\"id\":\"1393\"},{\"id\":\"1394\"},{\"id\":\"1395\"},{\"id\":\"1396\"},{\"id\":\"1397\"}]},\"id\":\"1399\",\"type\":\"Toolbar\"},{\"attributes\":{\"coordinates\":null,\"formatter\":{\"id\":\"1453\"},\"group\":null,\"major_label_policy\":{\"id\":\"1454\"},\"ticker\":{\"id\":\"1385\"}},\"id\":\"1384\",\"type\":\"LinearAxis\"},{\"attributes\":{},\"id\":\"1451\",\"type\":\"AllLabels\"}],\"root_ids\":[\"1375\"]},\"title\":\"Bokeh Application\",\"version\":\"2.4.2\"}};\n  const render_items = [{\"docid\":\"ed439966-87bb-403a-96c7-4e4a563e8569\",\"root_ids\":[\"1375\"],\"roots\":{\"1375\":\"dba82261-ecc9-4468-b84b-b49385940c24\"}}];\n  root.Bokeh.embed.embed_items_notebook(docs_json, render_items);\n\n  }\n  if (root.Bokeh !== undefined) {\n    embed_document(root);\n  } else {\n    let attempts = 0;\n    const timer = setInterval(function(root) {\n      if (root.Bokeh !== undefined) {\n        clearInterval(timer);\n        embed_document(root);\n      } else {\n        attempts++;\n        if (attempts > 100) {\n          clearInterval(timer);\n          console.log(\"Bokeh: ERROR: Unable to run BokehJS code because BokehJS library is missing\");\n        }\n      }\n    }, 10, root)\n  }\n})(window);",
      "application/vnd.bokehjs_exec.v0+json": ""
     },
     "metadata": {
      "application/vnd.bokehjs_exec.v0+json": {
       "id": "1375"
      }
     },
     "output_type": "display_data"
    }
   ]
  },
  {
   "cell_type": "code",
   "source": [
    "full = pd.read_csv('./data/titanic_full.csv')\n",
    "full.head()"
   ],
   "metadata": {
    "execution": {
     "iopub.status.busy": "2022-01-21T11:12:30.501356Z",
     "iopub.execute_input": "2022-01-21T11:12:30.502226Z",
     "iopub.status.idle": "2022-01-21T11:12:30.541882Z",
     "shell.execute_reply.started": "2022-01-21T11:12:30.502176Z",
     "shell.execute_reply": "2022-01-21T11:12:30.540976Z"
    },
    "trusted": true
   },
   "execution_count": 45,
   "outputs": [
    {
     "data": {
      "text/plain": "   PassengerId  Survived  Pclass  \\\n0            1       0.0       3   \n1            2       1.0       1   \n2            3       1.0       3   \n3            4       1.0       1   \n4            5       0.0       3   \n\n                                                Name     Sex   Age  SibSp  \\\n0                            Braund, Mr. Owen Harris    male  22.0      1   \n1  Cumings, Mrs. John Bradley (Florence Briggs Th...  female  38.0      1   \n2                             Heikkinen, Miss. Laina  female  26.0      0   \n3       Futrelle, Mrs. Jacques Heath (Lily May Peel)  female  35.0      1   \n4                           Allen, Mr. William Henry    male  35.0      0   \n\n   Parch            Ticket     Fare  ... Embarked WikiId  \\\n0      0         A/5 21171   7.2500  ...        S  691.0   \n1      0          PC 17599  71.2833  ...        C   90.0   \n2      0  STON/O2. 3101282   7.9250  ...        S  865.0   \n3      0            113803  53.1000  ...        S  127.0   \n4      0            373450   8.0500  ...        S  627.0   \n\n                                    Name_wiki Age_wiki  \\\n0                     Braund, Mr. Owen Harris     22.0   \n1  Cumings, Mrs. Florence Briggs (née Thayer)     35.0   \n2                       Heikkinen, Miss Laina     26.0   \n3          Futrelle, Mrs. Lily May (née Peel)     35.0   \n4                    Allen, Mr. William Henry     35.0   \n\n                             Hometown      Boarded  \\\n0          Bridgerule, Devon, England  Southampton   \n1              New York, New York, US    Cherbourg   \n2                  Jyväskylä, Finland  Southampton   \n3         Scituate, Massachusetts, US  Southampton   \n4  Birmingham, West Midlands, England  Southampton   \n\n                               Destination Lifeboat Body Class  \n0  Qu'Appelle Valley, Saskatchewan, Canada      NaN  NaN   3.0  \n1                   New York, New York, US        4  NaN   1.0  \n2                            New York City      14?  NaN   3.0  \n3              Scituate, Massachusetts, US        D  NaN   1.0  \n4                            New York City      NaN  NaN   3.0  \n\n[5 rows x 21 columns]",
      "text/html": "<div>\n<style scoped>\n    .dataframe tbody tr th:only-of-type {\n        vertical-align: middle;\n    }\n\n    .dataframe tbody tr th {\n        vertical-align: top;\n    }\n\n    .dataframe thead th {\n        text-align: right;\n    }\n</style>\n<table border=\"1\" class=\"dataframe\">\n  <thead>\n    <tr style=\"text-align: right;\">\n      <th></th>\n      <th>PassengerId</th>\n      <th>Survived</th>\n      <th>Pclass</th>\n      <th>Name</th>\n      <th>Sex</th>\n      <th>Age</th>\n      <th>SibSp</th>\n      <th>Parch</th>\n      <th>Ticket</th>\n      <th>Fare</th>\n      <th>...</th>\n      <th>Embarked</th>\n      <th>WikiId</th>\n      <th>Name_wiki</th>\n      <th>Age_wiki</th>\n      <th>Hometown</th>\n      <th>Boarded</th>\n      <th>Destination</th>\n      <th>Lifeboat</th>\n      <th>Body</th>\n      <th>Class</th>\n    </tr>\n  </thead>\n  <tbody>\n    <tr>\n      <th>0</th>\n      <td>1</td>\n      <td>0.0</td>\n      <td>3</td>\n      <td>Braund, Mr. Owen Harris</td>\n      <td>male</td>\n      <td>22.0</td>\n      <td>1</td>\n      <td>0</td>\n      <td>A/5 21171</td>\n      <td>7.2500</td>\n      <td>...</td>\n      <td>S</td>\n      <td>691.0</td>\n      <td>Braund, Mr. Owen Harris</td>\n      <td>22.0</td>\n      <td>Bridgerule, Devon, England</td>\n      <td>Southampton</td>\n      <td>Qu'Appelle Valley, Saskatchewan, Canada</td>\n      <td>NaN</td>\n      <td>NaN</td>\n      <td>3.0</td>\n    </tr>\n    <tr>\n      <th>1</th>\n      <td>2</td>\n      <td>1.0</td>\n      <td>1</td>\n      <td>Cumings, Mrs. John Bradley (Florence Briggs Th...</td>\n      <td>female</td>\n      <td>38.0</td>\n      <td>1</td>\n      <td>0</td>\n      <td>PC 17599</td>\n      <td>71.2833</td>\n      <td>...</td>\n      <td>C</td>\n      <td>90.0</td>\n      <td>Cumings, Mrs. Florence Briggs (née Thayer)</td>\n      <td>35.0</td>\n      <td>New York, New York, US</td>\n      <td>Cherbourg</td>\n      <td>New York, New York, US</td>\n      <td>4</td>\n      <td>NaN</td>\n      <td>1.0</td>\n    </tr>\n    <tr>\n      <th>2</th>\n      <td>3</td>\n      <td>1.0</td>\n      <td>3</td>\n      <td>Heikkinen, Miss. Laina</td>\n      <td>female</td>\n      <td>26.0</td>\n      <td>0</td>\n      <td>0</td>\n      <td>STON/O2. 3101282</td>\n      <td>7.9250</td>\n      <td>...</td>\n      <td>S</td>\n      <td>865.0</td>\n      <td>Heikkinen, Miss Laina</td>\n      <td>26.0</td>\n      <td>Jyväskylä, Finland</td>\n      <td>Southampton</td>\n      <td>New York City</td>\n      <td>14?</td>\n      <td>NaN</td>\n      <td>3.0</td>\n    </tr>\n    <tr>\n      <th>3</th>\n      <td>4</td>\n      <td>1.0</td>\n      <td>1</td>\n      <td>Futrelle, Mrs. Jacques Heath (Lily May Peel)</td>\n      <td>female</td>\n      <td>35.0</td>\n      <td>1</td>\n      <td>0</td>\n      <td>113803</td>\n      <td>53.1000</td>\n      <td>...</td>\n      <td>S</td>\n      <td>127.0</td>\n      <td>Futrelle, Mrs. Lily May (née Peel)</td>\n      <td>35.0</td>\n      <td>Scituate, Massachusetts, US</td>\n      <td>Southampton</td>\n      <td>Scituate, Massachusetts, US</td>\n      <td>D</td>\n      <td>NaN</td>\n      <td>1.0</td>\n    </tr>\n    <tr>\n      <th>4</th>\n      <td>5</td>\n      <td>0.0</td>\n      <td>3</td>\n      <td>Allen, Mr. William Henry</td>\n      <td>male</td>\n      <td>35.0</td>\n      <td>0</td>\n      <td>0</td>\n      <td>373450</td>\n      <td>8.0500</td>\n      <td>...</td>\n      <td>S</td>\n      <td>627.0</td>\n      <td>Allen, Mr. William Henry</td>\n      <td>35.0</td>\n      <td>Birmingham, West Midlands, England</td>\n      <td>Southampton</td>\n      <td>New York City</td>\n      <td>NaN</td>\n      <td>NaN</td>\n      <td>3.0</td>\n    </tr>\n  </tbody>\n</table>\n<p>5 rows × 21 columns</p>\n</div>"
     },
     "execution_count": 45,
     "metadata": {},
     "output_type": "execute_result"
    }
   ]
  },
  {
   "cell_type": "code",
   "source": [
    "df2 = full[['Lifeboat', 'Pclass']].copy()\n",
    "\n",
    "df2 = df2[(df2.Lifeboat.notna()) & (df2.Lifeboat != '?')]\n",
    "\n",
    "df2.loc[df2.Lifeboat == '14?', 'Lifeboat'] = '14'\n",
    "df2.loc[df2.Lifeboat == '15?', 'Lifeboat'] = '15'\n",
    "df2.loc[df2.Lifeboat == 'A[64]', 'Lifeboat'] = 'A'\n",
    "\n",
    "df2 = pd.get_dummies(df2, columns=['Pclass'], prefix='', prefix_sep='')\n",
    "\n",
    "df2 = df2.groupby('Lifeboat', as_index=False).sum()\n",
    "\n",
    "order = ['7', '5', '3', '8', '1', '6', '16', '14', '12', '9',\n",
    "         '11', '13', '15', '2', '10', '4', 'C', 'D', 'B', 'A']\n",
    "df2 = df2.set_index('Lifeboat').reindex(order).reset_index()"
   ],
   "metadata": {
    "execution": {
     "iopub.status.busy": "2022-01-21T11:12:32.436993Z",
     "iopub.execute_input": "2022-01-21T11:12:32.437324Z",
     "iopub.status.idle": "2022-01-21T11:12:32.462056Z",
     "shell.execute_reply.started": "2022-01-21T11:12:32.437287Z",
     "shell.execute_reply": "2022-01-21T11:12:32.461032Z"
    },
    "trusted": true
   },
   "execution_count": 46,
   "outputs": []
  },
  {
   "cell_type": "code",
   "source": [
    "df2['1_per'] = df2['1'] / (df2['1'] + df2['2'] + df2['3']) * 100\n",
    "df2['2_per'] = df2['2'] / (df2['1'] + df2['2'] + df2['3']) * 100\n",
    "df2['3_per'] = df2['3'] / (df2['1'] + df2['2'] + df2['3']) * 100\n",
    "\n",
    "\n",
    "df2['1_ang'] = df2['1_per'] / 100 * 2 * np.pi\n",
    "df2['2_ang'] = df2['2_per'] / 100 * 2 * np.pi\n",
    "df2['3_ang'] = df2['3_per'] / 100 * 2 * np.pi\n",
    "\n",
    "df2.head()\n",
    "\n",
    "df2_plot=pd.DataFrame({'class': ['Class 1', 'Class 2', 'Class 3'],\n",
    "                       'percent': [float('nan'), float('nan'), float('nan')],\n",
    "                       'angle': [float('nan'), float('nan'), float('nan')],\n",
    "                       'color': ['#c9d9d3', '#718dbf', '#e84d60']})"
   ],
   "metadata": {
    "execution": {
     "iopub.status.busy": "2022-01-21T11:12:35.145226Z",
     "iopub.execute_input": "2022-01-21T11:12:35.145922Z",
     "iopub.status.idle": "2022-01-21T11:12:35.151282Z",
     "shell.execute_reply.started": "2022-01-21T11:12:35.145873Z",
     "shell.execute_reply": "2022-01-21T11:12:35.150663Z"
    },
    "trusted": true
   },
   "execution_count": 47,
   "outputs": []
  },
  {
   "cell_type": "code",
   "source": [
    "            # Create the ColumnDataSource objects \"s2\" and \"s2_plot\"\n",
    "s2 = ColumnDataSource(df2)\n",
    "s2_plot = ColumnDataSource(df2_plot)\n",
    "\n",
    "# Create the Figure object \"p2\"\n",
    "p2 = figure(plot_width=275, plot_height=350, y_range=(-0.5, 0.7),\n",
    "            toolbar_location=None, tools=['hover'], tooltips='@percent{0.0}%')\n",
    "\n",
    "# Add circular sectors to \"p2\"\n",
    "p2.wedge(x=0, y=0, radius=0.8, source=s2_plot,\n",
    "         start_angle=cumsum('angle', include_zero=True), end_angle=cumsum('angle'),\n",
    "         fill_color='color', line_color=None, legend='class')\n",
    "\n",
    "# Change parameters of \"p2\"\n",
    "p2.axis.visible = False\n",
    "p2.grid.grid_line_color = None\n",
    "p2.legend.orientation = 'horizontal'\n",
    "p2.legend.location = 'top_center'\n",
    "\n",
    "# Create the custom JavaScript callback\n",
    "callback2 = CustomJS(args=dict(s2=s2, s2_plot=s2_plot), code='''\n",
    "    var ang = ['1_ang', '2_ang', '3_ang'];\n",
    "    var per = ['1_per', '2_per', '3_per'];\n",
    "    if (cb_obj.value != 'Please choose...') {\n",
    "        var boat = s2.data['Lifeboat'];\n",
    "        var ind = boat.indexOf(cb_obj.value);\n",
    "        for (var i = 0; i < ang.length; i++) {\n",
    "            s2_plot.data['angle'][i] = s2.data[ang[i]][ind];\n",
    "            s2_plot.data['percent'][i] = s2.data[per[i]][ind];\n",
    "        }\n",
    "    }\n",
    "    else {\n",
    "        for (var i = 0; i < ang.length; i++) {\n",
    "            s2_plot.data['angle'][i] = undefined;\n",
    "            s2_plot.data['percent'][i] = undefined;\n",
    "        }\n",
    "\n",
    "    }\n",
    "    s2_plot.change.emit();\n",
    "''')\n",
    "\n",
    "# When changing the value of the dropdown menu execute \"callback2\"\n",
    "options = ['Please choose...'] + list(s2.data['Lifeboat'])\n",
    "select = Select(title='Lifeboat (in launch order)', value=options[0], options=options)\n",
    "select.js_on_change('value', callback2)\n",
    "\n",
    "# Display \"select\" and \"p2\" as a column\n",
    "show(column(select, p2))"
   ],
   "metadata": {
    "execution": {
     "iopub.status.busy": "2022-01-21T11:12:36.951226Z",
     "iopub.execute_input": "2022-01-21T11:12:36.951642Z",
     "iopub.status.idle": "2022-01-21T11:12:37.039899Z",
     "shell.execute_reply.started": "2022-01-21T11:12:36.951610Z",
     "shell.execute_reply": "2022-01-21T11:12:37.039072Z"
    },
    "trusted": true,
    "pycharm": {
     "name": "#%%\n"
    }
   },
   "execution_count": 48,
   "outputs": [
    {
     "name": "stderr",
     "output_type": "stream",
     "text": [
      "BokehDeprecationWarning: 'legend' keyword is deprecated, use explicit 'legend_label', 'legend_field', or 'legend_group' keywords instead\n"
     ]
    },
    {
     "data": {
      "text/html": "\n\n\n\n\n\n  <div class=\"bk-root\" id=\"9a22c2b5-e614-472b-ae27-0b593de09da2\" data-root-id=\"1557\"></div>\n"
     },
     "metadata": {},
     "output_type": "display_data"
    },
    {
     "data": {
      "application/javascript": "(function(root) {\n  function embed_document(root) {\n    \n  const docs_json = {\"72414466-41e7-4dbf-83d2-ec7848034df1\":{\"defs\":[],\"roots\":{\"references\":[{\"attributes\":{\"children\":[{\"id\":\"1556\"},{\"id\":\"1515\"}]},\"id\":\"1557\",\"type\":\"Column\"},{\"attributes\":{},\"id\":\"1522\",\"type\":\"LinearScale\"},{\"attributes\":{\"source\":{\"id\":\"1514\"}},\"id\":\"1542\",\"type\":\"CDSView\"},{\"attributes\":{\"end_angle\":{\"expr\":{\"id\":\"1536\"}},\"fill_alpha\":{\"value\":0.1},\"fill_color\":{\"field\":\"color\"},\"hatch_alpha\":{\"value\":0.1},\"line_alpha\":{\"value\":0.1},\"line_color\":{\"value\":null},\"radius\":{\"value\":0.8},\"start_angle\":{\"expr\":{\"id\":\"1535\"}},\"x\":{\"value\":0},\"y\":{\"value\":0}},\"id\":\"1539\",\"type\":\"Wedge\"},{\"attributes\":{\"field\":\"angle\",\"include_zero\":true},\"id\":\"1535\",\"type\":\"CumSum\"},{\"attributes\":{\"below\":[{\"id\":\"1524\"}],\"center\":[{\"id\":\"1527\"},{\"id\":\"1531\"},{\"id\":\"1553\"}],\"height\":350,\"left\":[{\"id\":\"1528\"}],\"renderers\":[{\"id\":\"1541\"}],\"title\":{\"id\":\"1543\"},\"toolbar\":{\"id\":\"1533\"},\"toolbar_location\":null,\"width\":275,\"x_range\":{\"id\":\"1516\"},\"x_scale\":{\"id\":\"1520\"},\"y_range\":{\"id\":\"1518\"},\"y_scale\":{\"id\":\"1522\"}},\"id\":\"1515\",\"subtype\":\"Figure\",\"type\":\"Plot\"},{\"attributes\":{\"label\":{\"field\":\"class\"},\"renderers\":[{\"id\":\"1541\"}]},\"id\":\"1554\",\"type\":\"LegendItem\"},{\"attributes\":{\"coordinates\":null,\"formatter\":{\"id\":\"1549\"},\"group\":null,\"major_label_policy\":{\"id\":\"1550\"},\"ticker\":{\"id\":\"1525\"},\"visible\":false},\"id\":\"1524\",\"type\":\"LinearAxis\"},{\"attributes\":{},\"id\":\"1516\",\"type\":\"DataRange1d\"},{\"attributes\":{},\"id\":\"1546\",\"type\":\"BasicTickFormatter\"},{\"attributes\":{\"callback\":null,\"tooltips\":\"@percent{0.0}%\"},\"id\":\"1532\",\"type\":\"HoverTool\"},{\"attributes\":{\"data\":{\"angle\":{\"__ndarray__\":\"AAAAAAAA+H8AAAAAAAD4fwAAAAAAAPh/\",\"dtype\":\"float64\",\"order\":\"little\",\"shape\":[3]},\"class\":[\"Class 1\",\"Class 2\",\"Class 3\"],\"color\":[\"#c9d9d3\",\"#718dbf\",\"#e84d60\"],\"index\":[0,1,2],\"percent\":{\"__ndarray__\":\"AAAAAAAA+H8AAAAAAAD4fwAAAAAAAPh/\",\"dtype\":\"float64\",\"order\":\"little\",\"shape\":[3]}},\"selected\":{\"id\":\"1552\"},\"selection_policy\":{\"id\":\"1551\"}},\"id\":\"1514\",\"type\":\"ColumnDataSource\"},{\"attributes\":{\"end\":0.7,\"start\":-0.5},\"id\":\"1518\",\"type\":\"Range1d\"},{\"attributes\":{\"js_property_callbacks\":{\"change:value\":[{\"id\":\"1555\"}]},\"options\":[\"Please choose...\",\"7\",\"5\",\"3\",\"8\",\"1\",\"6\",\"16\",\"14\",\"12\",\"9\",\"11\",\"13\",\"15\",\"2\",\"10\",\"4\",\"C\",\"D\",\"B\",\"A\"],\"title\":\"Lifeboat (in launch order)\",\"value\":\"Please choose...\"},\"id\":\"1556\",\"type\":\"Select\"},{\"attributes\":{},\"id\":\"1547\",\"type\":\"AllLabels\"},{\"attributes\":{\"args\":{\"s2\":{\"id\":\"1513\"},\"s2_plot\":{\"id\":\"1514\"}},\"code\":\"\\n    var ang = ['1_ang', '2_ang', '3_ang'];\\n    var per = ['1_per', '2_per', '3_per'];\\n    if (cb_obj.value != 'Please choose...') {\\n        var boat = s2.data['Lifeboat'];\\n        var ind = boat.indexOf(cb_obj.value);\\n        for (var i = 0; i < ang.length; i++) {\\ns2_plot.data['angle'][i] = s2.data[ang[i]][ind];\\ns2_plot.data['percent'][i] = s2.data[per[i]][ind];\\n        }\\n    }\\n    else {\\n        for (var i = 0; i < ang.length; i++) {\\ns2_plot.data['angle'][i] = undefined;\\ns2_plot.data['percent'][i] = undefined;\\n        }\\n\\n    }\\n    s2_plot.change.emit();\\n\"},\"id\":\"1555\",\"type\":\"CustomJS\"},{\"attributes\":{},\"id\":\"1525\",\"type\":\"BasicTicker\"},{\"attributes\":{},\"id\":\"1551\",\"type\":\"UnionRenderers\"},{\"attributes\":{},\"id\":\"1612\",\"type\":\"UnionRenderers\"},{\"attributes\":{},\"id\":\"1552\",\"type\":\"Selection\"},{\"attributes\":{\"end_angle\":{\"expr\":{\"id\":\"1536\"}},\"fill_color\":{\"field\":\"color\"},\"line_color\":{\"value\":null},\"radius\":{\"value\":0.8},\"start_angle\":{\"expr\":{\"id\":\"1535\"}},\"x\":{\"value\":0},\"y\":{\"value\":0}},\"id\":\"1538\",\"type\":\"Wedge\"},{\"attributes\":{\"field\":\"angle\"},\"id\":\"1536\",\"type\":\"CumSum\"},{\"attributes\":{\"coordinates\":null,\"formatter\":{\"id\":\"1546\"},\"group\":null,\"major_label_policy\":{\"id\":\"1547\"},\"ticker\":{\"id\":\"1529\"},\"visible\":false},\"id\":\"1528\",\"type\":\"LinearAxis\"},{\"attributes\":{\"coordinates\":null,\"group\":null},\"id\":\"1543\",\"type\":\"Title\"},{\"attributes\":{\"axis\":{\"id\":\"1524\"},\"coordinates\":null,\"grid_line_color\":null,\"group\":null,\"ticker\":null},\"id\":\"1527\",\"type\":\"Grid\"},{\"attributes\":{\"data\":{\"1\":{\"__ndarray__\":\"FR0aGAUUAAUABgYBAQgIGAIIAwQ=\",\"dtype\":\"uint8\",\"order\":\"little\",\"shape\":[20]},\"1_ang\":{\"__ndarray__\":\"OuWGLYf9F0AYLURU+yEZQBgtRFT7IRlAGC1EVPshGUAYLURU+yEZQLRbHAea7xdAAAAAAAAAAABAobs7H7nsPwAAAAAAAAAAPQJ6YQ8z9z89AnphDzP3PyoWfdIUJsM/GsnBHSqfxD9Aobs7H7kMQN2SOeqQu/s/2eCXrCV1E0D0HJnwpJ3TP4dE50oYVwZAZHMtOFLBAEBkcy04UsEAQA==\",\"dtype\":\"float64\",\"order\":\"little\",\"shape\":[20]},\"1_per\":{\"__ndarray__\":\"XXTRRRfdV0AAAAAAAABZQAAAAAAAAFlAAAAAAAAAWUAAAAAAAABZQPM8z/M8z1dAAAAAAAAAAAAkSZIkSZIsQAAAAAAAAAAAO7ETO7ETN0A7sRM7sRM3QMMwDMMwDANANEiDNEiDBEAkSZIkSZJMQBphuacRljtAW2uttdZaU0CD8zE4H4MTQI7jOI7jOEZAqqqqqqqqQECqqqqqqqpAQA==\",\"dtype\":\"float64\",\"order\":\"little\",\"shape\":[20]},\"2\":{\"__ndarray__\":\"AQAAAAAAAxgQEQ8MAQAQBwACAQA=\",\"dtype\":\"uint8\",\"order\":\"little\",\"shape\":[20]},\"2_ang\":{\"__ndarray__\":\"433Ua0JH0j8AAAAAAAAAAAAAAAAAAAAAAAAAAAAAAAAAAAAAAAAAAAAAAAAAAAAAyxjuV7g56j/AYD2K3zsRQIdE50oYVxZAQWy2j9VuEEDMgtg50/8MQEChuzsfufw/GsnBHSqfxD8AAAAAAAAAAN2SOeqQuwtA/DCxnlaz9j8AAAAAAAAAAIdE50oYV+Y/h0TnShhX5j8AAAAAAAAAAA==\",\"dtype\":\"float64\",\"order\":\"little\",\"shape\":[20]},\"2_per\":{\"__ndarray__\":\"L7rooosuEkAAAAAAAAAAAAAAAAAAAAAAAAAAAAAAAAAAAAAAAAAAAAAAAAAAAAAAIQtZyEIWKkBJkiRJkiRRQI7jOI7jOFZAip3YiZ1YUECJndiJndhMQCRJkiRJkjxANEiDNEiDBEAAAAAAAAAAABphuacRlktAlFJKKaWUNkAAAAAAAAAAAI7jOI7jOCZAjuM4juM4JkAAAAAAAAAAAA==\",\"dtype\":\"float64\",\"order\":\"little\",\"shape\":[20]},\"3\":{\"__ndarray__\":\"AAAAAAABFAYCAwUdJQYFACcIBQg=\",\"dtype\":\"uint8\",\"order\":\"little\",\"shape\":[20]},\"3_ang\":{\"__ndarray__\":\"AAAAAAAAAAAAAAAAAAAAAAAAAAAAAAAAAAAAAAAAAAAAAAAAAAAAACoWfdIUJtM//mlGScTaFUDAYD2K3zvxP4dE50oYV+Y/PQJ6YQ8z5z+KrOV7N1XzPxdcwd6CWhFAhRBosgjYF0DwuMxs14oFQMr7Y5I6VfE/AAAAAAAAAABJmzoFIegXQIdE50oYVwZAqRWhXd7sC0Bkcy04UsEQQA==\",\"dtype\":\"float64\",\"order\":\"little\",\"shape\":[20]},\"3_per\":{\"__ndarray__\":\"AAAAAAAAAAAAAAAAAAAAAAAAAAAAAAAAAAAAAAAAAAAAAAAAAAAAAMMwDMMwDBNAnN70pje9VUBJkiRJkiQxQI7jOI7jOCZAO7ETO7ETJ0CyEzuxEzszQDEMwzAMQ1FAfMu3fMu3V0Dbtm3btm1FQLHc0wjLPTFAAAAAAAAAAADI4HwMzsdXQI7jOI7jOEZAchzHcRzHS0CqqqqqqqpQQA==\",\"dtype\":\"float64\",\"order\":\"little\",\"shape\":[20]},\"Lifeboat\":[\"7\",\"5\",\"3\",\"8\",\"1\",\"6\",\"16\",\"14\",\"12\",\"9\",\"11\",\"13\",\"15\",\"2\",\"10\",\"4\",\"C\",\"D\",\"B\",\"A\"],\"index\":[0,1,2,3,4,5,6,7,8,9,10,11,12,13,14,15,16,17,18,19]},\"selected\":{\"id\":\"1613\"},\"selection_policy\":{\"id\":\"1612\"}},\"id\":\"1513\",\"type\":\"ColumnDataSource\"},{\"attributes\":{},\"id\":\"1550\",\"type\":\"AllLabels\"},{\"attributes\":{},\"id\":\"1613\",\"type\":\"Selection\"},{\"attributes\":{},\"id\":\"1520\",\"type\":\"LinearScale\"},{\"attributes\":{},\"id\":\"1549\",\"type\":\"BasicTickFormatter\"},{\"attributes\":{\"tools\":[{\"id\":\"1532\"}]},\"id\":\"1533\",\"type\":\"Toolbar\"},{\"attributes\":{\"axis\":{\"id\":\"1528\"},\"coordinates\":null,\"dimension\":1,\"grid_line_color\":null,\"group\":null,\"ticker\":null},\"id\":\"1531\",\"type\":\"Grid\"},{\"attributes\":{\"coordinates\":null,\"group\":null,\"items\":[{\"id\":\"1554\"}],\"location\":\"top_center\",\"orientation\":\"horizontal\"},\"id\":\"1553\",\"type\":\"Legend\"},{\"attributes\":{\"end_angle\":{\"expr\":{\"id\":\"1536\"}},\"fill_alpha\":{\"value\":0.2},\"fill_color\":{\"field\":\"color\"},\"hatch_alpha\":{\"value\":0.2},\"line_alpha\":{\"value\":0.2},\"line_color\":{\"value\":null},\"radius\":{\"value\":0.8},\"start_angle\":{\"expr\":{\"id\":\"1535\"}},\"x\":{\"value\":0},\"y\":{\"value\":0}},\"id\":\"1540\",\"type\":\"Wedge\"},{\"attributes\":{\"coordinates\":null,\"data_source\":{\"id\":\"1514\"},\"glyph\":{\"id\":\"1538\"},\"group\":null,\"hover_glyph\":null,\"muted_glyph\":{\"id\":\"1540\"},\"nonselection_glyph\":{\"id\":\"1539\"},\"view\":{\"id\":\"1542\"}},\"id\":\"1541\",\"type\":\"GlyphRenderer\"},{\"attributes\":{},\"id\":\"1529\",\"type\":\"BasicTicker\"}],\"root_ids\":[\"1557\"]},\"title\":\"Bokeh Application\",\"version\":\"2.4.2\"}};\n  const render_items = [{\"docid\":\"72414466-41e7-4dbf-83d2-ec7848034df1\",\"root_ids\":[\"1557\"],\"roots\":{\"1557\":\"9a22c2b5-e614-472b-ae27-0b593de09da2\"}}];\n  root.Bokeh.embed.embed_items_notebook(docs_json, render_items);\n\n  }\n  if (root.Bokeh !== undefined) {\n    embed_document(root);\n  } else {\n    let attempts = 0;\n    const timer = setInterval(function(root) {\n      if (root.Bokeh !== undefined) {\n        clearInterval(timer);\n        embed_document(root);\n      } else {\n        attempts++;\n        if (attempts > 100) {\n          clearInterval(timer);\n          console.log(\"Bokeh: ERROR: Unable to run BokehJS code because BokehJS library is missing\");\n        }\n      }\n    }, 10, root)\n  }\n})(window);",
      "application/vnd.bokehjs_exec.v0+json": ""
     },
     "metadata": {
      "application/vnd.bokehjs_exec.v0+json": {
       "id": "1557"
      }
     },
     "output_type": "display_data"
    }
   ]
  }
 ]
}